{
 "cells": [
  {
   "cell_type": "code",
   "execution_count": 1,
   "metadata": {},
   "outputs": [
    {
     "name": "stdout",
     "output_type": "stream",
     "text": [
      "^C\n",
      "Note: you may need to restart the kernel to use updated packages.\n"
     ]
    }
   ],
   "source": [
    "%pip install -r requirements.txt"
   ]
  },
  {
   "cell_type": "code",
   "execution_count": 1,
   "metadata": {},
   "outputs": [],
   "source": [
    "import pandas as pd\n",
    "import matplotlib.pyplot as plt\n",
    "import os\n",
    "import plotly.express as px\n",
    "import plotly.graph_objects as go"
   ]
  },
  {
   "cell_type": "code",
   "execution_count": 2,
   "metadata": {},
   "outputs": [
    {
     "data": {
      "text/plain": [
       "dict_keys(['scenario-1-100', 'scenario-1-150', 'scenario-1-200', 'scenario-1-25', 'scenario-1-50', 'scenario-15-100', 'scenario-15-150', 'scenario-15-200', 'scenario-15-25', 'scenario-15-50', 'scenario-3-100', 'scenario-3-150', 'scenario-3-200', 'scenario-3-25', 'scenario-3-50', 'scenario-6-100', 'scenario-6-150', 'scenario-6-200', 'scenario-6-25', 'scenario-6-50', 'scenario-9-100', 'scenario-9-150', 'scenario-9-200', 'scenario-9-25', 'scenario-9-50'])"
      ]
     },
     "execution_count": 2,
     "metadata": {},
     "output_type": "execute_result"
    }
   ],
   "source": [
    "directory = '../java/resources/results/'\n",
    "all_cases_cloudlets = {}\n",
    "all_cases_vms = {}\n",
    "all_cases_brokers = {}\n",
    "\n",
    "for filename in os.listdir(directory):\n",
    "    \n",
    "    base= os.path.basename(filename)\n",
    "    name = os.path.splitext(base)[0]\n",
    "    # print(i)\n",
    "    \n",
    "    aux_df = pd.read_csv(directory+filename+'/cloudlets_results.csv')\n",
    "    aux_df.rename(columns={'Cloudlet ID':'task', 'Start Time':'start_time', 'Finish Time':'finish_time', 'Execution Time':'duration', 'VM ID':'vm'}, inplace=True)\n",
    "    all_cases_cloudlets[name] = aux_df\n",
    "    aux_vms = pd.read_csv(directory+filename+'/vms_results.csv')\n",
    "    aux_vms.rename(columns={'VM ID':'vm', 'VM Load':'vm_load', 'Total Execution Time':'duration'}, inplace=True)\n",
    "    all_cases_vms[name] = aux_vms\n",
    "    aux_brokers = pd.read_csv(directory+filename+'/brokers_results.csv')\n",
    "    aux_brokers.rename(columns={'Cpu Utilization':'utilization'}, inplace=True)\n",
    "    all_cases_brokers[name] = aux_brokers\n",
    "    \n",
    "all_cases_cloudlets.keys()"
   ]
  },
  {
   "cell_type": "code",
   "execution_count": 3,
   "metadata": {},
   "outputs": [
    {
     "data": {
      "text/plain": [
       "'scenario-6-25'"
      ]
     },
     "execution_count": 3,
     "metadata": {},
     "output_type": "execute_result"
    }
   ],
   "source": [
    "scenario = 'scenario-6-25'\n",
    "current_case = all_cases_cloudlets[scenario]\n",
    "current_case_vms = all_cases_vms[scenario]\n",
    "scenario"
   ]
  },
  {
   "cell_type": "code",
   "execution_count": 5,
   "metadata": {},
   "outputs": [
    {
     "data": {
      "text/html": [
       "<div>\n",
       "<style scoped>\n",
       "    .dataframe tbody tr th:only-of-type {\n",
       "        vertical-align: middle;\n",
       "    }\n",
       "\n",
       "    .dataframe tbody tr th {\n",
       "        vertical-align: top;\n",
       "    }\n",
       "\n",
       "    .dataframe thead th {\n",
       "        text-align: right;\n",
       "    }\n",
       "</style>\n",
       "<table border=\"1\" class=\"dataframe\">\n",
       "  <thead>\n",
       "    <tr style=\"text-align: right;\">\n",
       "      <th></th>\n",
       "      <th>Broker</th>\n",
       "      <th>task</th>\n",
       "      <th>vm</th>\n",
       "      <th>duration</th>\n",
       "      <th>start_time</th>\n",
       "      <th>finish_time</th>\n",
       "      <th>CPU Utilization Start</th>\n",
       "      <th>CPU Utilization Finish</th>\n",
       "    </tr>\n",
       "  </thead>\n",
       "  <tbody>\n",
       "    <tr>\n",
       "      <th>0</th>\n",
       "      <td>DatacenterBrokerSimple</td>\n",
       "      <td>0</td>\n",
       "      <td>0</td>\n",
       "      <td>21</td>\n",
       "      <td>0</td>\n",
       "      <td>22</td>\n",
       "      <td>1</td>\n",
       "      <td>1</td>\n",
       "    </tr>\n",
       "    <tr>\n",
       "      <th>1</th>\n",
       "      <td>DatacenterBrokerSimple</td>\n",
       "      <td>16</td>\n",
       "      <td>4</td>\n",
       "      <td>22</td>\n",
       "      <td>0</td>\n",
       "      <td>22</td>\n",
       "      <td>1</td>\n",
       "      <td>1</td>\n",
       "    </tr>\n",
       "    <tr>\n",
       "      <th>2</th>\n",
       "      <td>DatacenterBrokerSimple</td>\n",
       "      <td>4</td>\n",
       "      <td>4</td>\n",
       "      <td>24</td>\n",
       "      <td>0</td>\n",
       "      <td>24</td>\n",
       "      <td>1</td>\n",
       "      <td>1</td>\n",
       "    </tr>\n",
       "    <tr>\n",
       "      <th>3</th>\n",
       "      <td>DatacenterBrokerSimple</td>\n",
       "      <td>7</td>\n",
       "      <td>1</td>\n",
       "      <td>29</td>\n",
       "      <td>0</td>\n",
       "      <td>29</td>\n",
       "      <td>1</td>\n",
       "      <td>1</td>\n",
       "    </tr>\n",
       "    <tr>\n",
       "      <th>4</th>\n",
       "      <td>DatacenterBrokerSimple</td>\n",
       "      <td>3</td>\n",
       "      <td>3</td>\n",
       "      <td>33</td>\n",
       "      <td>0</td>\n",
       "      <td>33</td>\n",
       "      <td>1</td>\n",
       "      <td>1</td>\n",
       "    </tr>\n",
       "    <tr>\n",
       "      <th>...</th>\n",
       "      <td>...</td>\n",
       "      <td>...</td>\n",
       "      <td>...</td>\n",
       "      <td>...</td>\n",
       "      <td>...</td>\n",
       "      <td>...</td>\n",
       "      <td>...</td>\n",
       "      <td>...</td>\n",
       "    </tr>\n",
       "    <tr>\n",
       "      <th>70</th>\n",
       "      <td>DatacenterBrokerHeuristic</td>\n",
       "      <td>10</td>\n",
       "      <td>5</td>\n",
       "      <td>137</td>\n",
       "      <td>0</td>\n",
       "      <td>137</td>\n",
       "      <td>1</td>\n",
       "      <td>1</td>\n",
       "    </tr>\n",
       "    <tr>\n",
       "      <th>71</th>\n",
       "      <td>DatacenterBrokerHeuristic</td>\n",
       "      <td>11</td>\n",
       "      <td>2</td>\n",
       "      <td>201</td>\n",
       "      <td>0</td>\n",
       "      <td>201</td>\n",
       "      <td>1</td>\n",
       "      <td>1</td>\n",
       "    </tr>\n",
       "    <tr>\n",
       "      <th>72</th>\n",
       "      <td>DatacenterBrokerHeuristic</td>\n",
       "      <td>1</td>\n",
       "      <td>2</td>\n",
       "      <td>212</td>\n",
       "      <td>0</td>\n",
       "      <td>212</td>\n",
       "      <td>1</td>\n",
       "      <td>1</td>\n",
       "    </tr>\n",
       "    <tr>\n",
       "      <th>73</th>\n",
       "      <td>DatacenterBrokerHeuristic</td>\n",
       "      <td>19</td>\n",
       "      <td>5</td>\n",
       "      <td>143</td>\n",
       "      <td>137</td>\n",
       "      <td>280</td>\n",
       "      <td>1</td>\n",
       "      <td>1</td>\n",
       "    </tr>\n",
       "    <tr>\n",
       "      <th>74</th>\n",
       "      <td>DatacenterBrokerHeuristic</td>\n",
       "      <td>14</td>\n",
       "      <td>5</td>\n",
       "      <td>162</td>\n",
       "      <td>135</td>\n",
       "      <td>297</td>\n",
       "      <td>1</td>\n",
       "      <td>1</td>\n",
       "    </tr>\n",
       "  </tbody>\n",
       "</table>\n",
       "<p>75 rows × 8 columns</p>\n",
       "</div>"
      ],
      "text/plain": [
       "                       Broker  task  vm  duration  start_time  finish_time  \\\n",
       "0      DatacenterBrokerSimple     0   0        21           0           22   \n",
       "1      DatacenterBrokerSimple    16   4        22           0           22   \n",
       "2      DatacenterBrokerSimple     4   4        24           0           24   \n",
       "3      DatacenterBrokerSimple     7   1        29           0           29   \n",
       "4      DatacenterBrokerSimple     3   3        33           0           33   \n",
       "..                        ...   ...  ..       ...         ...          ...   \n",
       "70  DatacenterBrokerHeuristic    10   5       137           0          137   \n",
       "71  DatacenterBrokerHeuristic    11   2       201           0          201   \n",
       "72  DatacenterBrokerHeuristic     1   2       212           0          212   \n",
       "73  DatacenterBrokerHeuristic    19   5       143         137          280   \n",
       "74  DatacenterBrokerHeuristic    14   5       162         135          297   \n",
       "\n",
       "    CPU Utilization Start  CPU Utilization Finish  \n",
       "0                       1                       1  \n",
       "1                       1                       1  \n",
       "2                       1                       1  \n",
       "3                       1                       1  \n",
       "4                       1                       1  \n",
       "..                    ...                     ...  \n",
       "70                      1                       1  \n",
       "71                      1                       1  \n",
       "72                      1                       1  \n",
       "73                      1                       1  \n",
       "74                      1                       1  \n",
       "\n",
       "[75 rows x 8 columns]"
      ]
     },
     "execution_count": 5,
     "metadata": {},
     "output_type": "execute_result"
    }
   ],
   "source": [
    "current_case"
   ]
  },
  {
   "cell_type": "code",
   "execution_count": 22,
   "metadata": {},
   "outputs": [],
   "source": [
    "available_colors = [\n",
    "    'red', 'lightblue', 'gold', 'darkgreen', 'pink', 'navy', 'orange',\n",
    "    'green', 'lightyellow', 'purple', 'lightcoral', 'teal', 'tomato',\n",
    "    'aliceblue', 'darkkhaki', 'mediumblue', 'chartreuse', 'black',\n",
    "    'aquamarine', 'firebrick', 'lavender', 'yellowgreen', 'darkorchid',\n",
    "    'blue', 'mediumseagreen', 'fuchsia', 'burlywood', 'indigo',\n",
    "    'lightseagreen', 'khaki', 'skyblue', 'salmon', 'violet', 'ivory',\n",
    "    'darkblue', 'forestgreen', 'blueviolet', 'beige', 'sandybrown',\n",
    "    'lightgray', 'deepskyblue', 'brown', 'hotpink', 'azure', 'olivedrab',\n",
    "    'mediumspringgreen', 'lavenderblush', 'dimgray', 'mediumorchid',\n",
    "    'snow', 'dodgerblue', 'chocolate', 'whitesmoke', 'palevioletred',\n",
    "    'powderblue', 'plum', 'crimson', 'floralwhite', 'darkred', 'tan',\n",
    "    'darkgray', 'seagreen', 'rosybrown', 'yellow', 'darkgoldenrod',\n",
    "    'mediumpurple', 'gainsboro', 'sienna', 'chartreuse', 'palegreen',\n",
    "    'wheat', 'ghostwhite', 'maroon', 'darkolivegreen', 'mintcream',\n",
    "    'slategray', 'linen', 'lightpink', 'orchid', 'cornsilk', 'goldenrod',\n",
    "    'steelblue', 'darkturquoise', 'tomato', 'palegoldenrod', 'lightsteelblue',\n",
    "    'orange', 'cadetblue', 'papayawhip', 'lightgreen', 'lemonchiffon',\n",
    "    'mediumvioletred', 'blanchedalmond', 'darkslategray', 'moccasin',\n",
    "    'lightcyan', 'greenyellow', 'royalblue', 'darkmagenta', 'honeydew',\n",
    "    'springgreen', 'peru', 'aqua', 'navajowhite', 'oldlace', 'lightgoldenrodyellow',\n",
    "    'darkviolet', 'rebeccapurple', 'crimson', 'coral', 'cornflowerblue',\n",
    "    'thistle', 'indianred', 'seashell', 'palevioletred', 'slateblue', 'lightgrey'\n",
    "]\n"
   ]
  },
  {
   "cell_type": "code",
   "execution_count": 21,
   "metadata": {},
   "outputs": [
    {
     "data": {
      "text/plain": [
       "{np.int64(0): 'aliceblue',\n",
       " np.int64(4): 'antiquewhite',\n",
       " np.int64(1): 'aqua',\n",
       " np.int64(3): 'aquamarine',\n",
       " np.int64(5): 'azure',\n",
       " np.int64(2): 'beige'}"
      ]
     },
     "execution_count": 21,
     "metadata": {},
     "output_type": "execute_result"
    }
   ],
   "source": [
    "color_map"
   ]
  },
  {
   "cell_type": "code",
   "execution_count": 35,
   "metadata": {},
   "outputs": [
    {
     "data": {
      "image/png": "[encoded data removed]",
      "text/plain": [
       "<Figure size 1200x1800 with 3 Axes>"
      ]
     },
     "metadata": {},
     "output_type": "display_data"
    }
   ],
   "source": [
    "# Filtrar los datos por cada broker\n",
    "brokers = current_case['Broker'].unique()\n",
    "num_brokers = len(brokers)\n",
    "# Crear subplots\n",
    "fig, axs = plt.subplots(num_brokers, 1, figsize=(12, 6 * num_brokers), sharex=True)\n",
    "\n",
    "# Si solo hay un broker, axs no será una lista, así que lo convertimos en una lista\n",
    "if num_brokers == 1:\n",
    "    axs = [axs]\n",
    "\n",
    "# Crear un gráfico para cada broker\n",
    "for ax, broker in zip(axs, brokers):\n",
    "    broker_data = current_case[current_case['Broker'] == broker]\n",
    "    for i, task in broker_data.iterrows():\n",
    "        ax.barh(y=task['task'], width=task['duration'], left=task['start_time'], height=0.4, color=available_colors[task['vm']])\n",
    "        # ax.barh(y=task['task'], width=task['duration'], left=task['start_time'], height=0.4, color=color_map.get(task['Broker'], 'gray'))\n",
    "    ax.set_ylabel('ID de Tarea')\n",
    "    ax.set_title(f'Gráfico de Gantt de Tareas - {broker} - {scenario}')\n",
    "\n",
    "# Configurar el eje x compartido\n",
    "axs[-1].set_xlabel('Tiempo')\n",
    "# agregar leyenda de colores\n",
    "legend_elements = [plt.Line2D([0], [0], color=available_colors[i], label=f'VM {i}') for i in range(len(current_case_vms['vm'].unique()))]\n",
    "fig.legend(handles=legend_elements, loc='center left', title='VMs', title_fontsize='large', fontsize='large', bbox_to_anchor=(1, 0.5))\n",
    "\n",
    "\n",
    "plt.tight_layout(rect=[0, 0, 1, 1])  # Ajustar el espacio para la leyenda\n",
    "plt.show()"
   ]
  },
  {
   "cell_type": "code",
   "execution_count": 9,
   "metadata": {},
   "outputs": [
    {
     "data": {
      "text/plain": [
       "0    876.08\n",
       "1    557.96\n",
       "2    752.15\n",
       "Name: Maskespan, dtype: float64"
      ]
     },
     "execution_count": 9,
     "metadata": {},
     "output_type": "execute_result"
    }
   ],
   "source": [
    "all_cases_brokers['scenario-15-200']['Maskespan']"
   ]
  },
  {
   "cell_type": "code",
   "execution_count": 11,
   "metadata": {},
   "outputs": [],
   "source": [
    "# speedup (mejor maquina vs tiempo)\n",
    "speedups = {}\n",
    "for scenario in all_cases_brokers.keys():\n",
    "    current_case = all_cases_brokers[scenario]\n",
    "    vms = scenario.split('-')[1]\n",
    "    if vms == '1':\n",
    "        continue\n",
    "    cloudlets = scenario.split('-')[2]\n",
    "    secuential_times = all_cases_brokers[f'scenario-1-{cloudlets}']\n",
    "    if(cloudlets not in speedups):\n",
    "        speedups[cloudlets] = {}\n",
    "    if(vms not in speedups[cloudlets]):\n",
    "        speedups[cloudlets][vms] = {}\n",
    "\n",
    "    for broker in current_case['Broker'].unique():\n",
    "        if broker == 'DatacenterBrokerSimple':\n",
    "            new_name = 'Simple'\n",
    "        elif broker == 'DatacenterBrokerPSO':\n",
    "            new_name = 'PSO'\n",
    "        else:\n",
    "            new_name = 'Heuristic'\n",
    "        broker_data = current_case[current_case['Broker'] == broker]\n",
    "        speedups[cloudlets][vms][new_name] = float(secuential_times[secuential_times['Broker'] == broker]['Maskespan'].values[0]) / float(broker_data['Maskespan'].values[0])\n",
    "    speedups[cloudlets] = dict(sorted(speedups[cloudlets].items(), key=lambda item: int(item[0])))\n",
    "speedups = dict(sorted(speedups.items(), key=lambda item: int(item[0])))\n"
   ]
  },
  {
   "cell_type": "code",
   "execution_count": 12,
   "metadata": {},
   "outputs": [
    {
     "data": {
      "text/plain": [
       "{'25': {'3': {'Simple': 0.6986885538406636,\n",
       "   'PSO': 1.8283606480832983,\n",
       "   'Heuristic': 0.970987899226344},\n",
       "  '6': {'Simple': 1.029552505652837,\n",
       "   'PSO': 1.828189924833092,\n",
       "   'Heuristic': 1.3183623998383946},\n",
       "  '9': {'Simple': 1.0840485022977686,\n",
       "   'PSO': 2.362331081081081,\n",
       "   'Heuristic': 1.9342059767843913},\n",
       "  '15': {'Simple': 2.0532746054218447,\n",
       "   'PSO': 2.506112,\n",
       "   'Heuristic': 1.87529332886356}},\n",
       " '50': {'3': {'Simple': 0.9077751781925023,\n",
       "   'PSO': 2.3062036934645582,\n",
       "   'Heuristic': 0.9261376883194742},\n",
       "  '6': {'Simple': 1.4961618480522278,\n",
       "   'PSO': 2.2814166552714346,\n",
       "   'Heuristic': 1.145186974905277},\n",
       "  '9': {'Simple': 2.0284991732321758,\n",
       "   'PSO': 3.961439832842625,\n",
       "   'Heuristic': 2.128061224489796},\n",
       "  '15': {'Simple': 2.583782444403147,\n",
       "   'PSO': 4.970802049815279,\n",
       "   'Heuristic': 1.7913204062788552}},\n",
       " '100': {'3': {'Simple': 0.7896220762267543,\n",
       "   'PSO': 2.0947954071277515,\n",
       "   'Heuristic': 0.8721238049091791},\n",
       "  '6': {'Simple': 1.4913505648404504,\n",
       "   'PSO': 2.935888765117759,\n",
       "   'Heuristic': 1.2496338128339077},\n",
       "  '9': {'Simple': 1.8270304395726824,\n",
       "   'PSO': 4.702510673548716,\n",
       "   'Heuristic': 2.7721159986476844},\n",
       "  '15': {'Simple': 2.6695304586890467,\n",
       "   'PSO': 5.191452690819557,\n",
       "   'Heuristic': 2.449310476443353}},\n",
       " '150': {'3': {'Simple': 0.8331837339272984,\n",
       "   'PSO': 2.2447107059689904,\n",
       "   'Heuristic': 0.8628205520533693},\n",
       "  '6': {'Simple': 1.5034259358003625,\n",
       "   'PSO': 2.4266764209099416,\n",
       "   'Heuristic': 1.2382222807768737},\n",
       "  '9': {'Simple': 1.8801533716762522,\n",
       "   'PSO': 3.8939009442919534,\n",
       "   'Heuristic': 2.4885206473891506},\n",
       "  '15': {'Simple': 3.1064011458161183,\n",
       "   'PSO': 6.071982340906643,\n",
       "   'Heuristic': 4.335229675187392}},\n",
       " '200': {'3': {'Simple': 0.874219536468476,\n",
       "   'PSO': 2.306478706982657,\n",
       "   'Heuristic': 0.7589825950549041},\n",
       "  '6': {'Simple': 1.5795405670105764,\n",
       "   'PSO': 2.2634553123236403,\n",
       "   'Heuristic': 1.2097225474360145},\n",
       "  '9': {'Simple': 2.1066909025565175,\n",
       "   'PSO': 4.042532028328162,\n",
       "   'Heuristic': 2.317914283976153},\n",
       "  '15': {'Simple': 3.479305542872797,\n",
       "   'PSO': 5.463026023370851,\n",
       "   'Heuristic': 4.0525825965565385}}}"
      ]
     },
     "execution_count": 12,
     "metadata": {},
     "output_type": "execute_result"
    }
   ],
   "source": [
    "speedups"
   ]
  },
  {
   "cell_type": "code",
   "execution_count": 13,
   "metadata": {},
   "outputs": [
    {
     "data": {
      "application/vnd.plotly.v1+json": {
       "config": {
        "plotlyServerURL": "https://plot.ly"
       },
       "data": [
        {
         "hoverinfo": "text",
         "marker": {
          "color": "blue"
         },
         "name": "Simple",
         "offsetgroup": "0",
         "text": "Simple: 0.87",
         "type": "bar",
         "x": [
          "3"
         ],
         "y": [
          0.874219536468476
         ]
        },
        {
         "hoverinfo": "text",
         "marker": {
          "color": "red"
         },
         "name": "PSO",
         "offsetgroup": "1",
         "text": "PSO: 2.31",
         "type": "bar",
         "x": [
          "3"
         ],
         "y": [
          2.306478706982657
         ]
        },
        {
         "hoverinfo": "text",
         "marker": {
          "color": "green"
         },
         "name": "Heuristic",
         "offsetgroup": "2",
         "text": "Heuristic: 0.76",
         "type": "bar",
         "x": [
          "3"
         ],
         "y": [
          0.7589825950549041
         ]
        },
        {
         "hoverinfo": "text",
         "marker": {
          "color": "blue"
         },
         "name": "Simple",
         "offsetgroup": "0",
         "text": "Simple: 1.58",
         "type": "bar",
         "x": [
          "6"
         ],
         "y": [
          1.5795405670105764
         ]
        },
        {
         "hoverinfo": "text",
         "marker": {
          "color": "red"
         },
         "name": "PSO",
         "offsetgroup": "1",
         "text": "PSO: 2.26",
         "type": "bar",
         "x": [
          "6"
         ],
         "y": [
          2.2634553123236403
         ]
        },
        {
         "hoverinfo": "text",
         "marker": {
          "color": "green"
         },
         "name": "Heuristic",
         "offsetgroup": "2",
         "text": "Heuristic: 1.21",
         "type": "bar",
         "x": [
          "6"
         ],
         "y": [
          1.2097225474360145
         ]
        },
        {
         "hoverinfo": "text",
         "marker": {
          "color": "blue"
         },
         "name": "Simple",
         "offsetgroup": "0",
         "text": "Simple: 2.11",
         "type": "bar",
         "x": [
          "9"
         ],
         "y": [
          2.1066909025565175
         ]
        },
        {
         "hoverinfo": "text",
         "marker": {
          "color": "red"
         },
         "name": "PSO",
         "offsetgroup": "1",
         "text": "PSO: 4.04",
         "type": "bar",
         "x": [
          "9"
         ],
         "y": [
          4.042532028328162
         ]
        },
        {
         "hoverinfo": "text",
         "marker": {
          "color": "green"
         },
         "name": "Heuristic",
         "offsetgroup": "2",
         "text": "Heuristic: 2.32",
         "type": "bar",
         "x": [
          "9"
         ],
         "y": [
          2.317914283976153
         ]
        },
        {
         "hoverinfo": "text",
         "marker": {
          "color": "blue"
         },
         "name": "Simple",
         "offsetgroup": "0",
         "text": "Simple: 3.48",
         "type": "bar",
         "x": [
          "15"
         ],
         "y": [
          3.479305542872797
         ]
        },
        {
         "hoverinfo": "text",
         "marker": {
          "color": "red"
         },
         "name": "PSO",
         "offsetgroup": "1",
         "text": "PSO: 5.46",
         "type": "bar",
         "x": [
          "15"
         ],
         "y": [
          5.463026023370851
         ]
        },
        {
         "hoverinfo": "text",
         "marker": {
          "color": "green"
         },
         "name": "Heuristic",
         "offsetgroup": "2",
         "text": "Heuristic: 4.05",
         "type": "bar",
         "x": [
          "15"
         ],
         "y": [
          4.0525825965565385
         ]
        }
       ],
       "layout": {
        "bargap": 0.05,
        "bargroupgap": 0.1,
        "barmode": "group",
        "template": {
         "data": {
          "bar": [
           {
            "error_x": {
             "color": "#2a3f5f"
            },
            "error_y": {
             "color": "#2a3f5f"
            },
            "marker": {
             "line": {
              "color": "#E5ECF6",
              "width": 0.5
             },
             "pattern": {
              "fillmode": "overlay",
              "size": 10,
              "solidity": 0.2
             }
            },
            "type": "bar"
           }
          ],
          "barpolar": [
           {
            "marker": {
             "line": {
              "color": "#E5ECF6",
              "width": 0.5
             },
             "pattern": {
              "fillmode": "overlay",
              "size": 10,
              "solidity": 0.2
             }
            },
            "type": "barpolar"
           }
          ],
          "carpet": [
           {
            "aaxis": {
             "endlinecolor": "#2a3f5f",
             "gridcolor": "white",
             "linecolor": "white",
             "minorgridcolor": "white",
             "startlinecolor": "#2a3f5f"
            },
            "baxis": {
             "endlinecolor": "#2a3f5f",
             "gridcolor": "white",
             "linecolor": "white",
             "minorgridcolor": "white",
             "startlinecolor": "#2a3f5f"
            },
            "type": "carpet"
           }
          ],
          "choropleth": [
           {
            "colorbar": {
             "outlinewidth": 0,
             "ticks": ""
            },
            "type": "choropleth"
           }
          ],
          "contour": [
           {
            "colorbar": {
             "outlinewidth": 0,
             "ticks": ""
            },
            "colorscale": [
             [
              0,
              "#0d0887"
             ],
             [
              0.1111111111111111,
              "#46039f"
             ],
             [
              0.2222222222222222,
              "#7201a8"
             ],
             [
              0.3333333333333333,
              "#9c179e"
             ],
             [
              0.4444444444444444,
              "#bd3786"
             ],
             [
              0.5555555555555556,
              "#d8576b"
             ],
             [
              0.6666666666666666,
              "#ed7953"
             ],
             [
              0.7777777777777778,
              "#fb9f3a"
             ],
             [
              0.8888888888888888,
              "#fdca26"
             ],
             [
              1,
              "#f0f921"
             ]
            ],
            "type": "contour"
           }
          ],
          "contourcarpet": [
           {
            "colorbar": {
             "outlinewidth": 0,
             "ticks": ""
            },
            "type": "contourcarpet"
           }
          ],
          "heatmap": [
           {
            "colorbar": {
             "outlinewidth": 0,
             "ticks": ""
            },
            "colorscale": [
             [
              0,
              "#0d0887"
             ],
             [
              0.1111111111111111,
              "#46039f"
             ],
             [
              0.2222222222222222,
              "#7201a8"
             ],
             [
              0.3333333333333333,
              "#9c179e"
             ],
             [
              0.4444444444444444,
              "#bd3786"
             ],
             [
              0.5555555555555556,
              "#d8576b"
             ],
             [
              0.6666666666666666,
              "#ed7953"
             ],
             [
              0.7777777777777778,
              "#fb9f3a"
             ],
             [
              0.8888888888888888,
              "#fdca26"
             ],
             [
              1,
              "#f0f921"
             ]
            ],
            "type": "heatmap"
           }
          ],
          "heatmapgl": [
           {
            "colorbar": {
             "outlinewidth": 0,
             "ticks": ""
            },
            "colorscale": [
             [
              0,
              "#0d0887"
             ],
             [
              0.1111111111111111,
              "#46039f"
             ],
             [
              0.2222222222222222,
              "#7201a8"
             ],
             [
              0.3333333333333333,
              "#9c179e"
             ],
             [
              0.4444444444444444,
              "#bd3786"
             ],
             [
              0.5555555555555556,
              "#d8576b"
             ],
             [
              0.6666666666666666,
              "#ed7953"
             ],
             [
              0.7777777777777778,
              "#fb9f3a"
             ],
             [
              0.8888888888888888,
              "#fdca26"
             ],
             [
              1,
              "#f0f921"
             ]
            ],
            "type": "heatmapgl"
           }
          ],
          "histogram": [
           {
            "marker": {
             "pattern": {
              "fillmode": "overlay",
              "size": 10,
              "solidity": 0.2
             }
            },
            "type": "histogram"
           }
          ],
          "histogram2d": [
           {
            "colorbar": {
             "outlinewidth": 0,
             "ticks": ""
            },
            "colorscale": [
             [
              0,
              "#0d0887"
             ],
             [
              0.1111111111111111,
              "#46039f"
             ],
             [
              0.2222222222222222,
              "#7201a8"
             ],
             [
              0.3333333333333333,
              "#9c179e"
             ],
             [
              0.4444444444444444,
              "#bd3786"
             ],
             [
              0.5555555555555556,
              "#d8576b"
             ],
             [
              0.6666666666666666,
              "#ed7953"
             ],
             [
              0.7777777777777778,
              "#fb9f3a"
             ],
             [
              0.8888888888888888,
              "#fdca26"
             ],
             [
              1,
              "#f0f921"
             ]
            ],
            "type": "histogram2d"
           }
          ],
          "histogram2dcontour": [
           {
            "colorbar": {
             "outlinewidth": 0,
             "ticks": ""
            },
            "colorscale": [
             [
              0,
              "#0d0887"
             ],
             [
              0.1111111111111111,
              "#46039f"
             ],
             [
              0.2222222222222222,
              "#7201a8"
             ],
             [
              0.3333333333333333,
              "#9c179e"
             ],
             [
              0.4444444444444444,
              "#bd3786"
             ],
             [
              0.5555555555555556,
              "#d8576b"
             ],
             [
              0.6666666666666666,
              "#ed7953"
             ],
             [
              0.7777777777777778,
              "#fb9f3a"
             ],
             [
              0.8888888888888888,
              "#fdca26"
             ],
             [
              1,
              "#f0f921"
             ]
            ],
            "type": "histogram2dcontour"
           }
          ],
          "mesh3d": [
           {
            "colorbar": {
             "outlinewidth": 0,
             "ticks": ""
            },
            "type": "mesh3d"
           }
          ],
          "parcoords": [
           {
            "line": {
             "colorbar": {
              "outlinewidth": 0,
              "ticks": ""
             }
            },
            "type": "parcoords"
           }
          ],
          "pie": [
           {
            "automargin": true,
            "type": "pie"
           }
          ],
          "scatter": [
           {
            "fillpattern": {
             "fillmode": "overlay",
             "size": 10,
             "solidity": 0.2
            },
            "type": "scatter"
           }
          ],
          "scatter3d": [
           {
            "line": {
             "colorbar": {
              "outlinewidth": 0,
              "ticks": ""
             }
            },
            "marker": {
             "colorbar": {
              "outlinewidth": 0,
              "ticks": ""
             }
            },
            "type": "scatter3d"
           }
          ],
          "scattercarpet": [
           {
            "marker": {
             "colorbar": {
              "outlinewidth": 0,
              "ticks": ""
             }
            },
            "type": "scattercarpet"
           }
          ],
          "scattergeo": [
           {
            "marker": {
             "colorbar": {
              "outlinewidth": 0,
              "ticks": ""
             }
            },
            "type": "scattergeo"
           }
          ],
          "scattergl": [
           {
            "marker": {
             "colorbar": {
              "outlinewidth": 0,
              "ticks": ""
             }
            },
            "type": "scattergl"
           }
          ],
          "scattermapbox": [
           {
            "marker": {
             "colorbar": {
              "outlinewidth": 0,
              "ticks": ""
             }
            },
            "type": "scattermapbox"
           }
          ],
          "scatterpolar": [
           {
            "marker": {
             "colorbar": {
              "outlinewidth": 0,
              "ticks": ""
             }
            },
            "type": "scatterpolar"
           }
          ],
          "scatterpolargl": [
           {
            "marker": {
             "colorbar": {
              "outlinewidth": 0,
              "ticks": ""
             }
            },
            "type": "scatterpolargl"
           }
          ],
          "scatterternary": [
           {
            "marker": {
             "colorbar": {
              "outlinewidth": 0,
              "ticks": ""
             }
            },
            "type": "scatterternary"
           }
          ],
          "surface": [
           {
            "colorbar": {
             "outlinewidth": 0,
             "ticks": ""
            },
            "colorscale": [
             [
              0,
              "#0d0887"
             ],
             [
              0.1111111111111111,
              "#46039f"
             ],
             [
              0.2222222222222222,
              "#7201a8"
             ],
             [
              0.3333333333333333,
              "#9c179e"
             ],
             [
              0.4444444444444444,
              "#bd3786"
             ],
             [
              0.5555555555555556,
              "#d8576b"
             ],
             [
              0.6666666666666666,
              "#ed7953"
             ],
             [
              0.7777777777777778,
              "#fb9f3a"
             ],
             [
              0.8888888888888888,
              "#fdca26"
             ],
             [
              1,
              "#f0f921"
             ]
            ],
            "type": "surface"
           }
          ],
          "table": [
           {
            "cells": {
             "fill": {
              "color": "#EBF0F8"
             },
             "line": {
              "color": "white"
             }
            },
            "header": {
             "fill": {
              "color": "#C8D4E3"
             },
             "line": {
              "color": "white"
             }
            },
            "type": "table"
           }
          ]
         },
         "layout": {
          "annotationdefaults": {
           "arrowcolor": "#2a3f5f",
           "arrowhead": 0,
           "arrowwidth": 1
          },
          "autotypenumbers": "strict",
          "coloraxis": {
           "colorbar": {
            "outlinewidth": 0,
            "ticks": ""
           }
          },
          "colorscale": {
           "diverging": [
            [
             0,
             "#8e0152"
            ],
            [
             0.1,
             "#c51b7d"
            ],
            [
             0.2,
             "#de77ae"
            ],
            [
             0.3,
             "#f1b6da"
            ],
            [
             0.4,
             "#fde0ef"
            ],
            [
             0.5,
             "#f7f7f7"
            ],
            [
             0.6,
             "#e6f5d0"
            ],
            [
             0.7,
             "#b8e186"
            ],
            [
             0.8,
             "#7fbc41"
            ],
            [
             0.9,
             "#4d9221"
            ],
            [
             1,
             "#276419"
            ]
           ],
           "sequential": [
            [
             0,
             "#0d0887"
            ],
            [
             0.1111111111111111,
             "#46039f"
            ],
            [
             0.2222222222222222,
             "#7201a8"
            ],
            [
             0.3333333333333333,
             "#9c179e"
            ],
            [
             0.4444444444444444,
             "#bd3786"
            ],
            [
             0.5555555555555556,
             "#d8576b"
            ],
            [
             0.6666666666666666,
             "#ed7953"
            ],
            [
             0.7777777777777778,
             "#fb9f3a"
            ],
            [
             0.8888888888888888,
             "#fdca26"
            ],
            [
             1,
             "#f0f921"
            ]
           ],
           "sequentialminus": [
            [
             0,
             "#0d0887"
            ],
            [
             0.1111111111111111,
             "#46039f"
            ],
            [
             0.2222222222222222,
             "#7201a8"
            ],
            [
             0.3333333333333333,
             "#9c179e"
            ],
            [
             0.4444444444444444,
             "#bd3786"
            ],
            [
             0.5555555555555556,
             "#d8576b"
            ],
            [
             0.6666666666666666,
             "#ed7953"
            ],
            [
             0.7777777777777778,
             "#fb9f3a"
            ],
            [
             0.8888888888888888,
             "#fdca26"
            ],
            [
             1,
             "#f0f921"
            ]
           ]
          },
          "colorway": [
           "#636efa",
           "#EF553B",
           "#00cc96",
           "#ab63fa",
           "#FFA15A",
           "#19d3f3",
           "#FF6692",
           "#B6E880",
           "#FF97FF",
           "#FECB52"
          ],
          "font": {
           "color": "#2a3f5f"
          },
          "geo": {
           "bgcolor": "white",
           "lakecolor": "white",
           "landcolor": "#E5ECF6",
           "showlakes": true,
           "showland": true,
           "subunitcolor": "white"
          },
          "hoverlabel": {
           "align": "left"
          },
          "hovermode": "closest",
          "mapbox": {
           "style": "light"
          },
          "paper_bgcolor": "white",
          "plot_bgcolor": "#E5ECF6",
          "polar": {
           "angularaxis": {
            "gridcolor": "white",
            "linecolor": "white",
            "ticks": ""
           },
           "bgcolor": "#E5ECF6",
           "radialaxis": {
            "gridcolor": "white",
            "linecolor": "white",
            "ticks": ""
           }
          },
          "scene": {
           "xaxis": {
            "backgroundcolor": "#E5ECF6",
            "gridcolor": "white",
            "gridwidth": 2,
            "linecolor": "white",
            "showbackground": true,
            "ticks": "",
            "zerolinecolor": "white"
           },
           "yaxis": {
            "backgroundcolor": "#E5ECF6",
            "gridcolor": "white",
            "gridwidth": 2,
            "linecolor": "white",
            "showbackground": true,
            "ticks": "",
            "zerolinecolor": "white"
           },
           "zaxis": {
            "backgroundcolor": "#E5ECF6",
            "gridcolor": "white",
            "gridwidth": 2,
            "linecolor": "white",
            "showbackground": true,
            "ticks": "",
            "zerolinecolor": "white"
           }
          },
          "shapedefaults": {
           "line": {
            "color": "#2a3f5f"
           }
          },
          "ternary": {
           "aaxis": {
            "gridcolor": "white",
            "linecolor": "white",
            "ticks": ""
           },
           "baxis": {
            "gridcolor": "white",
            "linecolor": "white",
            "ticks": ""
           },
           "bgcolor": "#E5ECF6",
           "caxis": {
            "gridcolor": "white",
            "linecolor": "white",
            "ticks": ""
           }
          },
          "title": {
           "x": 0.05
          },
          "xaxis": {
           "automargin": true,
           "gridcolor": "white",
           "linecolor": "white",
           "ticks": "",
           "title": {
            "standoff": 15
           },
           "zerolinecolor": "white",
           "zerolinewidth": 2
          },
          "yaxis": {
           "automargin": true,
           "gridcolor": "white",
           "linecolor": "white",
           "ticks": "",
           "title": {
            "standoff": 15
           },
           "zerolinecolor": "white",
           "zerolinewidth": 2
          }
         }
        },
        "title": {
         "text": "Speedup de cada broker en función del escenario"
        },
        "xaxis": {
         "title": {
          "text": "200 Cloudlets"
         },
         "type": "category"
        },
        "yaxis": {
         "title": {
          "text": "Speedup"
         }
        }
       }
      }
     },
     "metadata": {},
     "output_type": "display_data"
    }
   ],
   "source": [
    "# import plotly.graph_objects as go\n",
    "\n",
    "# Supongamos que 'speedups' es un diccionario con la estructura {cloudlets: {broker: speedup}}\n",
    "scenario_selected = speedups['200']\n",
    "# Crear el gráfico\n",
    "fig = go.Figure()\n",
    "\n",
    "color_map = {\n",
    "    'Simple': 'blue',\n",
    "    'PSO': 'red',\n",
    "    'Heuristic': 'green'\n",
    "}\n",
    "\n",
    "# Agregar las barras para cada broker en cada escenario\n",
    "for scenario, data in scenario_selected.items():\n",
    "    for i, (broker, speedup) in enumerate(data.items()):\n",
    "        fig.add_trace(go.Bar(\n",
    "            x=[scenario],\n",
    "            y=[speedup],\n",
    "            name=broker,\n",
    "            text=f'{broker}: {float(speedup):.2f}',  # Agregar información al tooltip\n",
    "            hoverinfo='text',\n",
    "            offsetgroup=i,  # Asegurar que las barras estén centradas\n",
    "            marker_color=color_map[broker],  # Asignar un color a cada broker\n",
    "            \n",
    "        ))\n",
    "\n",
    "# Configurar el layout del gráfico\n",
    "fig.update_layout(\n",
    "    barmode='group',\n",
    "    xaxis_title='200 Cloudlets',\n",
    "    yaxis_title='Speedup',\n",
    "    title='Speedup de cada broker en función del escenario',\n",
    "    xaxis={'type': 'category'},  # Asegurar que el eje x sea categórico\n",
    "    bargap=0.05,  # Reducir la separación entre barras dentro de un grupo\n",
    "    bargroupgap=0.1,  # Reducir la separación entre grupos de barras\n",
    ")\n",
    "\n",
    "# Mostrar el gráfico\n",
    "fig.show()"
   ]
  },
  {
   "cell_type": "code",
   "execution_count": 15,
   "metadata": {},
   "outputs": [
    {
     "data": {
      "text/plain": [
       "{'25': {'1': {'Simple': 391.58, 'PSO': 391.58, 'Heuristic': 391.58},\n",
       "  '3': {'Simple': 560.45, 'PSO': 214.17, 'Heuristic': 403.28},\n",
       "  '6': {'Simple': 380.34, 'PSO': 214.19, 'Heuristic': 297.02},\n",
       "  '9': {'Simple': 361.22, 'PSO': 165.76, 'Heuristic': 202.45},\n",
       "  '15': {'Simple': 190.71, 'PSO': 156.25, 'Heuristic': 208.81}},\n",
       " '50': {'1': {'Simple': 834.2, 'PSO': 834.2, 'Heuristic': 834.2},\n",
       "  '3': {'Simple': 918.95, 'PSO': 361.72, 'Heuristic': 900.73},\n",
       "  '6': {'Simple': 557.56, 'PSO': 365.65, 'Heuristic': 728.44},\n",
       "  '9': {'Simple': 411.24, 'PSO': 210.58, 'Heuristic': 392.0},\n",
       "  '15': {'Simple': 322.86, 'PSO': 167.82, 'Heuristic': 465.69}},\n",
       " '100': {'1': {'Simple': 1475.93, 'PSO': 1475.93, 'Heuristic': 1475.93},\n",
       "  '3': {'Simple': 1869.16, 'PSO': 704.57, 'Heuristic': 1692.34},\n",
       "  '6': {'Simple': 989.66, 'PSO': 502.72, 'Heuristic': 1181.09},\n",
       "  '9': {'Simple': 807.83, 'PSO': 313.86, 'Heuristic': 532.42},\n",
       "  '15': {'Simple': 552.88, 'PSO': 284.3, 'Heuristic': 602.59}},\n",
       " '150': {'1': {'Simple': 2255.62, 'PSO': 2255.62, 'Heuristic': 2255.62},\n",
       "  '3': {'Simple': 2707.23, 'PSO': 1004.86, 'Heuristic': 2614.24},\n",
       "  '6': {'Simple': 1500.32, 'PSO': 929.51, 'Heuristic': 1821.66},\n",
       "  '9': {'Simple': 1199.7, 'PSO': 579.27, 'Heuristic': 906.41},\n",
       "  '15': {'Simple': 726.12, 'PSO': 371.48, 'Heuristic': 520.3}},\n",
       " '200': {'1': {'Simple': 3048.15, 'PSO': 3048.15, 'Heuristic': 3048.15},\n",
       "  '3': {'Simple': 3486.71, 'PSO': 1321.56, 'Heuristic': 4016.1},\n",
       "  '6': {'Simple': 1929.77, 'PSO': 1346.68, 'Heuristic': 2519.71},\n",
       "  '9': {'Simple': 1446.89, 'PSO': 754.02, 'Heuristic': 1315.04},\n",
       "  '15': {'Simple': 876.08, 'PSO': 557.96, 'Heuristic': 752.15}}}"
      ]
     },
     "execution_count": 15,
     "metadata": {},
     "output_type": "execute_result"
    }
   ],
   "source": [
    "# escalado de vm, fijo tareas \n",
    "# escalado de tareas, fijo vm\n",
    "tiempos = {}\n",
    "for scenario in all_cases_brokers.keys():\n",
    "    current_case = all_cases_brokers[scenario]\n",
    "    vms = scenario.split('-')[1]\n",
    "    cloudlets = scenario.split('-')[2]\n",
    "    if(cloudlets not in tiempos):\n",
    "        tiempos[cloudlets] = {}\n",
    "    if(vms not in tiempos[cloudlets]):\n",
    "        tiempos[cloudlets][vms] = {}\n",
    "\n",
    "    for broker in current_case['Broker'].unique():\n",
    "        if broker == 'DatacenterBrokerSimple':\n",
    "            new_name = 'Simple'\n",
    "        elif broker == 'DatacenterBrokerPSO':\n",
    "            new_name = 'PSO'\n",
    "        else:\n",
    "            new_name = 'Heuristic'\n",
    "        broker_data = current_case[current_case['Broker'] == broker]\n",
    "        tiempos[cloudlets][vms][new_name] = float(broker_data['Maskespan'].values[0])\n",
    "    tiempos[cloudlets] = dict(sorted(tiempos[cloudlets].items(), key=lambda item: int(item[0])))\n",
    "tiempos = dict(sorted(tiempos.items(), key=lambda item: int(item[0])))\n",
    "tiempos"
   ]
  },
  {
   "cell_type": "code",
   "execution_count": null,
   "metadata": {},
   "outputs": [],
   "source": [
    "# aliceblue, antiquewhite, aqua, aquamarine, azure,\n",
    "#             beige, bisque, black, blanchedalmond, blue,\n",
    "#             blueviolet, brown, burlywood, cadetblue,\n",
    "#             chartreuse, chocolate, coral, cornflowerblue,\n",
    "#             cornsilk, crimson, cyan, darkblue, darkcyan,\n",
    "#             darkgoldenrod, darkgray, darkgrey, darkgreen,\n",
    "#             darkkhaki, darkmagenta, darkolivegreen, darkorange,\n",
    "#             darkorchid, darkred, darksalmon, darkseagreen,\n",
    "#             darkslateblue, darkslategray, darkslategrey,\n",
    "#             darkturquoise, darkviolet, deeppink, deepskyblue,\n",
    "#             dimgray, dimgrey, dodgerblue, firebrick,\n",
    "#             floralwhite, forestgreen, fuchsia, gainsboro,\n",
    "#             ghostwhite, gold, goldenrod, gray, grey, green,\n",
    "#             greenyellow, honeydew, hotpink, indianred, indigo,\n",
    "#             ivory, khaki, lavender, lavenderblush, lawngreen,\n",
    "#             lemonchiffon, lightblue, lightcoral, lightcyan,\n",
    "#             lightgoldenrodyellow, lightgray, lightgrey,\n",
    "#             lightgreen, lightpink, lightsalmon, lightseagreen,\n",
    "#             lightskyblue, lightslategray, lightslategrey,\n",
    "#             lightsteelblue, lightyellow, lime, limegreen,\n",
    "#             linen, magenta, maroon, mediumaquamarine,\n",
    "#             mediumblue, mediumorchid, mediumpurple,\n",
    "#             mediumseagreen, mediumslateblue, mediumspringgreen,\n",
    "#             mediumturquoise, mediumvioletred, midnightblue,\n",
    "#             mintcream, mistyrose, moccasin, navajowhite, navy,\n",
    "#             oldlace, olive, olivedrab, orange, orangered,\n",
    "#             orchid, palegoldenrod, palegreen, paleturquoise,\n",
    "#             palevioletred, papayawhip, peachpuff, peru, pink,\n",
    "#             plum, powderblue, purple, red, rosybrown,\n",
    "#             royalblue, rebeccapurple, saddlebrown, salmon,\n",
    "#             sandybrown, seagreen, seashell, sienna, silver,\n",
    "#             skyblue, slateblue, slategray, slategrey, snow,\n",
    "#             springgreen, steelblue, tan, teal, thistle, tomato,\n",
    "#             turquoise, violet, wheat, white, whitesmoke,\n",
    "#             # yellow, yellowgreen"
   ]
  },
  {
   "cell_type": "code",
   "execution_count": 19,
   "metadata": {},
   "outputs": [
    {
     "data": {
      "application/vnd.plotly.v1+json": {
       "config": {
        "plotlyServerURL": "https://plot.ly"
       },
       "data": [
        {
         "hoverinfo": "text",
         "marker": {
          "color": "turquoise"
         },
         "name": "Simple",
         "offsetgroup": "0",
         "text": "Simple: 3048.15",
         "type": "bar",
         "x": [
          "1"
         ],
         "y": [
          3048.15
         ]
        },
        {
         "hoverinfo": "text",
         "marker": {
          "color": "orangered"
         },
         "name": "PSO",
         "offsetgroup": "1",
         "text": "PSO: 3048.15",
         "type": "bar",
         "x": [
          "1"
         ],
         "y": [
          3048.15
         ]
        },
        {
         "hoverinfo": "text",
         "marker": {
          "color": "wheat"
         },
         "name": "Heuristic",
         "offsetgroup": "2",
         "text": "Heuristic: 3048.15",
         "type": "bar",
         "x": [
          "1"
         ],
         "y": [
          3048.15
         ]
        },
        {
         "hoverinfo": "text",
         "marker": {
          "color": "turquoise"
         },
         "name": "Simple",
         "offsetgroup": "0",
         "text": "Simple: 3486.71",
         "type": "bar",
         "x": [
          "3"
         ],
         "y": [
          3486.71
         ]
        },
        {
         "hoverinfo": "text",
         "marker": {
          "color": "orangered"
         },
         "name": "PSO",
         "offsetgroup": "1",
         "text": "PSO: 1321.56",
         "type": "bar",
         "x": [
          "3"
         ],
         "y": [
          1321.56
         ]
        },
        {
         "hoverinfo": "text",
         "marker": {
          "color": "wheat"
         },
         "name": "Heuristic",
         "offsetgroup": "2",
         "text": "Heuristic: 4016.10",
         "type": "bar",
         "x": [
          "3"
         ],
         "y": [
          4016.1
         ]
        },
        {
         "hoverinfo": "text",
         "marker": {
          "color": "turquoise"
         },
         "name": "Simple",
         "offsetgroup": "0",
         "text": "Simple: 1929.77",
         "type": "bar",
         "x": [
          "6"
         ],
         "y": [
          1929.77
         ]
        },
        {
         "hoverinfo": "text",
         "marker": {
          "color": "orangered"
         },
         "name": "PSO",
         "offsetgroup": "1",
         "text": "PSO: 1346.68",
         "type": "bar",
         "x": [
          "6"
         ],
         "y": [
          1346.68
         ]
        },
        {
         "hoverinfo": "text",
         "marker": {
          "color": "wheat"
         },
         "name": "Heuristic",
         "offsetgroup": "2",
         "text": "Heuristic: 2519.71",
         "type": "bar",
         "x": [
          "6"
         ],
         "y": [
          2519.71
         ]
        },
        {
         "hoverinfo": "text",
         "marker": {
          "color": "turquoise"
         },
         "name": "Simple",
         "offsetgroup": "0",
         "text": "Simple: 1446.89",
         "type": "bar",
         "x": [
          "9"
         ],
         "y": [
          1446.89
         ]
        },
        {
         "hoverinfo": "text",
         "marker": {
          "color": "orangered"
         },
         "name": "PSO",
         "offsetgroup": "1",
         "text": "PSO: 754.02",
         "type": "bar",
         "x": [
          "9"
         ],
         "y": [
          754.02
         ]
        },
        {
         "hoverinfo": "text",
         "marker": {
          "color": "wheat"
         },
         "name": "Heuristic",
         "offsetgroup": "2",
         "text": "Heuristic: 1315.04",
         "type": "bar",
         "x": [
          "9"
         ],
         "y": [
          1315.04
         ]
        },
        {
         "hoverinfo": "text",
         "marker": {
          "color": "turquoise"
         },
         "name": "Simple",
         "offsetgroup": "0",
         "text": "Simple: 876.08",
         "type": "bar",
         "x": [
          "15"
         ],
         "y": [
          876.08
         ]
        },
        {
         "hoverinfo": "text",
         "marker": {
          "color": "orangered"
         },
         "name": "PSO",
         "offsetgroup": "1",
         "text": "PSO: 557.96",
         "type": "bar",
         "x": [
          "15"
         ],
         "y": [
          557.96
         ]
        },
        {
         "hoverinfo": "text",
         "marker": {
          "color": "wheat"
         },
         "name": "Heuristic",
         "offsetgroup": "2",
         "text": "Heuristic: 752.15",
         "type": "bar",
         "x": [
          "15"
         ],
         "y": [
          752.15
         ]
        }
       ],
       "layout": {
        "bargap": 0.05,
        "bargroupgap": 0.1,
        "barmode": "group",
        "template": {
         "data": {
          "bar": [
           {
            "error_x": {
             "color": "#2a3f5f"
            },
            "error_y": {
             "color": "#2a3f5f"
            },
            "marker": {
             "line": {
              "color": "#E5ECF6",
              "width": 0.5
             },
             "pattern": {
              "fillmode": "overlay",
              "size": 10,
              "solidity": 0.2
             }
            },
            "type": "bar"
           }
          ],
          "barpolar": [
           {
            "marker": {
             "line": {
              "color": "#E5ECF6",
              "width": 0.5
             },
             "pattern": {
              "fillmode": "overlay",
              "size": 10,
              "solidity": 0.2
             }
            },
            "type": "barpolar"
           }
          ],
          "carpet": [
           {
            "aaxis": {
             "endlinecolor": "#2a3f5f",
             "gridcolor": "white",
             "linecolor": "white",
             "minorgridcolor": "white",
             "startlinecolor": "#2a3f5f"
            },
            "baxis": {
             "endlinecolor": "#2a3f5f",
             "gridcolor": "white",
             "linecolor": "white",
             "minorgridcolor": "white",
             "startlinecolor": "#2a3f5f"
            },
            "type": "carpet"
           }
          ],
          "choropleth": [
           {
            "colorbar": {
             "outlinewidth": 0,
             "ticks": ""
            },
            "type": "choropleth"
           }
          ],
          "contour": [
           {
            "colorbar": {
             "outlinewidth": 0,
             "ticks": ""
            },
            "colorscale": [
             [
              0,
              "#0d0887"
             ],
             [
              0.1111111111111111,
              "#46039f"
             ],
             [
              0.2222222222222222,
              "#7201a8"
             ],
             [
              0.3333333333333333,
              "#9c179e"
             ],
             [
              0.4444444444444444,
              "#bd3786"
             ],
             [
              0.5555555555555556,
              "#d8576b"
             ],
             [
              0.6666666666666666,
              "#ed7953"
             ],
             [
              0.7777777777777778,
              "#fb9f3a"
             ],
             [
              0.8888888888888888,
              "#fdca26"
             ],
             [
              1,
              "#f0f921"
             ]
            ],
            "type": "contour"
           }
          ],
          "contourcarpet": [
           {
            "colorbar": {
             "outlinewidth": 0,
             "ticks": ""
            },
            "type": "contourcarpet"
           }
          ],
          "heatmap": [
           {
            "colorbar": {
             "outlinewidth": 0,
             "ticks": ""
            },
            "colorscale": [
             [
              0,
              "#0d0887"
             ],
             [
              0.1111111111111111,
              "#46039f"
             ],
             [
              0.2222222222222222,
              "#7201a8"
             ],
             [
              0.3333333333333333,
              "#9c179e"
             ],
             [
              0.4444444444444444,
              "#bd3786"
             ],
             [
              0.5555555555555556,
              "#d8576b"
             ],
             [
              0.6666666666666666,
              "#ed7953"
             ],
             [
              0.7777777777777778,
              "#fb9f3a"
             ],
             [
              0.8888888888888888,
              "#fdca26"
             ],
             [
              1,
              "#f0f921"
             ]
            ],
            "type": "heatmap"
           }
          ],
          "heatmapgl": [
           {
            "colorbar": {
             "outlinewidth": 0,
             "ticks": ""
            },
            "colorscale": [
             [
              0,
              "#0d0887"
             ],
             [
              0.1111111111111111,
              "#46039f"
             ],
             [
              0.2222222222222222,
              "#7201a8"
             ],
             [
              0.3333333333333333,
              "#9c179e"
             ],
             [
              0.4444444444444444,
              "#bd3786"
             ],
             [
              0.5555555555555556,
              "#d8576b"
             ],
             [
              0.6666666666666666,
              "#ed7953"
             ],
             [
              0.7777777777777778,
              "#fb9f3a"
             ],
             [
              0.8888888888888888,
              "#fdca26"
             ],
             [
              1,
              "#f0f921"
             ]
            ],
            "type": "heatmapgl"
           }
          ],
          "histogram": [
           {
            "marker": {
             "pattern": {
              "fillmode": "overlay",
              "size": 10,
              "solidity": 0.2
             }
            },
            "type": "histogram"
           }
          ],
          "histogram2d": [
           {
            "colorbar": {
             "outlinewidth": 0,
             "ticks": ""
            },
            "colorscale": [
             [
              0,
              "#0d0887"
             ],
             [
              0.1111111111111111,
              "#46039f"
             ],
             [
              0.2222222222222222,
              "#7201a8"
             ],
             [
              0.3333333333333333,
              "#9c179e"
             ],
             [
              0.4444444444444444,
              "#bd3786"
             ],
             [
              0.5555555555555556,
              "#d8576b"
             ],
             [
              0.6666666666666666,
              "#ed7953"
             ],
             [
              0.7777777777777778,
              "#fb9f3a"
             ],
             [
              0.8888888888888888,
              "#fdca26"
             ],
             [
              1,
              "#f0f921"
             ]
            ],
            "type": "histogram2d"
           }
          ],
          "histogram2dcontour": [
           {
            "colorbar": {
             "outlinewidth": 0,
             "ticks": ""
            },
            "colorscale": [
             [
              0,
              "#0d0887"
             ],
             [
              0.1111111111111111,
              "#46039f"
             ],
             [
              0.2222222222222222,
              "#7201a8"
             ],
             [
              0.3333333333333333,
              "#9c179e"
             ],
             [
              0.4444444444444444,
              "#bd3786"
             ],
             [
              0.5555555555555556,
              "#d8576b"
             ],
             [
              0.6666666666666666,
              "#ed7953"
             ],
             [
              0.7777777777777778,
              "#fb9f3a"
             ],
             [
              0.8888888888888888,
              "#fdca26"
             ],
             [
              1,
              "#f0f921"
             ]
            ],
            "type": "histogram2dcontour"
           }
          ],
          "mesh3d": [
           {
            "colorbar": {
             "outlinewidth": 0,
             "ticks": ""
            },
            "type": "mesh3d"
           }
          ],
          "parcoords": [
           {
            "line": {
             "colorbar": {
              "outlinewidth": 0,
              "ticks": ""
             }
            },
            "type": "parcoords"
           }
          ],
          "pie": [
           {
            "automargin": true,
            "type": "pie"
           }
          ],
          "scatter": [
           {
            "fillpattern": {
             "fillmode": "overlay",
             "size": 10,
             "solidity": 0.2
            },
            "type": "scatter"
           }
          ],
          "scatter3d": [
           {
            "line": {
             "colorbar": {
              "outlinewidth": 0,
              "ticks": ""
             }
            },
            "marker": {
             "colorbar": {
              "outlinewidth": 0,
              "ticks": ""
             }
            },
            "type": "scatter3d"
           }
          ],
          "scattercarpet": [
           {
            "marker": {
             "colorbar": {
              "outlinewidth": 0,
              "ticks": ""
             }
            },
            "type": "scattercarpet"
           }
          ],
          "scattergeo": [
           {
            "marker": {
             "colorbar": {
              "outlinewidth": 0,
              "ticks": ""
             }
            },
            "type": "scattergeo"
           }
          ],
          "scattergl": [
           {
            "marker": {
             "colorbar": {
              "outlinewidth": 0,
              "ticks": ""
             }
            },
            "type": "scattergl"
           }
          ],
          "scattermapbox": [
           {
            "marker": {
             "colorbar": {
              "outlinewidth": 0,
              "ticks": ""
             }
            },
            "type": "scattermapbox"
           }
          ],
          "scatterpolar": [
           {
            "marker": {
             "colorbar": {
              "outlinewidth": 0,
              "ticks": ""
             }
            },
            "type": "scatterpolar"
           }
          ],
          "scatterpolargl": [
           {
            "marker": {
             "colorbar": {
              "outlinewidth": 0,
              "ticks": ""
             }
            },
            "type": "scatterpolargl"
           }
          ],
          "scatterternary": [
           {
            "marker": {
             "colorbar": {
              "outlinewidth": 0,
              "ticks": ""
             }
            },
            "type": "scatterternary"
           }
          ],
          "surface": [
           {
            "colorbar": {
             "outlinewidth": 0,
             "ticks": ""
            },
            "colorscale": [
             [
              0,
              "#0d0887"
             ],
             [
              0.1111111111111111,
              "#46039f"
             ],
             [
              0.2222222222222222,
              "#7201a8"
             ],
             [
              0.3333333333333333,
              "#9c179e"
             ],
             [
              0.4444444444444444,
              "#bd3786"
             ],
             [
              0.5555555555555556,
              "#d8576b"
             ],
             [
              0.6666666666666666,
              "#ed7953"
             ],
             [
              0.7777777777777778,
              "#fb9f3a"
             ],
             [
              0.8888888888888888,
              "#fdca26"
             ],
             [
              1,
              "#f0f921"
             ]
            ],
            "type": "surface"
           }
          ],
          "table": [
           {
            "cells": {
             "fill": {
              "color": "#EBF0F8"
             },
             "line": {
              "color": "white"
             }
            },
            "header": {
             "fill": {
              "color": "#C8D4E3"
             },
             "line": {
              "color": "white"
             }
            },
            "type": "table"
           }
          ]
         },
         "layout": {
          "annotationdefaults": {
           "arrowcolor": "#2a3f5f",
           "arrowhead": 0,
           "arrowwidth": 1
          },
          "autotypenumbers": "strict",
          "coloraxis": {
           "colorbar": {
            "outlinewidth": 0,
            "ticks": ""
           }
          },
          "colorscale": {
           "diverging": [
            [
             0,
             "#8e0152"
            ],
            [
             0.1,
             "#c51b7d"
            ],
            [
             0.2,
             "#de77ae"
            ],
            [
             0.3,
             "#f1b6da"
            ],
            [
             0.4,
             "#fde0ef"
            ],
            [
             0.5,
             "#f7f7f7"
            ],
            [
             0.6,
             "#e6f5d0"
            ],
            [
             0.7,
             "#b8e186"
            ],
            [
             0.8,
             "#7fbc41"
            ],
            [
             0.9,
             "#4d9221"
            ],
            [
             1,
             "#276419"
            ]
           ],
           "sequential": [
            [
             0,
             "#0d0887"
            ],
            [
             0.1111111111111111,
             "#46039f"
            ],
            [
             0.2222222222222222,
             "#7201a8"
            ],
            [
             0.3333333333333333,
             "#9c179e"
            ],
            [
             0.4444444444444444,
             "#bd3786"
            ],
            [
             0.5555555555555556,
             "#d8576b"
            ],
            [
             0.6666666666666666,
             "#ed7953"
            ],
            [
             0.7777777777777778,
             "#fb9f3a"
            ],
            [
             0.8888888888888888,
             "#fdca26"
            ],
            [
             1,
             "#f0f921"
            ]
           ],
           "sequentialminus": [
            [
             0,
             "#0d0887"
            ],
            [
             0.1111111111111111,
             "#46039f"
            ],
            [
             0.2222222222222222,
             "#7201a8"
            ],
            [
             0.3333333333333333,
             "#9c179e"
            ],
            [
             0.4444444444444444,
             "#bd3786"
            ],
            [
             0.5555555555555556,
             "#d8576b"
            ],
            [
             0.6666666666666666,
             "#ed7953"
            ],
            [
             0.7777777777777778,
             "#fb9f3a"
            ],
            [
             0.8888888888888888,
             "#fdca26"
            ],
            [
             1,
             "#f0f921"
            ]
           ]
          },
          "colorway": [
           "#636efa",
           "#EF553B",
           "#00cc96",
           "#ab63fa",
           "#FFA15A",
           "#19d3f3",
           "#FF6692",
           "#B6E880",
           "#FF97FF",
           "#FECB52"
          ],
          "font": {
           "color": "#2a3f5f"
          },
          "geo": {
           "bgcolor": "white",
           "lakecolor": "white",
           "landcolor": "#E5ECF6",
           "showlakes": true,
           "showland": true,
           "subunitcolor": "white"
          },
          "hoverlabel": {
           "align": "left"
          },
          "hovermode": "closest",
          "mapbox": {
           "style": "light"
          },
          "paper_bgcolor": "white",
          "plot_bgcolor": "#E5ECF6",
          "polar": {
           "angularaxis": {
            "gridcolor": "white",
            "linecolor": "white",
            "ticks": ""
           },
           "bgcolor": "#E5ECF6",
           "radialaxis": {
            "gridcolor": "white",
            "linecolor": "white",
            "ticks": ""
           }
          },
          "scene": {
           "xaxis": {
            "backgroundcolor": "#E5ECF6",
            "gridcolor": "white",
            "gridwidth": 2,
            "linecolor": "white",
            "showbackground": true,
            "ticks": "",
            "zerolinecolor": "white"
           },
           "yaxis": {
            "backgroundcolor": "#E5ECF6",
            "gridcolor": "white",
            "gridwidth": 2,
            "linecolor": "white",
            "showbackground": true,
            "ticks": "",
            "zerolinecolor": "white"
           },
           "zaxis": {
            "backgroundcolor": "#E5ECF6",
            "gridcolor": "white",
            "gridwidth": 2,
            "linecolor": "white",
            "showbackground": true,
            "ticks": "",
            "zerolinecolor": "white"
           }
          },
          "shapedefaults": {
           "line": {
            "color": "#2a3f5f"
           }
          },
          "ternary": {
           "aaxis": {
            "gridcolor": "white",
            "linecolor": "white",
            "ticks": ""
           },
           "baxis": {
            "gridcolor": "white",
            "linecolor": "white",
            "ticks": ""
           },
           "bgcolor": "#E5ECF6",
           "caxis": {
            "gridcolor": "white",
            "linecolor": "white",
            "ticks": ""
           }
          },
          "title": {
           "x": 0.05
          },
          "xaxis": {
           "automargin": true,
           "gridcolor": "white",
           "linecolor": "white",
           "ticks": "",
           "title": {
            "standoff": 15
           },
           "zerolinecolor": "white",
           "zerolinewidth": 2
          },
          "yaxis": {
           "automargin": true,
           "gridcolor": "white",
           "linecolor": "white",
           "ticks": "",
           "title": {
            "standoff": 15
           },
           "zerolinecolor": "white",
           "zerolinewidth": 2
          }
         }
        },
        "title": {
         "text": "Tiempos de cada broker en función de las VMs"
        },
        "xaxis": {
         "title": {
          "text": "200 Cloudlets"
         },
         "type": "category"
        },
        "yaxis": {
         "title": {
          "text": "tiempos"
         }
        }
       }
      }
     },
     "metadata": {},
     "output_type": "display_data"
    }
   ],
   "source": [
    "\n",
    "scenario_selected = tiempos['200']\n",
    "# Crear el gráfico\n",
    "fig = go.Figure()\n",
    "\n",
    "color_map = {\n",
    "    'Simple': 'turquoise',\n",
    "    'PSO': 'orangered',\n",
    "    'Heuristic': 'wheat'\n",
    "}\n",
    "# Agregar las barras para cada broker en cada escenario\n",
    "for scenario, data in scenario_selected.items():\n",
    "    for i, (broker, tiempo) in enumerate(data.items()):\n",
    "        fig.add_trace(go.Bar(\n",
    "            x=[scenario],\n",
    "            y=[tiempo],\n",
    "            name=broker,\n",
    "            text=f'{broker}: {float(tiempo):.2f}',  # Agregar información al tooltip\n",
    "            hoverinfo='text',\n",
    "            offsetgroup=i,  # Asegurar que las barras estén centradas\n",
    "            marker_color=color_map[broker],  # Asignar un color a cada broker\n",
    "        ))\n",
    "\n",
    "# Configurar el layout del gráfico\n",
    "fig.update_layout(\n",
    "    barmode='group',\n",
    "    xaxis_title='200 Cloudlets',\n",
    "    yaxis_title='tiempos',\n",
    "    title='Tiempos de cada broker en función de las VMs',\n",
    "    xaxis={'type': 'category'},  # Asegurar que el eje x sea categórico\n",
    "    bargap=0.05,  # Reducir la separación entre barras dentro de un grupo\n",
    "    bargroupgap=0.1  # Reducir la separación entre grupos de barras\n",
    ")\n",
    "\n",
    "# Mostrar el gráfico\n",
    "fig.show()"
   ]
  },
  {
   "cell_type": "code",
   "execution_count": 21,
   "metadata": {},
   "outputs": [
    {
     "data": {
      "application/vnd.plotly.v1+json": {
       "config": {
        "plotlyServerURL": "https://plot.ly"
       },
       "data": [
        {
         "hoverinfo": "text",
         "marker": {
          "color": "turquoise"
         },
         "name": "Simple",
         "offsetgroup": "0",
         "text": "Simple: 190.71",
         "type": "bar",
         "x": [
          "25"
         ],
         "y": [
          190.71
         ]
        },
        {
         "hoverinfo": "text",
         "marker": {
          "color": "orangered"
         },
         "name": "PSO",
         "offsetgroup": "1",
         "text": "PSO: 156.25",
         "type": "bar",
         "x": [
          "25"
         ],
         "y": [
          156.25
         ]
        },
        {
         "hoverinfo": "text",
         "marker": {
          "color": "wheat"
         },
         "name": "Heuristic",
         "offsetgroup": "2",
         "text": "Heuristic: 208.81",
         "type": "bar",
         "x": [
          "25"
         ],
         "y": [
          208.81
         ]
        },
        {
         "hoverinfo": "text",
         "marker": {
          "color": "turquoise"
         },
         "name": "Simple",
         "offsetgroup": "0",
         "text": "Simple: 322.86",
         "type": "bar",
         "x": [
          "50"
         ],
         "y": [
          322.86
         ]
        },
        {
         "hoverinfo": "text",
         "marker": {
          "color": "orangered"
         },
         "name": "PSO",
         "offsetgroup": "1",
         "text": "PSO: 167.82",
         "type": "bar",
         "x": [
          "50"
         ],
         "y": [
          167.82
         ]
        },
        {
         "hoverinfo": "text",
         "marker": {
          "color": "wheat"
         },
         "name": "Heuristic",
         "offsetgroup": "2",
         "text": "Heuristic: 465.69",
         "type": "bar",
         "x": [
          "50"
         ],
         "y": [
          465.69
         ]
        },
        {
         "hoverinfo": "text",
         "marker": {
          "color": "turquoise"
         },
         "name": "Simple",
         "offsetgroup": "0",
         "text": "Simple: 552.88",
         "type": "bar",
         "x": [
          "100"
         ],
         "y": [
          552.88
         ]
        },
        {
         "hoverinfo": "text",
         "marker": {
          "color": "orangered"
         },
         "name": "PSO",
         "offsetgroup": "1",
         "text": "PSO: 284.30",
         "type": "bar",
         "x": [
          "100"
         ],
         "y": [
          284.3
         ]
        },
        {
         "hoverinfo": "text",
         "marker": {
          "color": "wheat"
         },
         "name": "Heuristic",
         "offsetgroup": "2",
         "text": "Heuristic: 602.59",
         "type": "bar",
         "x": [
          "100"
         ],
         "y": [
          602.59
         ]
        },
        {
         "hoverinfo": "text",
         "marker": {
          "color": "turquoise"
         },
         "name": "Simple",
         "offsetgroup": "0",
         "text": "Simple: 726.12",
         "type": "bar",
         "x": [
          "150"
         ],
         "y": [
          726.12
         ]
        },
        {
         "hoverinfo": "text",
         "marker": {
          "color": "orangered"
         },
         "name": "PSO",
         "offsetgroup": "1",
         "text": "PSO: 371.48",
         "type": "bar",
         "x": [
          "150"
         ],
         "y": [
          371.48
         ]
        },
        {
         "hoverinfo": "text",
         "marker": {
          "color": "wheat"
         },
         "name": "Heuristic",
         "offsetgroup": "2",
         "text": "Heuristic: 520.30",
         "type": "bar",
         "x": [
          "150"
         ],
         "y": [
          520.3
         ]
        },
        {
         "hoverinfo": "text",
         "marker": {
          "color": "turquoise"
         },
         "name": "Simple",
         "offsetgroup": "0",
         "text": "Simple: 876.08",
         "type": "bar",
         "x": [
          "200"
         ],
         "y": [
          876.08
         ]
        },
        {
         "hoverinfo": "text",
         "marker": {
          "color": "orangered"
         },
         "name": "PSO",
         "offsetgroup": "1",
         "text": "PSO: 557.96",
         "type": "bar",
         "x": [
          "200"
         ],
         "y": [
          557.96
         ]
        },
        {
         "hoverinfo": "text",
         "marker": {
          "color": "wheat"
         },
         "name": "Heuristic",
         "offsetgroup": "2",
         "text": "Heuristic: 752.15",
         "type": "bar",
         "x": [
          "200"
         ],
         "y": [
          752.15
         ]
        }
       ],
       "layout": {
        "bargap": 0.05,
        "bargroupgap": 0.1,
        "barmode": "group",
        "template": {
         "data": {
          "bar": [
           {
            "error_x": {
             "color": "#2a3f5f"
            },
            "error_y": {
             "color": "#2a3f5f"
            },
            "marker": {
             "line": {
              "color": "#E5ECF6",
              "width": 0.5
             },
             "pattern": {
              "fillmode": "overlay",
              "size": 10,
              "solidity": 0.2
             }
            },
            "type": "bar"
           }
          ],
          "barpolar": [
           {
            "marker": {
             "line": {
              "color": "#E5ECF6",
              "width": 0.5
             },
             "pattern": {
              "fillmode": "overlay",
              "size": 10,
              "solidity": 0.2
             }
            },
            "type": "barpolar"
           }
          ],
          "carpet": [
           {
            "aaxis": {
             "endlinecolor": "#2a3f5f",
             "gridcolor": "white",
             "linecolor": "white",
             "minorgridcolor": "white",
             "startlinecolor": "#2a3f5f"
            },
            "baxis": {
             "endlinecolor": "#2a3f5f",
             "gridcolor": "white",
             "linecolor": "white",
             "minorgridcolor": "white",
             "startlinecolor": "#2a3f5f"
            },
            "type": "carpet"
           }
          ],
          "choropleth": [
           {
            "colorbar": {
             "outlinewidth": 0,
             "ticks": ""
            },
            "type": "choropleth"
           }
          ],
          "contour": [
           {
            "colorbar": {
             "outlinewidth": 0,
             "ticks": ""
            },
            "colorscale": [
             [
              0,
              "#0d0887"
             ],
             [
              0.1111111111111111,
              "#46039f"
             ],
             [
              0.2222222222222222,
              "#7201a8"
             ],
             [
              0.3333333333333333,
              "#9c179e"
             ],
             [
              0.4444444444444444,
              "#bd3786"
             ],
             [
              0.5555555555555556,
              "#d8576b"
             ],
             [
              0.6666666666666666,
              "#ed7953"
             ],
             [
              0.7777777777777778,
              "#fb9f3a"
             ],
             [
              0.8888888888888888,
              "#fdca26"
             ],
             [
              1,
              "#f0f921"
             ]
            ],
            "type": "contour"
           }
          ],
          "contourcarpet": [
           {
            "colorbar": {
             "outlinewidth": 0,
             "ticks": ""
            },
            "type": "contourcarpet"
           }
          ],
          "heatmap": [
           {
            "colorbar": {
             "outlinewidth": 0,
             "ticks": ""
            },
            "colorscale": [
             [
              0,
              "#0d0887"
             ],
             [
              0.1111111111111111,
              "#46039f"
             ],
             [
              0.2222222222222222,
              "#7201a8"
             ],
             [
              0.3333333333333333,
              "#9c179e"
             ],
             [
              0.4444444444444444,
              "#bd3786"
             ],
             [
              0.5555555555555556,
              "#d8576b"
             ],
             [
              0.6666666666666666,
              "#ed7953"
             ],
             [
              0.7777777777777778,
              "#fb9f3a"
             ],
             [
              0.8888888888888888,
              "#fdca26"
             ],
             [
              1,
              "#f0f921"
             ]
            ],
            "type": "heatmap"
           }
          ],
          "heatmapgl": [
           {
            "colorbar": {
             "outlinewidth": 0,
             "ticks": ""
            },
            "colorscale": [
             [
              0,
              "#0d0887"
             ],
             [
              0.1111111111111111,
              "#46039f"
             ],
             [
              0.2222222222222222,
              "#7201a8"
             ],
             [
              0.3333333333333333,
              "#9c179e"
             ],
             [
              0.4444444444444444,
              "#bd3786"
             ],
             [
              0.5555555555555556,
              "#d8576b"
             ],
             [
              0.6666666666666666,
              "#ed7953"
             ],
             [
              0.7777777777777778,
              "#fb9f3a"
             ],
             [
              0.8888888888888888,
              "#fdca26"
             ],
             [
              1,
              "#f0f921"
             ]
            ],
            "type": "heatmapgl"
           }
          ],
          "histogram": [
           {
            "marker": {
             "pattern": {
              "fillmode": "overlay",
              "size": 10,
              "solidity": 0.2
             }
            },
            "type": "histogram"
           }
          ],
          "histogram2d": [
           {
            "colorbar": {
             "outlinewidth": 0,
             "ticks": ""
            },
            "colorscale": [
             [
              0,
              "#0d0887"
             ],
             [
              0.1111111111111111,
              "#46039f"
             ],
             [
              0.2222222222222222,
              "#7201a8"
             ],
             [
              0.3333333333333333,
              "#9c179e"
             ],
             [
              0.4444444444444444,
              "#bd3786"
             ],
             [
              0.5555555555555556,
              "#d8576b"
             ],
             [
              0.6666666666666666,
              "#ed7953"
             ],
             [
              0.7777777777777778,
              "#fb9f3a"
             ],
             [
              0.8888888888888888,
              "#fdca26"
             ],
             [
              1,
              "#f0f921"
             ]
            ],
            "type": "histogram2d"
           }
          ],
          "histogram2dcontour": [
           {
            "colorbar": {
             "outlinewidth": 0,
             "ticks": ""
            },
            "colorscale": [
             [
              0,
              "#0d0887"
             ],
             [
              0.1111111111111111,
              "#46039f"
             ],
             [
              0.2222222222222222,
              "#7201a8"
             ],
             [
              0.3333333333333333,
              "#9c179e"
             ],
             [
              0.4444444444444444,
              "#bd3786"
             ],
             [
              0.5555555555555556,
              "#d8576b"
             ],
             [
              0.6666666666666666,
              "#ed7953"
             ],
             [
              0.7777777777777778,
              "#fb9f3a"
             ],
             [
              0.8888888888888888,
              "#fdca26"
             ],
             [
              1,
              "#f0f921"
             ]
            ],
            "type": "histogram2dcontour"
           }
          ],
          "mesh3d": [
           {
            "colorbar": {
             "outlinewidth": 0,
             "ticks": ""
            },
            "type": "mesh3d"
           }
          ],
          "parcoords": [
           {
            "line": {
             "colorbar": {
              "outlinewidth": 0,
              "ticks": ""
             }
            },
            "type": "parcoords"
           }
          ],
          "pie": [
           {
            "automargin": true,
            "type": "pie"
           }
          ],
          "scatter": [
           {
            "fillpattern": {
             "fillmode": "overlay",
             "size": 10,
             "solidity": 0.2
            },
            "type": "scatter"
           }
          ],
          "scatter3d": [
           {
            "line": {
             "colorbar": {
              "outlinewidth": 0,
              "ticks": ""
             }
            },
            "marker": {
             "colorbar": {
              "outlinewidth": 0,
              "ticks": ""
             }
            },
            "type": "scatter3d"
           }
          ],
          "scattercarpet": [
           {
            "marker": {
             "colorbar": {
              "outlinewidth": 0,
              "ticks": ""
             }
            },
            "type": "scattercarpet"
           }
          ],
          "scattergeo": [
           {
            "marker": {
             "colorbar": {
              "outlinewidth": 0,
              "ticks": ""
             }
            },
            "type": "scattergeo"
           }
          ],
          "scattergl": [
           {
            "marker": {
             "colorbar": {
              "outlinewidth": 0,
              "ticks": ""
             }
            },
            "type": "scattergl"
           }
          ],
          "scattermapbox": [
           {
            "marker": {
             "colorbar": {
              "outlinewidth": 0,
              "ticks": ""
             }
            },
            "type": "scattermapbox"
           }
          ],
          "scatterpolar": [
           {
            "marker": {
             "colorbar": {
              "outlinewidth": 0,
              "ticks": ""
             }
            },
            "type": "scatterpolar"
           }
          ],
          "scatterpolargl": [
           {
            "marker": {
             "colorbar": {
              "outlinewidth": 0,
              "ticks": ""
             }
            },
            "type": "scatterpolargl"
           }
          ],
          "scatterternary": [
           {
            "marker": {
             "colorbar": {
              "outlinewidth": 0,
              "ticks": ""
             }
            },
            "type": "scatterternary"
           }
          ],
          "surface": [
           {
            "colorbar": {
             "outlinewidth": 0,
             "ticks": ""
            },
            "colorscale": [
             [
              0,
              "#0d0887"
             ],
             [
              0.1111111111111111,
              "#46039f"
             ],
             [
              0.2222222222222222,
              "#7201a8"
             ],
             [
              0.3333333333333333,
              "#9c179e"
             ],
             [
              0.4444444444444444,
              "#bd3786"
             ],
             [
              0.5555555555555556,
              "#d8576b"
             ],
             [
              0.6666666666666666,
              "#ed7953"
             ],
             [
              0.7777777777777778,
              "#fb9f3a"
             ],
             [
              0.8888888888888888,
              "#fdca26"
             ],
             [
              1,
              "#f0f921"
             ]
            ],
            "type": "surface"
           }
          ],
          "table": [
           {
            "cells": {
             "fill": {
              "color": "#EBF0F8"
             },
             "line": {
              "color": "white"
             }
            },
            "header": {
             "fill": {
              "color": "#C8D4E3"
             },
             "line": {
              "color": "white"
             }
            },
            "type": "table"
           }
          ]
         },
         "layout": {
          "annotationdefaults": {
           "arrowcolor": "#2a3f5f",
           "arrowhead": 0,
           "arrowwidth": 1
          },
          "autotypenumbers": "strict",
          "coloraxis": {
           "colorbar": {
            "outlinewidth": 0,
            "ticks": ""
           }
          },
          "colorscale": {
           "diverging": [
            [
             0,
             "#8e0152"
            ],
            [
             0.1,
             "#c51b7d"
            ],
            [
             0.2,
             "#de77ae"
            ],
            [
             0.3,
             "#f1b6da"
            ],
            [
             0.4,
             "#fde0ef"
            ],
            [
             0.5,
             "#f7f7f7"
            ],
            [
             0.6,
             "#e6f5d0"
            ],
            [
             0.7,
             "#b8e186"
            ],
            [
             0.8,
             "#7fbc41"
            ],
            [
             0.9,
             "#4d9221"
            ],
            [
             1,
             "#276419"
            ]
           ],
           "sequential": [
            [
             0,
             "#0d0887"
            ],
            [
             0.1111111111111111,
             "#46039f"
            ],
            [
             0.2222222222222222,
             "#7201a8"
            ],
            [
             0.3333333333333333,
             "#9c179e"
            ],
            [
             0.4444444444444444,
             "#bd3786"
            ],
            [
             0.5555555555555556,
             "#d8576b"
            ],
            [
             0.6666666666666666,
             "#ed7953"
            ],
            [
             0.7777777777777778,
             "#fb9f3a"
            ],
            [
             0.8888888888888888,
             "#fdca26"
            ],
            [
             1,
             "#f0f921"
            ]
           ],
           "sequentialminus": [
            [
             0,
             "#0d0887"
            ],
            [
             0.1111111111111111,
             "#46039f"
            ],
            [
             0.2222222222222222,
             "#7201a8"
            ],
            [
             0.3333333333333333,
             "#9c179e"
            ],
            [
             0.4444444444444444,
             "#bd3786"
            ],
            [
             0.5555555555555556,
             "#d8576b"
            ],
            [
             0.6666666666666666,
             "#ed7953"
            ],
            [
             0.7777777777777778,
             "#fb9f3a"
            ],
            [
             0.8888888888888888,
             "#fdca26"
            ],
            [
             1,
             "#f0f921"
            ]
           ]
          },
          "colorway": [
           "#636efa",
           "#EF553B",
           "#00cc96",
           "#ab63fa",
           "#FFA15A",
           "#19d3f3",
           "#FF6692",
           "#B6E880",
           "#FF97FF",
           "#FECB52"
          ],
          "font": {
           "color": "#2a3f5f"
          },
          "geo": {
           "bgcolor": "white",
           "lakecolor": "white",
           "landcolor": "#E5ECF6",
           "showlakes": true,
           "showland": true,
           "subunitcolor": "white"
          },
          "hoverlabel": {
           "align": "left"
          },
          "hovermode": "closest",
          "mapbox": {
           "style": "light"
          },
          "paper_bgcolor": "white",
          "plot_bgcolor": "#E5ECF6",
          "polar": {
           "angularaxis": {
            "gridcolor": "white",
            "linecolor": "white",
            "ticks": ""
           },
           "bgcolor": "#E5ECF6",
           "radialaxis": {
            "gridcolor": "white",
            "linecolor": "white",
            "ticks": ""
           }
          },
          "scene": {
           "xaxis": {
            "backgroundcolor": "#E5ECF6",
            "gridcolor": "white",
            "gridwidth": 2,
            "linecolor": "white",
            "showbackground": true,
            "ticks": "",
            "zerolinecolor": "white"
           },
           "yaxis": {
            "backgroundcolor": "#E5ECF6",
            "gridcolor": "white",
            "gridwidth": 2,
            "linecolor": "white",
            "showbackground": true,
            "ticks": "",
            "zerolinecolor": "white"
           },
           "zaxis": {
            "backgroundcolor": "#E5ECF6",
            "gridcolor": "white",
            "gridwidth": 2,
            "linecolor": "white",
            "showbackground": true,
            "ticks": "",
            "zerolinecolor": "white"
           }
          },
          "shapedefaults": {
           "line": {
            "color": "#2a3f5f"
           }
          },
          "ternary": {
           "aaxis": {
            "gridcolor": "white",
            "linecolor": "white",
            "ticks": ""
           },
           "baxis": {
            "gridcolor": "white",
            "linecolor": "white",
            "ticks": ""
           },
           "bgcolor": "#E5ECF6",
           "caxis": {
            "gridcolor": "white",
            "linecolor": "white",
            "ticks": ""
           }
          },
          "title": {
           "x": 0.05
          },
          "xaxis": {
           "automargin": true,
           "gridcolor": "white",
           "linecolor": "white",
           "ticks": "",
           "title": {
            "standoff": 15
           },
           "zerolinecolor": "white",
           "zerolinewidth": 2
          },
          "yaxis": {
           "automargin": true,
           "gridcolor": "white",
           "linecolor": "white",
           "ticks": "",
           "title": {
            "standoff": 15
           },
           "zerolinecolor": "white",
           "zerolinewidth": 2
          }
         }
        },
        "title": {
         "text": "Tiempos de cada broker en función de las tareas"
        },
        "xaxis": {
         "title": {
          "text": "15 Vms"
         },
         "type": "category"
        },
        "yaxis": {
         "title": {
          "text": "tiempos"
         }
        }
       }
      }
     },
     "metadata": {},
     "output_type": "display_data"
    }
   ],
   "source": [
    "# obtenemos los tiempos de ejecucion de cada broker en los cuales se ejecutaron con 15 vms\n",
    "tiempos_vms = {}\n",
    "for scenario in all_cases_brokers.keys():\n",
    "    current_case = all_cases_brokers[scenario]\n",
    "    vms = scenario.split('-')[1]\n",
    "    cloudlets = scenario.split('-')[2]\n",
    "    if(vms != '15'):\n",
    "        continue\n",
    "    if(cloudlets not in tiempos_vms):\n",
    "        tiempos_vms[cloudlets] = {}\n",
    "    if(vms not in tiempos_vms[cloudlets]):\n",
    "        tiempos_vms[cloudlets] = {}\n",
    "\n",
    "    for broker in current_case['Broker'].unique():\n",
    "        if broker == 'DatacenterBrokerSimple':\n",
    "            new_name = 'Simple'\n",
    "        elif broker == 'DatacenterBrokerPSO':\n",
    "            new_name = 'PSO'\n",
    "        else:\n",
    "            new_name = 'Heuristic'\n",
    "        broker_data = current_case[current_case['Broker'] == broker]\n",
    "        tiempos_vms[cloudlets][new_name] = float(broker_data['Maskespan'].values[0])\n",
    "tiempos_vms = dict(sorted(tiempos_vms.items(), key=lambda item: int(item[0])))\n",
    "# Crear el gráfico\n",
    "fig = go.Figure()\n",
    "color_map = {\n",
    "    'Simple': 'turquoise',\n",
    "    'PSO': 'orangered',\n",
    "    'Heuristic': 'wheat'\n",
    "}\n",
    "# Agregar las barras para cada broker en cada escenario\n",
    "for scenario, data in tiempos_vms.items():\n",
    "    for i, (broker, tiempo) in enumerate(data.items()):\n",
    "        fig.add_trace(go.Bar(\n",
    "            x=[scenario],\n",
    "            y=[tiempo],\n",
    "            name=broker,\n",
    "            text=f'{broker}: {float(tiempo):.2f}',  # Agregar información al tooltip\n",
    "            hoverinfo='text',\n",
    "            offsetgroup=i,  # Asegurar que las barras estén centradas\n",
    "            marker_color=color_map[broker],  # Asignar un color a cada broker\n",
    "        ))\n",
    "\n",
    "# Configurar el layout del gráfico\n",
    "fig.update_layout(\n",
    "    barmode='group',\n",
    "    xaxis_title='15 Vms',\n",
    "    yaxis_title='tiempos',\n",
    "    title='Tiempos de cada broker en función de las tareas',\n",
    "    xaxis={'type': 'category'},  # Asegurar que el eje x sea categórico\n",
    "    bargap=0.05,  # Reducir la separación entre barras dentro de un grupo\n",
    "    bargroupgap=0.1  # Reducir la separación entre grupos de barras\n",
    ")\n",
    "\n",
    "# Mostrar el gráfico\n",
    "fig.show()"
   ]
  },
  {
   "cell_type": "code",
   "execution_count": 26,
   "metadata": {},
   "outputs": [
    {
     "data": {
      "text/html": [
       "<div>\n",
       "<style scoped>\n",
       "    .dataframe tbody tr th:only-of-type {\n",
       "        vertical-align: middle;\n",
       "    }\n",
       "\n",
       "    .dataframe tbody tr th {\n",
       "        vertical-align: top;\n",
       "    }\n",
       "\n",
       "    .dataframe thead th {\n",
       "        text-align: right;\n",
       "    }\n",
       "</style>\n",
       "<table border=\"1\" class=\"dataframe\">\n",
       "  <thead>\n",
       "    <tr style=\"text-align: right;\">\n",
       "      <th></th>\n",
       "      <th>Broker</th>\n",
       "      <th>task</th>\n",
       "      <th>vm</th>\n",
       "      <th>duration</th>\n",
       "      <th>start_time</th>\n",
       "      <th>finish_time</th>\n",
       "      <th>CPU Utilization Start</th>\n",
       "      <th>CPU Utilization Finish</th>\n",
       "    </tr>\n",
       "  </thead>\n",
       "  <tbody>\n",
       "    <tr>\n",
       "      <th>0</th>\n",
       "      <td>DatacenterBrokerSimple</td>\n",
       "      <td>0</td>\n",
       "      <td>0</td>\n",
       "      <td>21</td>\n",
       "      <td>0</td>\n",
       "      <td>22</td>\n",
       "      <td>1</td>\n",
       "      <td>1</td>\n",
       "    </tr>\n",
       "    <tr>\n",
       "      <th>1</th>\n",
       "      <td>DatacenterBrokerSimple</td>\n",
       "      <td>16</td>\n",
       "      <td>4</td>\n",
       "      <td>22</td>\n",
       "      <td>0</td>\n",
       "      <td>22</td>\n",
       "      <td>1</td>\n",
       "      <td>1</td>\n",
       "    </tr>\n",
       "    <tr>\n",
       "      <th>2</th>\n",
       "      <td>DatacenterBrokerSimple</td>\n",
       "      <td>4</td>\n",
       "      <td>4</td>\n",
       "      <td>24</td>\n",
       "      <td>0</td>\n",
       "      <td>24</td>\n",
       "      <td>1</td>\n",
       "      <td>1</td>\n",
       "    </tr>\n",
       "    <tr>\n",
       "      <th>3</th>\n",
       "      <td>DatacenterBrokerSimple</td>\n",
       "      <td>7</td>\n",
       "      <td>1</td>\n",
       "      <td>29</td>\n",
       "      <td>0</td>\n",
       "      <td>29</td>\n",
       "      <td>1</td>\n",
       "      <td>1</td>\n",
       "    </tr>\n",
       "    <tr>\n",
       "      <th>4</th>\n",
       "      <td>DatacenterBrokerSimple</td>\n",
       "      <td>3</td>\n",
       "      <td>3</td>\n",
       "      <td>33</td>\n",
       "      <td>0</td>\n",
       "      <td>33</td>\n",
       "      <td>1</td>\n",
       "      <td>1</td>\n",
       "    </tr>\n",
       "    <tr>\n",
       "      <th>...</th>\n",
       "      <td>...</td>\n",
       "      <td>...</td>\n",
       "      <td>...</td>\n",
       "      <td>...</td>\n",
       "      <td>...</td>\n",
       "      <td>...</td>\n",
       "      <td>...</td>\n",
       "      <td>...</td>\n",
       "    </tr>\n",
       "    <tr>\n",
       "      <th>70</th>\n",
       "      <td>DatacenterBrokerHeuristic</td>\n",
       "      <td>10</td>\n",
       "      <td>5</td>\n",
       "      <td>137</td>\n",
       "      <td>0</td>\n",
       "      <td>137</td>\n",
       "      <td>1</td>\n",
       "      <td>1</td>\n",
       "    </tr>\n",
       "    <tr>\n",
       "      <th>71</th>\n",
       "      <td>DatacenterBrokerHeuristic</td>\n",
       "      <td>11</td>\n",
       "      <td>2</td>\n",
       "      <td>201</td>\n",
       "      <td>0</td>\n",
       "      <td>201</td>\n",
       "      <td>1</td>\n",
       "      <td>1</td>\n",
       "    </tr>\n",
       "    <tr>\n",
       "      <th>72</th>\n",
       "      <td>DatacenterBrokerHeuristic</td>\n",
       "      <td>1</td>\n",
       "      <td>2</td>\n",
       "      <td>212</td>\n",
       "      <td>0</td>\n",
       "      <td>212</td>\n",
       "      <td>1</td>\n",
       "      <td>1</td>\n",
       "    </tr>\n",
       "    <tr>\n",
       "      <th>73</th>\n",
       "      <td>DatacenterBrokerHeuristic</td>\n",
       "      <td>19</td>\n",
       "      <td>5</td>\n",
       "      <td>143</td>\n",
       "      <td>137</td>\n",
       "      <td>280</td>\n",
       "      <td>1</td>\n",
       "      <td>1</td>\n",
       "    </tr>\n",
       "    <tr>\n",
       "      <th>74</th>\n",
       "      <td>DatacenterBrokerHeuristic</td>\n",
       "      <td>14</td>\n",
       "      <td>5</td>\n",
       "      <td>162</td>\n",
       "      <td>135</td>\n",
       "      <td>297</td>\n",
       "      <td>1</td>\n",
       "      <td>1</td>\n",
       "    </tr>\n",
       "  </tbody>\n",
       "</table>\n",
       "<p>75 rows × 8 columns</p>\n",
       "</div>"
      ],
      "text/plain": [
       "                       Broker  task  vm  duration  start_time  finish_time  \\\n",
       "0      DatacenterBrokerSimple     0   0        21           0           22   \n",
       "1      DatacenterBrokerSimple    16   4        22           0           22   \n",
       "2      DatacenterBrokerSimple     4   4        24           0           24   \n",
       "3      DatacenterBrokerSimple     7   1        29           0           29   \n",
       "4      DatacenterBrokerSimple     3   3        33           0           33   \n",
       "..                        ...   ...  ..       ...         ...          ...   \n",
       "70  DatacenterBrokerHeuristic    10   5       137           0          137   \n",
       "71  DatacenterBrokerHeuristic    11   2       201           0          201   \n",
       "72  DatacenterBrokerHeuristic     1   2       212           0          212   \n",
       "73  DatacenterBrokerHeuristic    19   5       143         137          280   \n",
       "74  DatacenterBrokerHeuristic    14   5       162         135          297   \n",
       "\n",
       "    CPU Utilization Start  CPU Utilization Finish  \n",
       "0                       1                       1  \n",
       "1                       1                       1  \n",
       "2                       1                       1  \n",
       "3                       1                       1  \n",
       "4                       1                       1  \n",
       "..                    ...                     ...  \n",
       "70                      1                       1  \n",
       "71                      1                       1  \n",
       "72                      1                       1  \n",
       "73                      1                       1  \n",
       "74                      1                       1  \n",
       "\n",
       "[75 rows x 8 columns]"
      ]
     },
     "execution_count": 26,
     "metadata": {},
     "output_type": "execute_result"
    }
   ],
   "source": [
    "current_case"
   ]
  },
  {
   "cell_type": "code",
   "execution_count": 27,
   "metadata": {},
   "outputs": [
    {
     "data": {
      "application/vnd.plotly.v1+json": {
       "config": {
        "plotlyServerURL": "https://plot.ly"
       },
       "data": [
        {
         "hovertext": [
          "VM 0 (Tareas: 4)",
          "VM 0 (Tareas: 5)",
          "VM 0 (Tareas: 5)"
         ],
         "name": "VM 0",
         "type": "bar",
         "x": [
          "DatacenterBrokerHeuristic",
          "DatacenterBrokerPSO",
          "DatacenterBrokerSimple"
         ],
         "y": [
          0.16,
          0.2,
          0.2
         ]
        },
        {
         "hovertext": [
          "VM 1 (Tareas: 4)",
          "VM 1 (Tareas: 6)",
          "VM 1 (Tareas: 4)"
         ],
         "name": "VM 1",
         "type": "bar",
         "x": [
          "DatacenterBrokerHeuristic",
          "DatacenterBrokerPSO",
          "DatacenterBrokerSimple"
         ],
         "y": [
          0.16,
          0.24,
          0.16
         ]
        },
        {
         "hovertext": [
          "VM 2 (Tareas: 2)",
          "VM 2 (Tareas: 1)",
          "VM 2 (Tareas: 4)"
         ],
         "name": "VM 2",
         "type": "bar",
         "x": [
          "DatacenterBrokerHeuristic",
          "DatacenterBrokerPSO",
          "DatacenterBrokerSimple"
         ],
         "y": [
          0.08,
          0.04,
          0.16
         ]
        },
        {
         "hovertext": [
          "VM 3 (Tareas: 3)",
          "VM 3 (Tareas: 5)",
          "VM 3 (Tareas: 4)"
         ],
         "name": "VM 3",
         "type": "bar",
         "x": [
          "DatacenterBrokerHeuristic",
          "DatacenterBrokerPSO",
          "DatacenterBrokerSimple"
         ],
         "y": [
          0.12,
          0.2,
          0.16
         ]
        },
        {
         "hovertext": [
          "VM 4 (Tareas: 8)",
          "VM 4 (Tareas: 6)",
          "VM 4 (Tareas: 4)"
         ],
         "name": "VM 4",
         "type": "bar",
         "x": [
          "DatacenterBrokerHeuristic",
          "DatacenterBrokerPSO",
          "DatacenterBrokerSimple"
         ],
         "y": [
          0.32,
          0.24,
          0.16
         ]
        },
        {
         "hovertext": [
          "VM 5 (Tareas: 4)",
          "VM 5 (Tareas: 2)",
          "VM 5 (Tareas: 4)"
         ],
         "name": "VM 5",
         "type": "bar",
         "x": [
          "DatacenterBrokerHeuristic",
          "DatacenterBrokerPSO",
          "DatacenterBrokerSimple"
         ],
         "y": [
          0.16,
          0.08,
          0.16
         ]
        }
       ],
       "layout": {
        "barmode": "stack",
        "template": {
         "data": {
          "bar": [
           {
            "error_x": {
             "color": "#2a3f5f"
            },
            "error_y": {
             "color": "#2a3f5f"
            },
            "marker": {
             "line": {
              "color": "#E5ECF6",
              "width": 0.5
             },
             "pattern": {
              "fillmode": "overlay",
              "size": 10,
              "solidity": 0.2
             }
            },
            "type": "bar"
           }
          ],
          "barpolar": [
           {
            "marker": {
             "line": {
              "color": "#E5ECF6",
              "width": 0.5
             },
             "pattern": {
              "fillmode": "overlay",
              "size": 10,
              "solidity": 0.2
             }
            },
            "type": "barpolar"
           }
          ],
          "carpet": [
           {
            "aaxis": {
             "endlinecolor": "#2a3f5f",
             "gridcolor": "white",
             "linecolor": "white",
             "minorgridcolor": "white",
             "startlinecolor": "#2a3f5f"
            },
            "baxis": {
             "endlinecolor": "#2a3f5f",
             "gridcolor": "white",
             "linecolor": "white",
             "minorgridcolor": "white",
             "startlinecolor": "#2a3f5f"
            },
            "type": "carpet"
           }
          ],
          "choropleth": [
           {
            "colorbar": {
             "outlinewidth": 0,
             "ticks": ""
            },
            "type": "choropleth"
           }
          ],
          "contour": [
           {
            "colorbar": {
             "outlinewidth": 0,
             "ticks": ""
            },
            "colorscale": [
             [
              0,
              "#0d0887"
             ],
             [
              0.1111111111111111,
              "#46039f"
             ],
             [
              0.2222222222222222,
              "#7201a8"
             ],
             [
              0.3333333333333333,
              "#9c179e"
             ],
             [
              0.4444444444444444,
              "#bd3786"
             ],
             [
              0.5555555555555556,
              "#d8576b"
             ],
             [
              0.6666666666666666,
              "#ed7953"
             ],
             [
              0.7777777777777778,
              "#fb9f3a"
             ],
             [
              0.8888888888888888,
              "#fdca26"
             ],
             [
              1,
              "#f0f921"
             ]
            ],
            "type": "contour"
           }
          ],
          "contourcarpet": [
           {
            "colorbar": {
             "outlinewidth": 0,
             "ticks": ""
            },
            "type": "contourcarpet"
           }
          ],
          "heatmap": [
           {
            "colorbar": {
             "outlinewidth": 0,
             "ticks": ""
            },
            "colorscale": [
             [
              0,
              "#0d0887"
             ],
             [
              0.1111111111111111,
              "#46039f"
             ],
             [
              0.2222222222222222,
              "#7201a8"
             ],
             [
              0.3333333333333333,
              "#9c179e"
             ],
             [
              0.4444444444444444,
              "#bd3786"
             ],
             [
              0.5555555555555556,
              "#d8576b"
             ],
             [
              0.6666666666666666,
              "#ed7953"
             ],
             [
              0.7777777777777778,
              "#fb9f3a"
             ],
             [
              0.8888888888888888,
              "#fdca26"
             ],
             [
              1,
              "#f0f921"
             ]
            ],
            "type": "heatmap"
           }
          ],
          "heatmapgl": [
           {
            "colorbar": {
             "outlinewidth": 0,
             "ticks": ""
            },
            "colorscale": [
             [
              0,
              "#0d0887"
             ],
             [
              0.1111111111111111,
              "#46039f"
             ],
             [
              0.2222222222222222,
              "#7201a8"
             ],
             [
              0.3333333333333333,
              "#9c179e"
             ],
             [
              0.4444444444444444,
              "#bd3786"
             ],
             [
              0.5555555555555556,
              "#d8576b"
             ],
             [
              0.6666666666666666,
              "#ed7953"
             ],
             [
              0.7777777777777778,
              "#fb9f3a"
             ],
             [
              0.8888888888888888,
              "#fdca26"
             ],
             [
              1,
              "#f0f921"
             ]
            ],
            "type": "heatmapgl"
           }
          ],
          "histogram": [
           {
            "marker": {
             "pattern": {
              "fillmode": "overlay",
              "size": 10,
              "solidity": 0.2
             }
            },
            "type": "histogram"
           }
          ],
          "histogram2d": [
           {
            "colorbar": {
             "outlinewidth": 0,
             "ticks": ""
            },
            "colorscale": [
             [
              0,
              "#0d0887"
             ],
             [
              0.1111111111111111,
              "#46039f"
             ],
             [
              0.2222222222222222,
              "#7201a8"
             ],
             [
              0.3333333333333333,
              "#9c179e"
             ],
             [
              0.4444444444444444,
              "#bd3786"
             ],
             [
              0.5555555555555556,
              "#d8576b"
             ],
             [
              0.6666666666666666,
              "#ed7953"
             ],
             [
              0.7777777777777778,
              "#fb9f3a"
             ],
             [
              0.8888888888888888,
              "#fdca26"
             ],
             [
              1,
              "#f0f921"
             ]
            ],
            "type": "histogram2d"
           }
          ],
          "histogram2dcontour": [
           {
            "colorbar": {
             "outlinewidth": 0,
             "ticks": ""
            },
            "colorscale": [
             [
              0,
              "#0d0887"
             ],
             [
              0.1111111111111111,
              "#46039f"
             ],
             [
              0.2222222222222222,
              "#7201a8"
             ],
             [
              0.3333333333333333,
              "#9c179e"
             ],
             [
              0.4444444444444444,
              "#bd3786"
             ],
             [
              0.5555555555555556,
              "#d8576b"
             ],
             [
              0.6666666666666666,
              "#ed7953"
             ],
             [
              0.7777777777777778,
              "#fb9f3a"
             ],
             [
              0.8888888888888888,
              "#fdca26"
             ],
             [
              1,
              "#f0f921"
             ]
            ],
            "type": "histogram2dcontour"
           }
          ],
          "mesh3d": [
           {
            "colorbar": {
             "outlinewidth": 0,
             "ticks": ""
            },
            "type": "mesh3d"
           }
          ],
          "parcoords": [
           {
            "line": {
             "colorbar": {
              "outlinewidth": 0,
              "ticks": ""
             }
            },
            "type": "parcoords"
           }
          ],
          "pie": [
           {
            "automargin": true,
            "type": "pie"
           }
          ],
          "scatter": [
           {
            "fillpattern": {
             "fillmode": "overlay",
             "size": 10,
             "solidity": 0.2
            },
            "type": "scatter"
           }
          ],
          "scatter3d": [
           {
            "line": {
             "colorbar": {
              "outlinewidth": 0,
              "ticks": ""
             }
            },
            "marker": {
             "colorbar": {
              "outlinewidth": 0,
              "ticks": ""
             }
            },
            "type": "scatter3d"
           }
          ],
          "scattercarpet": [
           {
            "marker": {
             "colorbar": {
              "outlinewidth": 0,
              "ticks": ""
             }
            },
            "type": "scattercarpet"
           }
          ],
          "scattergeo": [
           {
            "marker": {
             "colorbar": {
              "outlinewidth": 0,
              "ticks": ""
             }
            },
            "type": "scattergeo"
           }
          ],
          "scattergl": [
           {
            "marker": {
             "colorbar": {
              "outlinewidth": 0,
              "ticks": ""
             }
            },
            "type": "scattergl"
           }
          ],
          "scattermapbox": [
           {
            "marker": {
             "colorbar": {
              "outlinewidth": 0,
              "ticks": ""
             }
            },
            "type": "scattermapbox"
           }
          ],
          "scatterpolar": [
           {
            "marker": {
             "colorbar": {
              "outlinewidth": 0,
              "ticks": ""
             }
            },
            "type": "scatterpolar"
           }
          ],
          "scatterpolargl": [
           {
            "marker": {
             "colorbar": {
              "outlinewidth": 0,
              "ticks": ""
             }
            },
            "type": "scatterpolargl"
           }
          ],
          "scatterternary": [
           {
            "marker": {
             "colorbar": {
              "outlinewidth": 0,
              "ticks": ""
             }
            },
            "type": "scatterternary"
           }
          ],
          "surface": [
           {
            "colorbar": {
             "outlinewidth": 0,
             "ticks": ""
            },
            "colorscale": [
             [
              0,
              "#0d0887"
             ],
             [
              0.1111111111111111,
              "#46039f"
             ],
             [
              0.2222222222222222,
              "#7201a8"
             ],
             [
              0.3333333333333333,
              "#9c179e"
             ],
             [
              0.4444444444444444,
              "#bd3786"
             ],
             [
              0.5555555555555556,
              "#d8576b"
             ],
             [
              0.6666666666666666,
              "#ed7953"
             ],
             [
              0.7777777777777778,
              "#fb9f3a"
             ],
             [
              0.8888888888888888,
              "#fdca26"
             ],
             [
              1,
              "#f0f921"
             ]
            ],
            "type": "surface"
           }
          ],
          "table": [
           {
            "cells": {
             "fill": {
              "color": "#EBF0F8"
             },
             "line": {
              "color": "white"
             }
            },
            "header": {
             "fill": {
              "color": "#C8D4E3"
             },
             "line": {
              "color": "white"
             }
            },
            "type": "table"
           }
          ]
         },
         "layout": {
          "annotationdefaults": {
           "arrowcolor": "#2a3f5f",
           "arrowhead": 0,
           "arrowwidth": 1
          },
          "autotypenumbers": "strict",
          "coloraxis": {
           "colorbar": {
            "outlinewidth": 0,
            "ticks": ""
           }
          },
          "colorscale": {
           "diverging": [
            [
             0,
             "#8e0152"
            ],
            [
             0.1,
             "#c51b7d"
            ],
            [
             0.2,
             "#de77ae"
            ],
            [
             0.3,
             "#f1b6da"
            ],
            [
             0.4,
             "#fde0ef"
            ],
            [
             0.5,
             "#f7f7f7"
            ],
            [
             0.6,
             "#e6f5d0"
            ],
            [
             0.7,
             "#b8e186"
            ],
            [
             0.8,
             "#7fbc41"
            ],
            [
             0.9,
             "#4d9221"
            ],
            [
             1,
             "#276419"
            ]
           ],
           "sequential": [
            [
             0,
             "#0d0887"
            ],
            [
             0.1111111111111111,
             "#46039f"
            ],
            [
             0.2222222222222222,
             "#7201a8"
            ],
            [
             0.3333333333333333,
             "#9c179e"
            ],
            [
             0.4444444444444444,
             "#bd3786"
            ],
            [
             0.5555555555555556,
             "#d8576b"
            ],
            [
             0.6666666666666666,
             "#ed7953"
            ],
            [
             0.7777777777777778,
             "#fb9f3a"
            ],
            [
             0.8888888888888888,
             "#fdca26"
            ],
            [
             1,
             "#f0f921"
            ]
           ],
           "sequentialminus": [
            [
             0,
             "#0d0887"
            ],
            [
             0.1111111111111111,
             "#46039f"
            ],
            [
             0.2222222222222222,
             "#7201a8"
            ],
            [
             0.3333333333333333,
             "#9c179e"
            ],
            [
             0.4444444444444444,
             "#bd3786"
            ],
            [
             0.5555555555555556,
             "#d8576b"
            ],
            [
             0.6666666666666666,
             "#ed7953"
            ],
            [
             0.7777777777777778,
             "#fb9f3a"
            ],
            [
             0.8888888888888888,
             "#fdca26"
            ],
            [
             1,
             "#f0f921"
            ]
           ]
          },
          "colorway": [
           "#636efa",
           "#EF553B",
           "#00cc96",
           "#ab63fa",
           "#FFA15A",
           "#19d3f3",
           "#FF6692",
           "#B6E880",
           "#FF97FF",
           "#FECB52"
          ],
          "font": {
           "color": "#2a3f5f"
          },
          "geo": {
           "bgcolor": "white",
           "lakecolor": "white",
           "landcolor": "#E5ECF6",
           "showlakes": true,
           "showland": true,
           "subunitcolor": "white"
          },
          "hoverlabel": {
           "align": "left"
          },
          "hovermode": "closest",
          "mapbox": {
           "style": "light"
          },
          "paper_bgcolor": "white",
          "plot_bgcolor": "#E5ECF6",
          "polar": {
           "angularaxis": {
            "gridcolor": "white",
            "linecolor": "white",
            "ticks": ""
           },
           "bgcolor": "#E5ECF6",
           "radialaxis": {
            "gridcolor": "white",
            "linecolor": "white",
            "ticks": ""
           }
          },
          "scene": {
           "xaxis": {
            "backgroundcolor": "#E5ECF6",
            "gridcolor": "white",
            "gridwidth": 2,
            "linecolor": "white",
            "showbackground": true,
            "ticks": "",
            "zerolinecolor": "white"
           },
           "yaxis": {
            "backgroundcolor": "#E5ECF6",
            "gridcolor": "white",
            "gridwidth": 2,
            "linecolor": "white",
            "showbackground": true,
            "ticks": "",
            "zerolinecolor": "white"
           },
           "zaxis": {
            "backgroundcolor": "#E5ECF6",
            "gridcolor": "white",
            "gridwidth": 2,
            "linecolor": "white",
            "showbackground": true,
            "ticks": "",
            "zerolinecolor": "white"
           }
          },
          "shapedefaults": {
           "line": {
            "color": "#2a3f5f"
           }
          },
          "ternary": {
           "aaxis": {
            "gridcolor": "white",
            "linecolor": "white",
            "ticks": ""
           },
           "baxis": {
            "gridcolor": "white",
            "linecolor": "white",
            "ticks": ""
           },
           "bgcolor": "#E5ECF6",
           "caxis": {
            "gridcolor": "white",
            "linecolor": "white",
            "ticks": ""
           }
          },
          "title": {
           "x": 0.05
          },
          "xaxis": {
           "automargin": true,
           "gridcolor": "white",
           "linecolor": "white",
           "ticks": "",
           "title": {
            "standoff": 15
           },
           "zerolinecolor": "white",
           "zerolinewidth": 2
          },
          "yaxis": {
           "automargin": true,
           "gridcolor": "white",
           "linecolor": "white",
           "ticks": "",
           "title": {
            "standoff": 15
           },
           "zerolinecolor": "white",
           "zerolinewidth": 2
          }
         }
        },
        "title": {
         "text": "Utilización de CPU por VM por cada algoritmo"
        },
        "xaxis": {
         "title": {
          "text": "Algoritmo"
         }
        },
        "yaxis": {
         "title": {
          "text": "Utilización de CPU (%)"
         }
        }
       }
      }
     },
     "metadata": {},
     "output_type": "display_data"
    }
   ],
   "source": [
    "# Cargar y pivotear los datos\n",
    "df_pivot = current_case_vms.pivot(index='Broker', columns='vm', values='vm_load').fillna(0)\n",
    "\n",
    "task_counts = current_case.groupby(['Broker', 'vm']).size()\n",
    "vm_color = 'blue'\n",
    "\n",
    "# Crear el gráfico\n",
    "fig = go.Figure()\n",
    "\n",
    "for vm in df_pivot.columns:\n",
    "    hover_data = []\n",
    "    for broker in df_pivot.index:\n",
    "        task_count = int(task_counts[broker][vm])\n",
    "        task_count = task_count if task_count >= 0 else 0\n",
    "        hover_data.append(f'VM {vm} (Tareas: {task_count})')\n",
    "    fig.add_trace(go.Bar(\n",
    "        x=df_pivot.index,\n",
    "        y=df_pivot[vm],\n",
    "        name=f'VM {vm}',\n",
    "        hovertext=hover_data,\n",
    "    ))\n",
    "\n",
    "fig.update_layout(\n",
    "    barmode='stack',\n",
    "    xaxis_title='Algoritmo',\n",
    "    yaxis_title='Utilización de CPU (%)',\n",
    "    title='Utilización de CPU por VM por cada algoritmo'\n",
    ")\n",
    "fig.show()"
   ]
  }
 ],
 "metadata": {
  "kernelspec": {
   "display_name": "Python 3",
   "language": "python",
   "name": "python3"
  },
  "language_info": {
   "codemirror_mode": {
    "name": "ipython",
    "version": 3
   },
   "file_extension": ".py",
   "mimetype": "text/x-python",
   "name": "python",
   "nbconvert_exporter": "python",
   "pygments_lexer": "ipython3",
   "version": "3.12.4"
  }
 },
 "nbformat": 4,
 "nbformat_minor": 2
}
