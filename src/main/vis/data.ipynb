{
 "cells": [
  {
   "cell_type": "code",
   "execution_count": 1,
   "metadata": {},
   "outputs": [
    {
     "name": "stdout",
     "output_type": "stream",
     "text": [
      "Requirement already satisfied: pandas in /home/mrtc101/miniconda3/envs/middlwares/lib/python3.13/site-packages (from -r requirements.txt (line 1)) (2.2.3)\n",
      "Requirement already satisfied: numpy in /home/mrtc101/miniconda3/envs/middlwares/lib/python3.13/site-packages (from -r requirements.txt (line 2)) (2.1.3)\n",
      "Requirement already satisfied: matplotlib in /home/mrtc101/miniconda3/envs/middlwares/lib/python3.13/site-packages (from -r requirements.txt (line 3)) (3.9.2)\n",
      "Requirement already satisfied: seaborn in /home/mrtc101/miniconda3/envs/middlwares/lib/python3.13/site-packages (from -r requirements.txt (line 4)) (0.13.2)\n",
      "Requirement already satisfied: scikit-learn in /home/mrtc101/miniconda3/envs/middlwares/lib/python3.13/site-packages (from -r requirements.txt (line 5)) (1.5.2)\n",
      "Requirement already satisfied: jupyter in /home/mrtc101/miniconda3/envs/middlwares/lib/python3.13/site-packages (from -r requirements.txt (line 6)) (1.1.1)\n",
      "Requirement already satisfied: plotly in /home/mrtc101/miniconda3/envs/middlwares/lib/python3.13/site-packages (from -r requirements.txt (line 7)) (5.24.1)\n",
      "Requirement already satisfied: python-dateutil>=2.8.2 in /home/mrtc101/miniconda3/envs/middlwares/lib/python3.13/site-packages (from pandas->-r requirements.txt (line 1)) (2.9.0.post0)\n",
      "Requirement already satisfied: pytz>=2020.1 in /home/mrtc101/miniconda3/envs/middlwares/lib/python3.13/site-packages (from pandas->-r requirements.txt (line 1)) (2024.2)\n",
      "Requirement already satisfied: tzdata>=2022.7 in /home/mrtc101/miniconda3/envs/middlwares/lib/python3.13/site-packages (from pandas->-r requirements.txt (line 1)) (2024.2)\n",
      "Requirement already satisfied: contourpy>=1.0.1 in /home/mrtc101/miniconda3/envs/middlwares/lib/python3.13/site-packages (from matplotlib->-r requirements.txt (line 3)) (1.3.0)\n",
      "Requirement already satisfied: cycler>=0.10 in /home/mrtc101/miniconda3/envs/middlwares/lib/python3.13/site-packages (from matplotlib->-r requirements.txt (line 3)) (0.12.1)\n",
      "Requirement already satisfied: fonttools>=4.22.0 in /home/mrtc101/miniconda3/envs/middlwares/lib/python3.13/site-packages (from matplotlib->-r requirements.txt (line 3)) (4.54.1)\n",
      "Requirement already satisfied: kiwisolver>=1.3.1 in /home/mrtc101/miniconda3/envs/middlwares/lib/python3.13/site-packages (from matplotlib->-r requirements.txt (line 3)) (1.4.7)\n",
      "Requirement already satisfied: packaging>=20.0 in /home/mrtc101/miniconda3/envs/middlwares/lib/python3.13/site-packages (from matplotlib->-r requirements.txt (line 3)) (24.1)\n",
      "Requirement already satisfied: pillow>=8 in /home/mrtc101/miniconda3/envs/middlwares/lib/python3.13/site-packages (from matplotlib->-r requirements.txt (line 3)) (11.0.0)\n",
      "Requirement already satisfied: pyparsing>=2.3.1 in /home/mrtc101/miniconda3/envs/middlwares/lib/python3.13/site-packages (from matplotlib->-r requirements.txt (line 3)) (3.2.0)\n",
      "Requirement already satisfied: scipy>=1.6.0 in /home/mrtc101/miniconda3/envs/middlwares/lib/python3.13/site-packages (from scikit-learn->-r requirements.txt (line 5)) (1.14.1)\n",
      "Requirement already satisfied: joblib>=1.2.0 in /home/mrtc101/miniconda3/envs/middlwares/lib/python3.13/site-packages (from scikit-learn->-r requirements.txt (line 5)) (1.4.2)\n",
      "Requirement already satisfied: threadpoolctl>=3.1.0 in /home/mrtc101/miniconda3/envs/middlwares/lib/python3.13/site-packages (from scikit-learn->-r requirements.txt (line 5)) (3.5.0)\n",
      "Requirement already satisfied: notebook in /home/mrtc101/miniconda3/envs/middlwares/lib/python3.13/site-packages (from jupyter->-r requirements.txt (line 6)) (7.2.2)\n",
      "Requirement already satisfied: jupyter-console in /home/mrtc101/miniconda3/envs/middlwares/lib/python3.13/site-packages (from jupyter->-r requirements.txt (line 6)) (6.6.3)\n",
      "Requirement already satisfied: nbconvert in /home/mrtc101/miniconda3/envs/middlwares/lib/python3.13/site-packages (from jupyter->-r requirements.txt (line 6)) (7.16.4)\n",
      "Requirement already satisfied: ipykernel in /home/mrtc101/miniconda3/envs/middlwares/lib/python3.13/site-packages (from jupyter->-r requirements.txt (line 6)) (6.29.5)\n",
      "Requirement already satisfied: ipywidgets in /home/mrtc101/miniconda3/envs/middlwares/lib/python3.13/site-packages (from jupyter->-r requirements.txt (line 6)) (8.1.5)\n",
      "Requirement already satisfied: jupyterlab in /home/mrtc101/miniconda3/envs/middlwares/lib/python3.13/site-packages (from jupyter->-r requirements.txt (line 6)) (4.2.5)\n",
      "Requirement already satisfied: tenacity>=6.2.0 in /home/mrtc101/miniconda3/envs/middlwares/lib/python3.13/site-packages (from plotly->-r requirements.txt (line 7)) (9.0.0)\n",
      "Requirement already satisfied: six>=1.5 in /home/mrtc101/miniconda3/envs/middlwares/lib/python3.13/site-packages (from python-dateutil>=2.8.2->pandas->-r requirements.txt (line 1)) (1.16.0)\n",
      "Requirement already satisfied: comm>=0.1.1 in /home/mrtc101/miniconda3/envs/middlwares/lib/python3.13/site-packages (from ipykernel->jupyter->-r requirements.txt (line 6)) (0.2.2)\n",
      "Requirement already satisfied: debugpy>=1.6.5 in /home/mrtc101/miniconda3/envs/middlwares/lib/python3.13/site-packages (from ipykernel->jupyter->-r requirements.txt (line 6)) (1.8.7)\n",
      "Requirement already satisfied: ipython>=7.23.1 in /home/mrtc101/miniconda3/envs/middlwares/lib/python3.13/site-packages (from ipykernel->jupyter->-r requirements.txt (line 6)) (8.29.0)\n",
      "Requirement already satisfied: jupyter-client>=6.1.12 in /home/mrtc101/miniconda3/envs/middlwares/lib/python3.13/site-packages (from ipykernel->jupyter->-r requirements.txt (line 6)) (8.6.3)\n",
      "Requirement already satisfied: jupyter-core!=5.0.*,>=4.12 in /home/mrtc101/miniconda3/envs/middlwares/lib/python3.13/site-packages (from ipykernel->jupyter->-r requirements.txt (line 6)) (5.7.2)\n",
      "Requirement already satisfied: matplotlib-inline>=0.1 in /home/mrtc101/miniconda3/envs/middlwares/lib/python3.13/site-packages (from ipykernel->jupyter->-r requirements.txt (line 6)) (0.1.7)\n",
      "Requirement already satisfied: nest-asyncio in /home/mrtc101/miniconda3/envs/middlwares/lib/python3.13/site-packages (from ipykernel->jupyter->-r requirements.txt (line 6)) (1.6.0)\n",
      "Requirement already satisfied: psutil in /home/mrtc101/miniconda3/envs/middlwares/lib/python3.13/site-packages (from ipykernel->jupyter->-r requirements.txt (line 6)) (6.1.0)\n",
      "Requirement already satisfied: pyzmq>=24 in /home/mrtc101/miniconda3/envs/middlwares/lib/python3.13/site-packages (from ipykernel->jupyter->-r requirements.txt (line 6)) (26.2.0)\n",
      "Requirement already satisfied: tornado>=6.1 in /home/mrtc101/miniconda3/envs/middlwares/lib/python3.13/site-packages (from ipykernel->jupyter->-r requirements.txt (line 6)) (6.4.1)\n",
      "Requirement already satisfied: traitlets>=5.4.0 in /home/mrtc101/miniconda3/envs/middlwares/lib/python3.13/site-packages (from ipykernel->jupyter->-r requirements.txt (line 6)) (5.14.3)\n",
      "Requirement already satisfied: widgetsnbextension~=4.0.12 in /home/mrtc101/miniconda3/envs/middlwares/lib/python3.13/site-packages (from ipywidgets->jupyter->-r requirements.txt (line 6)) (4.0.13)\n",
      "Requirement already satisfied: jupyterlab-widgets~=3.0.12 in /home/mrtc101/miniconda3/envs/middlwares/lib/python3.13/site-packages (from ipywidgets->jupyter->-r requirements.txt (line 6)) (3.0.13)\n",
      "Requirement already satisfied: prompt-toolkit>=3.0.30 in /home/mrtc101/miniconda3/envs/middlwares/lib/python3.13/site-packages (from jupyter-console->jupyter->-r requirements.txt (line 6)) (3.0.48)\n",
      "Requirement already satisfied: pygments in /home/mrtc101/miniconda3/envs/middlwares/lib/python3.13/site-packages (from jupyter-console->jupyter->-r requirements.txt (line 6)) (2.18.0)\n",
      "Requirement already satisfied: async-lru>=1.0.0 in /home/mrtc101/miniconda3/envs/middlwares/lib/python3.13/site-packages (from jupyterlab->jupyter->-r requirements.txt (line 6)) (2.0.4)\n",
      "Requirement already satisfied: httpx>=0.25.0 in /home/mrtc101/miniconda3/envs/middlwares/lib/python3.13/site-packages (from jupyterlab->jupyter->-r requirements.txt (line 6)) (0.27.2)\n",
      "Requirement already satisfied: jinja2>=3.0.3 in /home/mrtc101/miniconda3/envs/middlwares/lib/python3.13/site-packages (from jupyterlab->jupyter->-r requirements.txt (line 6)) (3.1.4)\n",
      "Requirement already satisfied: jupyter-lsp>=2.0.0 in /home/mrtc101/miniconda3/envs/middlwares/lib/python3.13/site-packages (from jupyterlab->jupyter->-r requirements.txt (line 6)) (2.2.5)\n",
      "Requirement already satisfied: jupyter-server<3,>=2.4.0 in /home/mrtc101/miniconda3/envs/middlwares/lib/python3.13/site-packages (from jupyterlab->jupyter->-r requirements.txt (line 6)) (2.14.2)\n",
      "Requirement already satisfied: jupyterlab-server<3,>=2.27.1 in /home/mrtc101/miniconda3/envs/middlwares/lib/python3.13/site-packages (from jupyterlab->jupyter->-r requirements.txt (line 6)) (2.27.3)\n",
      "Requirement already satisfied: notebook-shim>=0.2 in /home/mrtc101/miniconda3/envs/middlwares/lib/python3.13/site-packages (from jupyterlab->jupyter->-r requirements.txt (line 6)) (0.2.4)\n",
      "Requirement already satisfied: setuptools>=40.1.0 in /home/mrtc101/miniconda3/envs/middlwares/lib/python3.13/site-packages (from jupyterlab->jupyter->-r requirements.txt (line 6)) (75.1.0)\n",
      "Requirement already satisfied: beautifulsoup4 in /home/mrtc101/miniconda3/envs/middlwares/lib/python3.13/site-packages (from nbconvert->jupyter->-r requirements.txt (line 6)) (4.12.3)\n",
      "Requirement already satisfied: bleach!=5.0.0 in /home/mrtc101/miniconda3/envs/middlwares/lib/python3.13/site-packages (from nbconvert->jupyter->-r requirements.txt (line 6)) (6.2.0)\n",
      "Requirement already satisfied: defusedxml in /home/mrtc101/miniconda3/envs/middlwares/lib/python3.13/site-packages (from nbconvert->jupyter->-r requirements.txt (line 6)) (0.7.1)\n",
      "Requirement already satisfied: jupyterlab-pygments in /home/mrtc101/miniconda3/envs/middlwares/lib/python3.13/site-packages (from nbconvert->jupyter->-r requirements.txt (line 6)) (0.3.0)\n",
      "Requirement already satisfied: markupsafe>=2.0 in /home/mrtc101/miniconda3/envs/middlwares/lib/python3.13/site-packages (from nbconvert->jupyter->-r requirements.txt (line 6)) (3.0.2)\n",
      "Requirement already satisfied: mistune<4,>=2.0.3 in /home/mrtc101/miniconda3/envs/middlwares/lib/python3.13/site-packages (from nbconvert->jupyter->-r requirements.txt (line 6)) (3.0.2)\n",
      "Requirement already satisfied: nbclient>=0.5.0 in /home/mrtc101/miniconda3/envs/middlwares/lib/python3.13/site-packages (from nbconvert->jupyter->-r requirements.txt (line 6)) (0.10.0)\n",
      "Requirement already satisfied: nbformat>=5.7 in /home/mrtc101/miniconda3/envs/middlwares/lib/python3.13/site-packages (from nbconvert->jupyter->-r requirements.txt (line 6)) (5.10.4)\n",
      "Requirement already satisfied: pandocfilters>=1.4.1 in /home/mrtc101/miniconda3/envs/middlwares/lib/python3.13/site-packages (from nbconvert->jupyter->-r requirements.txt (line 6)) (1.5.1)\n",
      "Requirement already satisfied: tinycss2 in /home/mrtc101/miniconda3/envs/middlwares/lib/python3.13/site-packages (from nbconvert->jupyter->-r requirements.txt (line 6)) (1.4.0)\n",
      "Requirement already satisfied: webencodings in /home/mrtc101/miniconda3/envs/middlwares/lib/python3.13/site-packages (from bleach!=5.0.0->nbconvert->jupyter->-r requirements.txt (line 6)) (0.5.1)\n",
      "Requirement already satisfied: anyio in /home/mrtc101/miniconda3/envs/middlwares/lib/python3.13/site-packages (from httpx>=0.25.0->jupyterlab->jupyter->-r requirements.txt (line 6)) (4.6.2.post1)\n",
      "Requirement already satisfied: certifi in /home/mrtc101/miniconda3/envs/middlwares/lib/python3.13/site-packages (from httpx>=0.25.0->jupyterlab->jupyter->-r requirements.txt (line 6)) (2024.8.30)\n",
      "Requirement already satisfied: httpcore==1.* in /home/mrtc101/miniconda3/envs/middlwares/lib/python3.13/site-packages (from httpx>=0.25.0->jupyterlab->jupyter->-r requirements.txt (line 6)) (1.0.6)\n",
      "Requirement already satisfied: idna in /home/mrtc101/miniconda3/envs/middlwares/lib/python3.13/site-packages (from httpx>=0.25.0->jupyterlab->jupyter->-r requirements.txt (line 6)) (3.10)\n",
      "Requirement already satisfied: sniffio in /home/mrtc101/miniconda3/envs/middlwares/lib/python3.13/site-packages (from httpx>=0.25.0->jupyterlab->jupyter->-r requirements.txt (line 6)) (1.3.1)\n",
      "Requirement already satisfied: h11<0.15,>=0.13 in /home/mrtc101/miniconda3/envs/middlwares/lib/python3.13/site-packages (from httpcore==1.*->httpx>=0.25.0->jupyterlab->jupyter->-r requirements.txt (line 6)) (0.14.0)\n",
      "Requirement already satisfied: decorator in /home/mrtc101/miniconda3/envs/middlwares/lib/python3.13/site-packages (from ipython>=7.23.1->ipykernel->jupyter->-r requirements.txt (line 6)) (5.1.1)\n",
      "Requirement already satisfied: jedi>=0.16 in /home/mrtc101/miniconda3/envs/middlwares/lib/python3.13/site-packages (from ipython>=7.23.1->ipykernel->jupyter->-r requirements.txt (line 6)) (0.19.1)\n",
      "Requirement already satisfied: stack-data in /home/mrtc101/miniconda3/envs/middlwares/lib/python3.13/site-packages (from ipython>=7.23.1->ipykernel->jupyter->-r requirements.txt (line 6)) (0.6.3)\n",
      "Requirement already satisfied: pexpect>4.3 in /home/mrtc101/miniconda3/envs/middlwares/lib/python3.13/site-packages (from ipython>=7.23.1->ipykernel->jupyter->-r requirements.txt (line 6)) (4.9.0)\n",
      "Requirement already satisfied: platformdirs>=2.5 in /home/mrtc101/miniconda3/envs/middlwares/lib/python3.13/site-packages (from jupyter-core!=5.0.*,>=4.12->ipykernel->jupyter->-r requirements.txt (line 6)) (4.3.6)\n",
      "Requirement already satisfied: argon2-cffi>=21.1 in /home/mrtc101/miniconda3/envs/middlwares/lib/python3.13/site-packages (from jupyter-server<3,>=2.4.0->jupyterlab->jupyter->-r requirements.txt (line 6)) (23.1.0)\n",
      "Requirement already satisfied: jupyter-events>=0.9.0 in /home/mrtc101/miniconda3/envs/middlwares/lib/python3.13/site-packages (from jupyter-server<3,>=2.4.0->jupyterlab->jupyter->-r requirements.txt (line 6)) (0.10.0)\n",
      "Requirement already satisfied: jupyter-server-terminals>=0.4.4 in /home/mrtc101/miniconda3/envs/middlwares/lib/python3.13/site-packages (from jupyter-server<3,>=2.4.0->jupyterlab->jupyter->-r requirements.txt (line 6)) (0.5.3)\n",
      "Requirement already satisfied: overrides>=5.0 in /home/mrtc101/miniconda3/envs/middlwares/lib/python3.13/site-packages (from jupyter-server<3,>=2.4.0->jupyterlab->jupyter->-r requirements.txt (line 6)) (7.7.0)\n",
      "Requirement already satisfied: prometheus-client>=0.9 in /home/mrtc101/miniconda3/envs/middlwares/lib/python3.13/site-packages (from jupyter-server<3,>=2.4.0->jupyterlab->jupyter->-r requirements.txt (line 6)) (0.21.0)\n",
      "Requirement already satisfied: send2trash>=1.8.2 in /home/mrtc101/miniconda3/envs/middlwares/lib/python3.13/site-packages (from jupyter-server<3,>=2.4.0->jupyterlab->jupyter->-r requirements.txt (line 6)) (1.8.3)\n",
      "Requirement already satisfied: terminado>=0.8.3 in /home/mrtc101/miniconda3/envs/middlwares/lib/python3.13/site-packages (from jupyter-server<3,>=2.4.0->jupyterlab->jupyter->-r requirements.txt (line 6)) (0.18.1)\n",
      "Requirement already satisfied: websocket-client>=1.7 in /home/mrtc101/miniconda3/envs/middlwares/lib/python3.13/site-packages (from jupyter-server<3,>=2.4.0->jupyterlab->jupyter->-r requirements.txt (line 6)) (1.8.0)\n",
      "Requirement already satisfied: babel>=2.10 in /home/mrtc101/miniconda3/envs/middlwares/lib/python3.13/site-packages (from jupyterlab-server<3,>=2.27.1->jupyterlab->jupyter->-r requirements.txt (line 6)) (2.16.0)\n",
      "Requirement already satisfied: json5>=0.9.0 in /home/mrtc101/miniconda3/envs/middlwares/lib/python3.13/site-packages (from jupyterlab-server<3,>=2.27.1->jupyterlab->jupyter->-r requirements.txt (line 6)) (0.9.25)\n",
      "Requirement already satisfied: jsonschema>=4.18.0 in /home/mrtc101/miniconda3/envs/middlwares/lib/python3.13/site-packages (from jupyterlab-server<3,>=2.27.1->jupyterlab->jupyter->-r requirements.txt (line 6)) (4.23.0)\n",
      "Requirement already satisfied: requests>=2.31 in /home/mrtc101/miniconda3/envs/middlwares/lib/python3.13/site-packages (from jupyterlab-server<3,>=2.27.1->jupyterlab->jupyter->-r requirements.txt (line 6)) (2.32.3)\n",
      "Requirement already satisfied: fastjsonschema>=2.15 in /home/mrtc101/miniconda3/envs/middlwares/lib/python3.13/site-packages (from nbformat>=5.7->nbconvert->jupyter->-r requirements.txt (line 6)) (2.20.0)\n",
      "Requirement already satisfied: wcwidth in /home/mrtc101/miniconda3/envs/middlwares/lib/python3.13/site-packages (from prompt-toolkit>=3.0.30->jupyter-console->jupyter->-r requirements.txt (line 6)) (0.2.13)\n",
      "Requirement already satisfied: soupsieve>1.2 in /home/mrtc101/miniconda3/envs/middlwares/lib/python3.13/site-packages (from beautifulsoup4->nbconvert->jupyter->-r requirements.txt (line 6)) (2.6)\n",
      "Requirement already satisfied: argon2-cffi-bindings in /home/mrtc101/miniconda3/envs/middlwares/lib/python3.13/site-packages (from argon2-cffi>=21.1->jupyter-server<3,>=2.4.0->jupyterlab->jupyter->-r requirements.txt (line 6)) (21.2.0)\n",
      "Requirement already satisfied: parso<0.9.0,>=0.8.3 in /home/mrtc101/miniconda3/envs/middlwares/lib/python3.13/site-packages (from jedi>=0.16->ipython>=7.23.1->ipykernel->jupyter->-r requirements.txt (line 6)) (0.8.4)\n",
      "Requirement already satisfied: attrs>=22.2.0 in /home/mrtc101/miniconda3/envs/middlwares/lib/python3.13/site-packages (from jsonschema>=4.18.0->jupyterlab-server<3,>=2.27.1->jupyterlab->jupyter->-r requirements.txt (line 6)) (24.2.0)\n",
      "Requirement already satisfied: jsonschema-specifications>=2023.03.6 in /home/mrtc101/miniconda3/envs/middlwares/lib/python3.13/site-packages (from jsonschema>=4.18.0->jupyterlab-server<3,>=2.27.1->jupyterlab->jupyter->-r requirements.txt (line 6)) (2024.10.1)\n",
      "Requirement already satisfied: referencing>=0.28.4 in /home/mrtc101/miniconda3/envs/middlwares/lib/python3.13/site-packages (from jsonschema>=4.18.0->jupyterlab-server<3,>=2.27.1->jupyterlab->jupyter->-r requirements.txt (line 6)) (0.35.1)\n",
      "Requirement already satisfied: rpds-py>=0.7.1 in /home/mrtc101/miniconda3/envs/middlwares/lib/python3.13/site-packages (from jsonschema>=4.18.0->jupyterlab-server<3,>=2.27.1->jupyterlab->jupyter->-r requirements.txt (line 6)) (0.20.1)\n",
      "Requirement already satisfied: python-json-logger>=2.0.4 in /home/mrtc101/miniconda3/envs/middlwares/lib/python3.13/site-packages (from jupyter-events>=0.9.0->jupyter-server<3,>=2.4.0->jupyterlab->jupyter->-r requirements.txt (line 6)) (2.0.7)\n",
      "Requirement already satisfied: pyyaml>=5.3 in /home/mrtc101/miniconda3/envs/middlwares/lib/python3.13/site-packages (from jupyter-events>=0.9.0->jupyter-server<3,>=2.4.0->jupyterlab->jupyter->-r requirements.txt (line 6)) (6.0.2)\n",
      "Requirement already satisfied: rfc3339-validator in /home/mrtc101/miniconda3/envs/middlwares/lib/python3.13/site-packages (from jupyter-events>=0.9.0->jupyter-server<3,>=2.4.0->jupyterlab->jupyter->-r requirements.txt (line 6)) (0.1.4)\n",
      "Requirement already satisfied: rfc3986-validator>=0.1.1 in /home/mrtc101/miniconda3/envs/middlwares/lib/python3.13/site-packages (from jupyter-events>=0.9.0->jupyter-server<3,>=2.4.0->jupyterlab->jupyter->-r requirements.txt (line 6)) (0.1.1)\n",
      "Requirement already satisfied: ptyprocess>=0.5 in /home/mrtc101/miniconda3/envs/middlwares/lib/python3.13/site-packages (from pexpect>4.3->ipython>=7.23.1->ipykernel->jupyter->-r requirements.txt (line 6)) (0.7.0)\n",
      "Requirement already satisfied: charset-normalizer<4,>=2 in /home/mrtc101/miniconda3/envs/middlwares/lib/python3.13/site-packages (from requests>=2.31->jupyterlab-server<3,>=2.27.1->jupyterlab->jupyter->-r requirements.txt (line 6)) (3.4.0)\n",
      "Requirement already satisfied: urllib3<3,>=1.21.1 in /home/mrtc101/miniconda3/envs/middlwares/lib/python3.13/site-packages (from requests>=2.31->jupyterlab-server<3,>=2.27.1->jupyterlab->jupyter->-r requirements.txt (line 6)) (2.2.3)\n",
      "Requirement already satisfied: executing>=1.2.0 in /home/mrtc101/miniconda3/envs/middlwares/lib/python3.13/site-packages (from stack-data->ipython>=7.23.1->ipykernel->jupyter->-r requirements.txt (line 6)) (2.1.0)\n",
      "Requirement already satisfied: asttokens>=2.1.0 in /home/mrtc101/miniconda3/envs/middlwares/lib/python3.13/site-packages (from stack-data->ipython>=7.23.1->ipykernel->jupyter->-r requirements.txt (line 6)) (2.4.1)\n",
      "Requirement already satisfied: pure-eval in /home/mrtc101/miniconda3/envs/middlwares/lib/python3.13/site-packages (from stack-data->ipython>=7.23.1->ipykernel->jupyter->-r requirements.txt (line 6)) (0.2.3)\n",
      "Requirement already satisfied: fqdn in /home/mrtc101/miniconda3/envs/middlwares/lib/python3.13/site-packages (from jsonschema[format-nongpl]>=4.18.0->jupyter-events>=0.9.0->jupyter-server<3,>=2.4.0->jupyterlab->jupyter->-r requirements.txt (line 6)) (1.5.1)\n",
      "Requirement already satisfied: isoduration in /home/mrtc101/miniconda3/envs/middlwares/lib/python3.13/site-packages (from jsonschema[format-nongpl]>=4.18.0->jupyter-events>=0.9.0->jupyter-server<3,>=2.4.0->jupyterlab->jupyter->-r requirements.txt (line 6)) (20.11.0)\n",
      "Requirement already satisfied: jsonpointer>1.13 in /home/mrtc101/miniconda3/envs/middlwares/lib/python3.13/site-packages (from jsonschema[format-nongpl]>=4.18.0->jupyter-events>=0.9.0->jupyter-server<3,>=2.4.0->jupyterlab->jupyter->-r requirements.txt (line 6)) (3.0.0)\n",
      "Requirement already satisfied: uri-template in /home/mrtc101/miniconda3/envs/middlwares/lib/python3.13/site-packages (from jsonschema[format-nongpl]>=4.18.0->jupyter-events>=0.9.0->jupyter-server<3,>=2.4.0->jupyterlab->jupyter->-r requirements.txt (line 6)) (1.3.0)\n",
      "Requirement already satisfied: webcolors>=24.6.0 in /home/mrtc101/miniconda3/envs/middlwares/lib/python3.13/site-packages (from jsonschema[format-nongpl]>=4.18.0->jupyter-events>=0.9.0->jupyter-server<3,>=2.4.0->jupyterlab->jupyter->-r requirements.txt (line 6)) (24.8.0)\n",
      "Requirement already satisfied: cffi>=1.0.1 in /home/mrtc101/miniconda3/envs/middlwares/lib/python3.13/site-packages (from argon2-cffi-bindings->argon2-cffi>=21.1->jupyter-server<3,>=2.4.0->jupyterlab->jupyter->-r requirements.txt (line 6)) (1.17.1)\n",
      "Requirement already satisfied: pycparser in /home/mrtc101/miniconda3/envs/middlwares/lib/python3.13/site-packages (from cffi>=1.0.1->argon2-cffi-bindings->argon2-cffi>=21.1->jupyter-server<3,>=2.4.0->jupyterlab->jupyter->-r requirements.txt (line 6)) (2.22)\n",
      "Requirement already satisfied: arrow>=0.15.0 in /home/mrtc101/miniconda3/envs/middlwares/lib/python3.13/site-packages (from isoduration->jsonschema[format-nongpl]>=4.18.0->jupyter-events>=0.9.0->jupyter-server<3,>=2.4.0->jupyterlab->jupyter->-r requirements.txt (line 6)) (1.3.0)\n",
      "Requirement already satisfied: types-python-dateutil>=2.8.10 in /home/mrtc101/miniconda3/envs/middlwares/lib/python3.13/site-packages (from arrow>=0.15.0->isoduration->jsonschema[format-nongpl]>=4.18.0->jupyter-events>=0.9.0->jupyter-server<3,>=2.4.0->jupyterlab->jupyter->-r requirements.txt (line 6)) (2.9.0.20241003)\n",
      "Note: you may need to restart the kernel to use updated packages.\n"
     ]
    }
   ],
   "source": [
    "%pip install -r requirements.txt"
   ]
  },
  {
   "cell_type": "code",
   "execution_count": 2,
   "metadata": {},
   "outputs": [],
   "source": [
    "import pandas as pd\n",
    "import matplotlib.pyplot as plt\n",
    "import os\n",
    "import plotly.express as px\n",
    "import plotly.graph_objects as go"
   ]
  },
  {
   "cell_type": "code",
   "execution_count": 3,
   "metadata": {},
   "outputs": [
    {
     "data": {
      "text/plain": [
       "dict_keys(['scenario-3-100', 'scenario-3-150', 'scenario-9-150', 'scenario-1-25', 'scenario-15-50', 'scenario-6-100', 'scenario-3-200', 'scenario-15-200', 'scenario-15-150', 'scenario-6-25', 'scenario-15-25', 'scenario-15-100', 'scenario-1-50', 'scenario-6-200', 'scenario-9-50', 'scenario-6-50', 'scenario-1-200', 'scenario-1-150', 'scenario-9-25', 'scenario-9-100', 'scenario-9-200', 'scenario-3-50', 'scenario-3-25', 'scenario-6-150', 'scenario-1-100'])"
      ]
     },
     "execution_count": 3,
     "metadata": {},
     "output_type": "execute_result"
    }
   ],
   "source": [
    "directory = '../java/resources/results/'\n",
    "all_cases_cloudlets = {}\n",
    "all_cases_vms = {}\n",
    "all_cases_brokers = {}\n",
    "\n",
    "for filename in os.listdir(directory):\n",
    "    \n",
    "    base= os.path.basename(filename)\n",
    "    name = os.path.splitext(base)[0]\n",
    "    # print(i)\n",
    "    \n",
    "    aux_df = pd.read_csv(directory+filename+'/cloudlets_results.csv')\n",
    "    aux_df.rename(columns={'Cloudlet ID':'task', 'Start Time':'start_time', 'Finish Time':'finish_time', 'Execution Time':'duration', 'VM ID':'vm'}, inplace=True)\n",
    "    aux_cloudlet_chars = pd.read_csv(directory+filename+'/cloudlet_chars.csv');\n",
    "    aux_cloudlet_chars.set_index('Cloudlet',inplace=True)\n",
    "    all_cases_cloudlets[name] = aux_df.join(aux_cloudlet_chars,on=\"task\")\n",
    "    aux_vms = pd.read_csv(directory+filename+'/vms_results.csv')\n",
    "    aux_vms.rename(columns={'VM ID':'vm', 'VM Load':'vm_load', 'Total Execution Time':'duration'}, inplace=True)\n",
    "    aux_vms_chars = pd.read_csv(directory+filename+'/vms_chars.csv');\n",
    "    aux_vms_chars.set_index('Vm', inplace=True)\n",
    "    all_cases_vms[name] = aux_vms.join(aux_vms_chars,on=\"vm\")\n",
    "    aux_brokers = pd.read_csv(directory+filename+'/brokers_results.csv')\n",
    "    aux_brokers.rename(columns={'Cpu Utilization':'utilization'}, inplace=True)\n",
    "    all_cases_brokers[name] = aux_brokers\n",
    "    \n",
    "all_cases_cloudlets.keys()"
   ]
  },
  {
   "cell_type": "code",
   "execution_count": 80,
   "metadata": {},
   "outputs": [
    {
     "data": {
      "text/plain": [
       "'scenario-6-25'"
      ]
     },
     "execution_count": 80,
     "metadata": {},
     "output_type": "execute_result"
    }
   ],
   "source": [
    "scenario = 'scenario-6-25'\n",
    "current_case = all_cases_cloudlets[scenario]\n",
    "current_case_vms = all_cases_vms[scenario]\n",
    "current_cloudlets = all_cases_cloudlets[scenario]\n",
    "scenario"
   ]
  },
  {
   "cell_type": "code",
   "execution_count": 81,
   "metadata": {},
   "outputs": [
    {
     "data": {
      "text/html": [
       "<div>\n",
       "<style scoped>\n",
       "    .dataframe tbody tr th:only-of-type {\n",
       "        vertical-align: middle;\n",
       "    }\n",
       "\n",
       "    .dataframe tbody tr th {\n",
       "        vertical-align: top;\n",
       "    }\n",
       "\n",
       "    .dataframe thead th {\n",
       "        text-align: right;\n",
       "    }\n",
       "</style>\n",
       "<table border=\"1\" class=\"dataframe\">\n",
       "  <thead>\n",
       "    <tr style=\"text-align: right;\">\n",
       "      <th></th>\n",
       "      <th>Broker</th>\n",
       "      <th>vm</th>\n",
       "      <th>vm_load</th>\n",
       "      <th>duration</th>\n",
       "      <th>Pes</th>\n",
       "      <th>Mips</th>\n",
       "    </tr>\n",
       "  </thead>\n",
       "  <tbody>\n",
       "    <tr>\n",
       "      <th>0</th>\n",
       "      <td>DatacenterBrokerSimple</td>\n",
       "      <td>0</td>\n",
       "      <td>0.20</td>\n",
       "      <td>380</td>\n",
       "      <td>7</td>\n",
       "      <td>302.0</td>\n",
       "    </tr>\n",
       "    <tr>\n",
       "      <th>1</th>\n",
       "      <td>DatacenterBrokerSimple</td>\n",
       "      <td>1</td>\n",
       "      <td>0.16</td>\n",
       "      <td>380</td>\n",
       "      <td>11</td>\n",
       "      <td>237.0</td>\n",
       "    </tr>\n",
       "    <tr>\n",
       "      <th>2</th>\n",
       "      <td>DatacenterBrokerSimple</td>\n",
       "      <td>2</td>\n",
       "      <td>0.16</td>\n",
       "      <td>380</td>\n",
       "      <td>12</td>\n",
       "      <td>42.0</td>\n",
       "    </tr>\n",
       "    <tr>\n",
       "      <th>3</th>\n",
       "      <td>DatacenterBrokerSimple</td>\n",
       "      <td>3</td>\n",
       "      <td>0.16</td>\n",
       "      <td>380</td>\n",
       "      <td>9</td>\n",
       "      <td>256.0</td>\n",
       "    </tr>\n",
       "    <tr>\n",
       "      <th>4</th>\n",
       "      <td>DatacenterBrokerSimple</td>\n",
       "      <td>4</td>\n",
       "      <td>0.16</td>\n",
       "      <td>380</td>\n",
       "      <td>7</td>\n",
       "      <td>379.0</td>\n",
       "    </tr>\n",
       "    <tr>\n",
       "      <th>5</th>\n",
       "      <td>DatacenterBrokerSimple</td>\n",
       "      <td>5</td>\n",
       "      <td>0.16</td>\n",
       "      <td>380</td>\n",
       "      <td>12</td>\n",
       "      <td>51.0</td>\n",
       "    </tr>\n",
       "    <tr>\n",
       "      <th>6</th>\n",
       "      <td>DatacenterBrokerPSO</td>\n",
       "      <td>0</td>\n",
       "      <td>0.20</td>\n",
       "      <td>209</td>\n",
       "      <td>7</td>\n",
       "      <td>302.0</td>\n",
       "    </tr>\n",
       "    <tr>\n",
       "      <th>7</th>\n",
       "      <td>DatacenterBrokerPSO</td>\n",
       "      <td>1</td>\n",
       "      <td>0.24</td>\n",
       "      <td>209</td>\n",
       "      <td>11</td>\n",
       "      <td>237.0</td>\n",
       "    </tr>\n",
       "    <tr>\n",
       "      <th>8</th>\n",
       "      <td>DatacenterBrokerPSO</td>\n",
       "      <td>2</td>\n",
       "      <td>0.04</td>\n",
       "      <td>209</td>\n",
       "      <td>12</td>\n",
       "      <td>42.0</td>\n",
       "    </tr>\n",
       "    <tr>\n",
       "      <th>9</th>\n",
       "      <td>DatacenterBrokerPSO</td>\n",
       "      <td>3</td>\n",
       "      <td>0.24</td>\n",
       "      <td>209</td>\n",
       "      <td>9</td>\n",
       "      <td>256.0</td>\n",
       "    </tr>\n",
       "    <tr>\n",
       "      <th>10</th>\n",
       "      <td>DatacenterBrokerPSO</td>\n",
       "      <td>4</td>\n",
       "      <td>0.24</td>\n",
       "      <td>209</td>\n",
       "      <td>7</td>\n",
       "      <td>379.0</td>\n",
       "    </tr>\n",
       "    <tr>\n",
       "      <th>11</th>\n",
       "      <td>DatacenterBrokerPSO</td>\n",
       "      <td>5</td>\n",
       "      <td>0.04</td>\n",
       "      <td>209</td>\n",
       "      <td>12</td>\n",
       "      <td>51.0</td>\n",
       "    </tr>\n",
       "    <tr>\n",
       "      <th>12</th>\n",
       "      <td>DatacenterBrokerHeuristic</td>\n",
       "      <td>0</td>\n",
       "      <td>0.12</td>\n",
       "      <td>316</td>\n",
       "      <td>7</td>\n",
       "      <td>302.0</td>\n",
       "    </tr>\n",
       "    <tr>\n",
       "      <th>13</th>\n",
       "      <td>DatacenterBrokerHeuristic</td>\n",
       "      <td>1</td>\n",
       "      <td>0.12</td>\n",
       "      <td>316</td>\n",
       "      <td>11</td>\n",
       "      <td>237.0</td>\n",
       "    </tr>\n",
       "    <tr>\n",
       "      <th>14</th>\n",
       "      <td>DatacenterBrokerHeuristic</td>\n",
       "      <td>2</td>\n",
       "      <td>0.08</td>\n",
       "      <td>316</td>\n",
       "      <td>12</td>\n",
       "      <td>42.0</td>\n",
       "    </tr>\n",
       "    <tr>\n",
       "      <th>15</th>\n",
       "      <td>DatacenterBrokerHeuristic</td>\n",
       "      <td>3</td>\n",
       "      <td>0.36</td>\n",
       "      <td>316</td>\n",
       "      <td>9</td>\n",
       "      <td>256.0</td>\n",
       "    </tr>\n",
       "    <tr>\n",
       "      <th>16</th>\n",
       "      <td>DatacenterBrokerHeuristic</td>\n",
       "      <td>4</td>\n",
       "      <td>0.08</td>\n",
       "      <td>316</td>\n",
       "      <td>7</td>\n",
       "      <td>379.0</td>\n",
       "    </tr>\n",
       "    <tr>\n",
       "      <th>17</th>\n",
       "      <td>DatacenterBrokerHeuristic</td>\n",
       "      <td>5</td>\n",
       "      <td>0.24</td>\n",
       "      <td>316</td>\n",
       "      <td>12</td>\n",
       "      <td>51.0</td>\n",
       "    </tr>\n",
       "  </tbody>\n",
       "</table>\n",
       "</div>"
      ],
      "text/plain": [
       "                       Broker  vm  vm_load  duration  Pes   Mips\n",
       "0      DatacenterBrokerSimple   0     0.20       380    7  302.0\n",
       "1      DatacenterBrokerSimple   1     0.16       380   11  237.0\n",
       "2      DatacenterBrokerSimple   2     0.16       380   12   42.0\n",
       "3      DatacenterBrokerSimple   3     0.16       380    9  256.0\n",
       "4      DatacenterBrokerSimple   4     0.16       380    7  379.0\n",
       "5      DatacenterBrokerSimple   5     0.16       380   12   51.0\n",
       "6         DatacenterBrokerPSO   0     0.20       209    7  302.0\n",
       "7         DatacenterBrokerPSO   1     0.24       209   11  237.0\n",
       "8         DatacenterBrokerPSO   2     0.04       209   12   42.0\n",
       "9         DatacenterBrokerPSO   3     0.24       209    9  256.0\n",
       "10        DatacenterBrokerPSO   4     0.24       209    7  379.0\n",
       "11        DatacenterBrokerPSO   5     0.04       209   12   51.0\n",
       "12  DatacenterBrokerHeuristic   0     0.12       316    7  302.0\n",
       "13  DatacenterBrokerHeuristic   1     0.12       316   11  237.0\n",
       "14  DatacenterBrokerHeuristic   2     0.08       316   12   42.0\n",
       "15  DatacenterBrokerHeuristic   3     0.36       316    9  256.0\n",
       "16  DatacenterBrokerHeuristic   4     0.08       316    7  379.0\n",
       "17  DatacenterBrokerHeuristic   5     0.24       316   12   51.0"
      ]
     },
     "execution_count": 81,
     "metadata": {},
     "output_type": "execute_result"
    }
   ],
   "source": [
    "current_case_vms"
   ]
  },
  {
   "cell_type": "code",
   "execution_count": 82,
   "metadata": {},
   "outputs": [
    {
     "data": {
      "text/html": [
       "<div>\n",
       "<style scoped>\n",
       "    .dataframe tbody tr th:only-of-type {\n",
       "        vertical-align: middle;\n",
       "    }\n",
       "\n",
       "    .dataframe tbody tr th {\n",
       "        vertical-align: top;\n",
       "    }\n",
       "\n",
       "    .dataframe thead th {\n",
       "        text-align: right;\n",
       "    }\n",
       "</style>\n",
       "<table border=\"1\" class=\"dataframe\">\n",
       "  <thead>\n",
       "    <tr style=\"text-align: right;\">\n",
       "      <th></th>\n",
       "      <th>Broker</th>\n",
       "      <th>task</th>\n",
       "      <th>vm</th>\n",
       "      <th>duration</th>\n",
       "      <th>start_time</th>\n",
       "      <th>finish_time</th>\n",
       "      <th>CPU Utilization Start</th>\n",
       "      <th>CPU Utilization Finish</th>\n",
       "      <th>Pes</th>\n",
       "      <th>Lenght</th>\n",
       "    </tr>\n",
       "  </thead>\n",
       "  <tbody>\n",
       "    <tr>\n",
       "      <th>0</th>\n",
       "      <td>DatacenterBrokerSimple</td>\n",
       "      <td>0</td>\n",
       "      <td>0</td>\n",
       "      <td>21</td>\n",
       "      <td>0</td>\n",
       "      <td>22</td>\n",
       "      <td>1</td>\n",
       "      <td>1</td>\n",
       "      <td>4</td>\n",
       "      <td>6489</td>\n",
       "    </tr>\n",
       "    <tr>\n",
       "      <th>1</th>\n",
       "      <td>DatacenterBrokerSimple</td>\n",
       "      <td>16</td>\n",
       "      <td>4</td>\n",
       "      <td>22</td>\n",
       "      <td>0</td>\n",
       "      <td>22</td>\n",
       "      <td>1</td>\n",
       "      <td>1</td>\n",
       "      <td>1</td>\n",
       "      <td>8411</td>\n",
       "    </tr>\n",
       "    <tr>\n",
       "      <th>2</th>\n",
       "      <td>DatacenterBrokerSimple</td>\n",
       "      <td>4</td>\n",
       "      <td>4</td>\n",
       "      <td>24</td>\n",
       "      <td>0</td>\n",
       "      <td>24</td>\n",
       "      <td>1</td>\n",
       "      <td>1</td>\n",
       "      <td>4</td>\n",
       "      <td>8918</td>\n",
       "    </tr>\n",
       "    <tr>\n",
       "      <th>3</th>\n",
       "      <td>DatacenterBrokerSimple</td>\n",
       "      <td>7</td>\n",
       "      <td>1</td>\n",
       "      <td>29</td>\n",
       "      <td>0</td>\n",
       "      <td>29</td>\n",
       "      <td>1</td>\n",
       "      <td>1</td>\n",
       "      <td>4</td>\n",
       "      <td>6848</td>\n",
       "    </tr>\n",
       "    <tr>\n",
       "      <th>4</th>\n",
       "      <td>DatacenterBrokerSimple</td>\n",
       "      <td>3</td>\n",
       "      <td>3</td>\n",
       "      <td>33</td>\n",
       "      <td>0</td>\n",
       "      <td>33</td>\n",
       "      <td>1</td>\n",
       "      <td>1</td>\n",
       "      <td>2</td>\n",
       "      <td>8430</td>\n",
       "    </tr>\n",
       "    <tr>\n",
       "      <th>...</th>\n",
       "      <td>...</td>\n",
       "      <td>...</td>\n",
       "      <td>...</td>\n",
       "      <td>...</td>\n",
       "      <td>...</td>\n",
       "      <td>...</td>\n",
       "      <td>...</td>\n",
       "      <td>...</td>\n",
       "      <td>...</td>\n",
       "      <td>...</td>\n",
       "    </tr>\n",
       "    <tr>\n",
       "      <th>70</th>\n",
       "      <td>DatacenterBrokerHeuristic</td>\n",
       "      <td>16</td>\n",
       "      <td>2</td>\n",
       "      <td>202</td>\n",
       "      <td>0</td>\n",
       "      <td>202</td>\n",
       "      <td>1</td>\n",
       "      <td>1</td>\n",
       "      <td>1</td>\n",
       "      <td>8411</td>\n",
       "    </tr>\n",
       "    <tr>\n",
       "      <th>71</th>\n",
       "      <td>DatacenterBrokerHeuristic</td>\n",
       "      <td>15</td>\n",
       "      <td>2</td>\n",
       "      <td>203</td>\n",
       "      <td>0</td>\n",
       "      <td>203</td>\n",
       "      <td>1</td>\n",
       "      <td>1</td>\n",
       "      <td>3</td>\n",
       "      <td>8456</td>\n",
       "    </tr>\n",
       "    <tr>\n",
       "      <th>72</th>\n",
       "      <td>DatacenterBrokerHeuristic</td>\n",
       "      <td>18</td>\n",
       "      <td>5</td>\n",
       "      <td>135</td>\n",
       "      <td>135</td>\n",
       "      <td>270</td>\n",
       "      <td>1</td>\n",
       "      <td>1</td>\n",
       "      <td>5</td>\n",
       "      <td>6838</td>\n",
       "    </tr>\n",
       "    <tr>\n",
       "      <th>73</th>\n",
       "      <td>DatacenterBrokerHeuristic</td>\n",
       "      <td>14</td>\n",
       "      <td>5</td>\n",
       "      <td>162</td>\n",
       "      <td>128</td>\n",
       "      <td>290</td>\n",
       "      <td>1</td>\n",
       "      <td>1</td>\n",
       "      <td>3</td>\n",
       "      <td>8194</td>\n",
       "    </tr>\n",
       "    <tr>\n",
       "      <th>74</th>\n",
       "      <td>DatacenterBrokerHeuristic</td>\n",
       "      <td>19</td>\n",
       "      <td>5</td>\n",
       "      <td>143</td>\n",
       "      <td>173</td>\n",
       "      <td>316</td>\n",
       "      <td>1</td>\n",
       "      <td>1</td>\n",
       "      <td>4</td>\n",
       "      <td>7259</td>\n",
       "    </tr>\n",
       "  </tbody>\n",
       "</table>\n",
       "<p>75 rows × 10 columns</p>\n",
       "</div>"
      ],
      "text/plain": [
       "                       Broker  task  vm  duration  start_time  finish_time  \\\n",
       "0      DatacenterBrokerSimple     0   0        21           0           22   \n",
       "1      DatacenterBrokerSimple    16   4        22           0           22   \n",
       "2      DatacenterBrokerSimple     4   4        24           0           24   \n",
       "3      DatacenterBrokerSimple     7   1        29           0           29   \n",
       "4      DatacenterBrokerSimple     3   3        33           0           33   \n",
       "..                        ...   ...  ..       ...         ...          ...   \n",
       "70  DatacenterBrokerHeuristic    16   2       202           0          202   \n",
       "71  DatacenterBrokerHeuristic    15   2       203           0          203   \n",
       "72  DatacenterBrokerHeuristic    18   5       135         135          270   \n",
       "73  DatacenterBrokerHeuristic    14   5       162         128          290   \n",
       "74  DatacenterBrokerHeuristic    19   5       143         173          316   \n",
       "\n",
       "    CPU Utilization Start  CPU Utilization Finish  Pes  Lenght  \n",
       "0                       1                       1    4    6489  \n",
       "1                       1                       1    1    8411  \n",
       "2                       1                       1    4    8918  \n",
       "3                       1                       1    4    6848  \n",
       "4                       1                       1    2    8430  \n",
       "..                    ...                     ...  ...     ...  \n",
       "70                      1                       1    1    8411  \n",
       "71                      1                       1    3    8456  \n",
       "72                      1                       1    5    6838  \n",
       "73                      1                       1    3    8194  \n",
       "74                      1                       1    4    7259  \n",
       "\n",
       "[75 rows x 10 columns]"
      ]
     },
     "execution_count": 82,
     "metadata": {},
     "output_type": "execute_result"
    }
   ],
   "source": [
    "current_case"
   ]
  },
  {
   "cell_type": "code",
   "execution_count": 83,
   "metadata": {},
   "outputs": [
    {
     "data": {
      "image/png": "[encoded data removed]",
      "text/html": [
       "<div style=\"vertical-align: middle;\"><strong>my_colors</strong> </div><div class=\"cmap\"><img alt=\"my_colors colormap\" title=\"my_colors\" style=\"border: 1px solid #555;\" src=\"data:image/png;base64,iVBORw0KGgoAAAANSUhEUgAAAgAAAABACAYAAABsv8+/AAAAGHRFWHRUaXRsZQBteV9jb2xvcnMgY29sb3JtYXBwoNBKAAAAHnRFWHREZXNjcmlwdGlvbgBteV9jb2xvcnMgY29sb3JtYXAyOzbBAAAAMHRFWHRBdXRob3IATWF0cGxvdGxpYiB2My45LjIsIGh0dHBzOi8vbWF0cGxvdGxpYi5vcmdhmcVTAAAAMnRFWHRTb2Z0d2FyZQBNYXRwbG90bGliIHYzLjkuMiwgaHR0cHM6Ly9tYXRwbG90bGliLm9yZ08/WnQAAAOtSURBVHic7dbda9d1GMfh71YbQR0s6IEcIbiiqERpCyyKAovUrFhBBz1QVOthW7RyGLZCjUyxpRRuK8MYxE4CDdYEs4NGiUVhjGppzFhTWGGDELLo8dfxvU9/Qfd1nb3d53ZD53zV1aqqVs2z58hs2HfUFsx/UtW9Enft3s/jx2/YW9zURjbEN1PzPr7+++JmY91w2D0biidV0/zPc/yTsE8O7CtuDn3YHfbylQ+Gvb7W+h9fSzXvzddht7bcVty0HTgS9tgPy4o3tY6dYT/6Rfzc1773dHHz8a3bwp7etyXsJ1b8WdxMjl4a9kTbseLN0I/3h71mdHPYv9Q/V9yc/Xx92HV1b4a96OWh4uax4fGwuz77I+zauy8WN9NL1oS9eO6K4s1I1+Vh33391rBPDt5S3PRtvyjsge5n4tfy6z3FTee63rDb5zqLNzeNXBL2wsGGsMe+XVjctPQfDnu2762wJ3vuLG4Wj/8Wv97e+HfYMjtW3PQ3NoV981h/8ebwqQvD3nRsT9jbTi+/l5f3PBX2+5vPDHvqxERxs7I7/sM6sLY97OndXxU3F/z1etj3HW8u3py2YHXYW86In2eya0lxM7wj/hzr2zgY9taeu4qbhoPxB9nU/nOLNxdvaYxvdt8Ydvd3O4qb/avjn39tYG3YP296qLj56Ghb2LfPLAr7gd+Hi5vh9qvCfrX2QfHmybOuC/vT5vgzddk3K4qbpQ+/EPbEwCNhzzSvKm4OVUvD3tE5WrxZNfRO2B21jrCbqu3l7/vSeNitz8Zdm47f21VVVf+cf3XYfzfMhb2zcd5/CFVVfdl6MOy1M28Xb1q6zgm747xdYfde9lNxc2pX/Hl45RuvhX20b6S42X7imrAfX9dYvKkvfgUA+N8TAACQkAAAgIQEAAAkJAAAICEBAAAJCQAASEgAAEBCAgAAEhIAAJCQAACAhAQAACQkAAAgIQEAAAkJAABISAAAQEICAAASEgAAkJAAAICEBAAAJCQAACAhAQAACQkAAEhIAABAQgIAABISAACQkAAAgIQEAAAkJAAAICEBAAAJCQAASEgAAEBCAgAAEhIAAJCQAACAhAQAACQkAAAgIQEAAAkJAABISAAAQEICAAASEgAAkJAAAICEBAAAJCQAACAhAQAACQkAAEhIAABAQgIAABISAACQkAAAgIQEAAAkJAAAICEBAAAJCQAASEgAAEBCAgAAEhIAAJCQAACAhAQAACQkAAAgIQEAAAkJAABI6F+iY7H49V0pQQAAAABJRU5ErkJggg==\"></div><div style=\"vertical-align: middle; max-width: 514px; display: flex; justify-content: space-between;\"><div style=\"float: left;\"><div title=\"#ff0000ff\" style=\"display: inline-block; width: 1em; height: 1em; margin: 0; vertical-align: middle; border: 1px solid #555; background-color: #ff0000ff;\"></div> under</div><div style=\"margin: 0 auto; display: inline-block;\">bad <div title=\"#00000000\" style=\"display: inline-block; width: 1em; height: 1em; margin: 0; vertical-align: middle; border: 1px solid #555; background-color: #00000000;\"></div></div><div style=\"float: right;\">over <div title=\"#d3d3d3ff\" style=\"display: inline-block; width: 1em; height: 1em; margin: 0; vertical-align: middle; border: 1px solid #555; background-color: #d3d3d3ff;\"></div></div></div>"
      ],
      "text/plain": [
       "<matplotlib.colors.ListedColormap at 0x7f5939b43960>"
      ]
     },
     "execution_count": 83,
     "metadata": {},
     "output_type": "execute_result"
    }
   ],
   "source": [
    "from matplotlib import colormaps\n",
    "from matplotlib.colors import ListedColormap, to_hex\n",
    "\n",
    "colors = [\n",
    "    'red', 'lightblue', 'gold', 'darkgreen', 'pink', 'navy', 'orange',\n",
    "    'green', 'lightyellow', 'purple', 'lightcoral', 'teal', 'tomato',\n",
    "    'aliceblue', 'darkkhaki', 'mediumblue', 'chartreuse', 'black',\n",
    "    'aquamarine', 'firebrick', 'lavender', 'yellowgreen', 'darkorchid',\n",
    "    'blue', 'mediumseagreen', 'fuchsia', 'burlywood', 'indigo',\n",
    "    'lightseagreen', 'khaki', 'skyblue', 'salmon', 'violet', 'ivory',\n",
    "    'darkblue', 'forestgreen', 'blueviolet', 'beige', 'sandybrown',\n",
    "    'lightgray', 'deepskyblue', 'brown', 'hotpink', 'azure', 'olivedrab',\n",
    "    'mediumspringgreen', 'lavenderblush', 'dimgray', 'mediumorchid',\n",
    "    'snow', 'dodgerblue', 'chocolate', 'whitesmoke', 'palevioletred',\n",
    "    'powderblue', 'plum', 'crimson', 'floralwhite', 'darkred', 'tan',\n",
    "    'darkgray', 'seagreen', 'rosybrown', 'yellow', 'darkgoldenrod',\n",
    "    'mediumpurple', 'gainsboro', 'sienna', 'chartreuse', 'palegreen',\n",
    "    'wheat', 'ghostwhite', 'maroon', 'darkolivegreen', 'mintcream',\n",
    "    'slategray', 'linen', 'lightpink', 'orchid', 'cornsilk', 'goldenrod',\n",
    "    'steelblue', 'darkturquoise', 'tomato', 'palegoldenrod', 'lightsteelblue',\n",
    "    'orange', 'cadetblue', 'papayawhip', 'lightgreen', 'lemonchiffon',\n",
    "    'mediumvioletred', 'blanchedalmond', 'darkslategray', 'moccasin',\n",
    "    'lightcyan', 'greenyellow', 'royalblue', 'darkmagenta', 'honeydew',\n",
    "    'springgreen', 'peru', 'aqua', 'navajowhite', 'oldlace', 'lightgoldenrodyellow',\n",
    "    'darkviolet', 'rebeccapurple', 'crimson', 'coral', 'cornflowerblue',\n",
    "    'thistle', 'indianred', 'seashell', 'palevioletred', 'slateblue', 'lightgrey'\n",
    "]\n",
    "available_colors = ListedColormap(colors=[to_hex(c)for c in colors],name=\"my_colors\")\n",
    "available_colors"
   ]
  },
  {
   "cell_type": "code",
   "execution_count": 84,
   "metadata": {},
   "outputs": [
    {
     "data": {
      "image/png": "[encoded data removed]",
      "text/plain": [
       "<Figure size 800x1200 with 3 Axes>"
      ]
     },
     "metadata": {},
     "output_type": "display_data"
    }
   ],
   "source": [
    "import matplotlib.pyplot as plt\n",
    "import pandas as pd\n",
    "import re\n",
    "from matplotlib.axes import Axes\n",
    "\n",
    "# Filtrar los datos por cada broker\n",
    "brokers = current_case['Broker'].unique()\n",
    "num_brokers = len(brokers)\n",
    "\n",
    "# Crear subplots\n",
    "fig, axs = plt.subplots(num_brokers, 1, figsize=(8, 4 * num_brokers), sharex=True)\n",
    "\n",
    "# Asegurar que axs sea una lista, incluso si hay un solo broker\n",
    "axs = axs if num_brokers > 1 else [axs]\n",
    "\n",
    "# Crear un gráfico para cada broker\n",
    "vms_df = current_case_vms.set_index(['Broker', 'vm'])\n",
    "\n",
    "for ax, broker in zip(axs, brokers):\n",
    "    broker_data = current_cloudlets[current_cloudlets['Broker'] == broker]\n",
    "    \n",
    "    for i, task in broker_data.iterrows():\n",
    "        vm = vms_df.loc[(broker, task['vm'])]\n",
    "        lab = f\"VM {task['vm']} | Pes: {int(vm['Pes']):03d} | Mips: {int(vm['Mips']):03d}\"\n",
    "        ax.barh(y=task['task'], width=task['duration'], left=task['start_time'], \n",
    "                height=1,\n",
    "                edgecolor='black',\n",
    "                color=available_colors(task['vm']), \n",
    "                label=lab)\n",
    "\n",
    "    # Configurar el eje y para mostrar números enteros o categorías\n",
    "    ax.set_ylabel('ID de Tarea')\n",
    "    ax.set_yticks(broker_data['task'])  # Asegura que los ticks del eje y correspondan a las tareas\n",
    "    ax.set_yticklabels(broker_data['task'].astype(str), rotation=0)  # Muestra IDs como texto\n",
    "    ax.set_ylim(broker_data['task'].min() - 0.5, broker_data['task'].max() + 0.5)\n",
    "    ax.set_title(f'Diagrama de ejecución - {broker} - {scenario}')\n",
    "\n",
    "ax:Axes\n",
    "ax.set_xticks(range(0, int(current_cloudlets['finish_time'].max()) + 20, 20))\n",
    "ax.set_xlim(0, current_cloudlets['finish_time'].max() + 10)\n",
    "\n",
    "# Ordenar y eliminar etiquetas duplicadas\n",
    "# Ordenar y Eliminar labels duplicadas\n",
    "handles, labels = ax.get_legend_handles_labels()\n",
    "sorted_labels = sorted(zip(labels, handles),key=lambda x: int(re.findall(r'\\d{1,2}', str(x[0]))[0]))\n",
    "by_label = dict(sorted_labels)  # Elimina duplicados\n",
    "\n",
    "# Configurar el eje x compartido\n",
    "axs[-1].set_xlabel('Tiempo')\n",
    "fig.legend(by_label.values(), by_label.keys(),\n",
    "           loc='center left', title='VMs', \n",
    "           title_fontsize='large', fontsize='large', bbox_to_anchor=(0.6, 0.5))\n",
    "\n",
    "plt.tight_layout(rect=[0, 0, 1, 1])  # Ajustar el espacio para la leyenda\n",
    "plt.show()\n"
   ]
  },
  {
   "cell_type": "code",
   "execution_count": 85,
   "metadata": {},
   "outputs": [
    {
     "data": {
      "image/png": "[encoded data removed]",
      "text/plain": [
       "<Figure size 800x750 with 3 Axes>"
      ]
     },
     "metadata": {},
     "output_type": "display_data"
    }
   ],
   "source": [
    "# Filtrar los datos por cada broker\n",
    "brokers = current_case['Broker'].unique()\n",
    "num_brokers = len(brokers)\n",
    "\n",
    "# Crear subplots\n",
    "fig, axs = plt.subplots(num_brokers, 1, figsize=(8, 2.5 * num_brokers), sharex=True)\n",
    "\n",
    "# Asegurar que axs sea una lista, incluso si hay un solo broker\n",
    "axs = axs if num_brokers > 1 else [axs]\n",
    "\n",
    "# Crear un gráfico para cada broker\n",
    "vms_df = current_case_vms.set_index(['Broker', 'vm'])\n",
    "\n",
    "for ax, broker in zip(axs, brokers):\n",
    "    broker_data = current_cloudlets[current_cloudlets['Broker'] == broker]\n",
    "    \n",
    "    for i, task in broker_data.iterrows():\n",
    "        vm = vms_df.loc[(broker, task['vm'])]\n",
    "        lab = f\"Cloudlet {task['task']} | Pes: {int(task['Pes']):03d} | Tamaño: {int(task['Lenght']):04d}\"\n",
    "        ax.barh(y=task['vm'], width=task['duration'], left=task['start_time'], \n",
    "                height=0.9,\n",
    "                edgecolor='black',\n",
    "                color=available_colors(task['task']/current_cloudlets['task'].max()), \n",
    "                label=lab)\n",
    "\n",
    "    # Configurar el eje y para mostrar números enteros o categorías\n",
    "    ax.set_ylabel('ID de Vm')\n",
    "    ax.set_yticks(broker_data['task'])  # Asegura que los ticks del eje y correspondan a las tareas\n",
    "    ax.set_yticklabels(broker_data['task'].astype(str), rotation=0)  # Muestra IDs como texto\n",
    "    ax.set_ylim(broker_data['vm'].min() - 0.5, broker_data['vm'].max() + 0.5)\n",
    "    ax.set_title(f'Diagrama de ejecución - {broker} - {scenario}')\n",
    "\n",
    "ax:Axes\n",
    "ax.set_xticks(range(0, int(current_cloudlets['finish_time'].max()) + 20, 20))\n",
    "ax.set_xlim(0, current_cloudlets['finish_time'].max() + 10)\n",
    "\n",
    "import re\n",
    "\n",
    "# Ordenar y Eliminar labels duplicadas\n",
    "handles, labels = ax.get_legend_handles_labels()\n",
    "sorted_labels = sorted(zip(labels, handles),key=lambda x: int(re.findall(r'\\d{1,2}', str(x[0]))[0]))\n",
    "by_label = dict(sorted_labels)  # Elimina duplicados\n",
    "\n",
    "# Configurar el eje x compartido\n",
    "axs[-1].set_xlabel('Tiempo')\n",
    "fig.legend(by_label.values(), by_label.keys(),\n",
    "           loc='center left', title='VMs', \n",
    "           title_fontsize='large', fontsize='large', bbox_to_anchor=(1, 0.5))\n",
    "\n",
    "plt.tight_layout(rect=[0, 0, 1, 1])  # Ajustar el espacio para la leyenda\n",
    "plt.show()\n"
   ]
  },
  {
   "cell_type": "code",
   "execution_count": 86,
   "metadata": {},
   "outputs": [
    {
     "data": {
      "text/plain": [
       "0    876.08\n",
       "1    534.92\n",
       "2    770.60\n",
       "Name: Maskespan, dtype: float64"
      ]
     },
     "execution_count": 86,
     "metadata": {},
     "output_type": "execute_result"
    }
   ],
   "source": [
    "all_cases_brokers['scenario-15-200']['Maskespan']"
   ]
  },
  {
   "cell_type": "code",
   "execution_count": 87,
   "metadata": {},
   "outputs": [],
   "source": [
    "# speedup (mejor maquina vs tiempo)\n",
    "speedups = {}\n",
    "for scenario in all_cases_brokers.keys():\n",
    "    current_case = all_cases_brokers[scenario]\n",
    "    vms = scenario.split('-')[1]\n",
    "    if vms == '1':\n",
    "        continue\n",
    "    cloudlets = scenario.split('-')[2]\n",
    "    secuential_times = all_cases_brokers[f'scenario-1-{cloudlets}']\n",
    "    if(cloudlets not in speedups):\n",
    "        speedups[cloudlets] = {}\n",
    "    if(vms not in speedups[cloudlets]):\n",
    "        speedups[cloudlets][vms] = {}\n",
    "\n",
    "    for broker in current_case['Broker'].unique():\n",
    "        if broker == 'DatacenterBrokerSimple':\n",
    "            new_name = 'Simple'\n",
    "        elif broker == 'DatacenterBrokerPSO':\n",
    "            new_name = 'PSO'\n",
    "        else:\n",
    "            new_name = 'Heuristic'\n",
    "        broker_data = current_case[current_case['Broker'] == broker]\n",
    "        speedups[cloudlets][vms][new_name] = float(secuential_times[secuential_times['Broker'] == broker]['Maskespan'].values[0]) / float(broker_data['Maskespan'].values[0])\n",
    "    speedups[cloudlets] = dict(sorted(speedups[cloudlets].items(), key=lambda item: int(item[0])))\n",
    "speedups = dict(sorted(speedups.items(), key=lambda item: int(item[0])))\n"
   ]
  },
  {
   "cell_type": "code",
   "execution_count": 88,
   "metadata": {},
   "outputs": [
    {
     "data": {
      "text/plain": [
       "{'25': {'3': {'Simple': 0.6986885538406636,\n",
       "   'PSO': 1.8060975047276415,\n",
       "   'Heuristic': 0.747161747028182},\n",
       "  '6': {'Simple': 1.029552505652837,\n",
       "   'PSO': 1.8788024181940313,\n",
       "   'Heuristic': 1.2402761940960343},\n",
       "  '9': {'Simple': 1.0840485022977686,\n",
       "   'PSO': 2.2782173609495,\n",
       "   'Heuristic': 1.9838889451818826},\n",
       "  '15': {'Simple': 2.0532746054218447,\n",
       "   'PSO': 6.328054298642534,\n",
       "   'Heuristic': 2.3023283160865473}},\n",
       " '50': {'3': {'Simple': 0.9077751781925023,\n",
       "   'PSO': 2.215376444031337,\n",
       "   'Heuristic': 0.6886588406227815},\n",
       "  '6': {'Simple': 1.4961618480522278,\n",
       "   'PSO': 4.028394823256712,\n",
       "   'Heuristic': 1.0407335786912857},\n",
       "  '9': {'Simple': 2.0284991732321758,\n",
       "   'PSO': 4.694693004671056,\n",
       "   'Heuristic': 2.043155600186142},\n",
       "  '15': {'Simple': 2.583782444403147,\n",
       "   'PSO': 4.667375370670845,\n",
       "   'Heuristic': 3.953741883501588}},\n",
       " '100': {'3': {'Simple': 0.7896220762267543,\n",
       "   'PSO': 1.9995800140898499,\n",
       "   'Heuristic': 0.7012376766836916},\n",
       "  '6': {'Simple': 1.4913505648404504,\n",
       "   'PSO': 2.7096199742977785,\n",
       "   'Heuristic': 2.3759719248539093},\n",
       "  '9': {'Simple': 1.8270304395726824,\n",
       "   'PSO': 4.058432095031209,\n",
       "   'Heuristic': 1.714005342004413},\n",
       "  '15': {'Simple': 2.6695304586890467,\n",
       "   'PSO': 4.147268742272677,\n",
       "   'Heuristic': 2.5277535152169075}},\n",
       " '150': {'3': {'Simple': 0.8331837339272984,\n",
       "   'PSO': 2.5957995281661774,\n",
       "   'Heuristic': 0.8312860938818682},\n",
       "  '6': {'Simple': 1.5034259358003625,\n",
       "   'PSO': 2.5660038223516564,\n",
       "   'Heuristic': 1.4192091106427156},\n",
       "  '9': {'Simple': 1.8801533716762522,\n",
       "   'PSO': 4.208795924840931,\n",
       "   'Heuristic': 2.5567835322655603},\n",
       "  '15': {'Simple': 3.1064011458161183,\n",
       "   'PSO': 6.2584833939124875,\n",
       "   'Heuristic': 3.148108862526169}},\n",
       " '200': {'3': {'Simple': 0.874219536468476,\n",
       "   'PSO': 2.128715291357059,\n",
       "   'Heuristic': 1.1909580723682411},\n",
       "  '6': {'Simple': 1.5795405670105764,\n",
       "   'PSO': 2.2352220812648036,\n",
       "   'Heuristic': 1.790091555623418},\n",
       "  '9': {'Simple': 2.1066909025565175,\n",
       "   'PSO': 4.088074354228696,\n",
       "   'Heuristic': 1.8371978084899916},\n",
       "  '15': {'Simple': 3.479305542872797,\n",
       "   'PSO': 5.6983287220518966,\n",
       "   'Heuristic': 3.9555541136776537}}}"
      ]
     },
     "execution_count": 88,
     "metadata": {},
     "output_type": "execute_result"
    }
   ],
   "source": [
    "speedups"
   ]
  },
  {
   "cell_type": "code",
   "execution_count": 62,
   "metadata": {},
   "outputs": [
    {
     "data": {
      "application/vnd.plotly.v1+json": {
       "config": {
        "plotlyServerURL": "https://plot.ly"
       },
       "data": [
        {
         "hoverinfo": "text",
         "legendgroup": "Simple",
         "marker": {
          "color": "blue"
         },
         "name": "Simple",
         "offsetgroup": "0",
         "showlegend": true,
         "text": "0.87",
         "type": "bar",
         "x": [
          "3"
         ],
         "y": [
          0.874219536468476
         ]
        },
        {
         "hoverinfo": "text",
         "legendgroup": "PSO",
         "marker": {
          "color": "red"
         },
         "name": "PSO",
         "offsetgroup": "1",
         "showlegend": true,
         "text": "2.13",
         "type": "bar",
         "x": [
          "3"
         ],
         "y": [
          2.128715291357059
         ]
        },
        {
         "hoverinfo": "text",
         "legendgroup": "Heuristic",
         "marker": {
          "color": "green"
         },
         "name": "Heuristic",
         "offsetgroup": "2",
         "showlegend": true,
         "text": "1.19",
         "type": "bar",
         "x": [
          "3"
         ],
         "y": [
          1.1909580723682411
         ]
        },
        {
         "hoverinfo": "text",
         "legendgroup": "Simple",
         "marker": {
          "color": "blue"
         },
         "name": "Simple",
         "offsetgroup": "0",
         "showlegend": false,
         "text": "1.58",
         "type": "bar",
         "x": [
          "6"
         ],
         "y": [
          1.5795405670105764
         ]
        },
        {
         "hoverinfo": "text",
         "legendgroup": "PSO",
         "marker": {
          "color": "red"
         },
         "name": "PSO",
         "offsetgroup": "1",
         "showlegend": false,
         "text": "2.24",
         "type": "bar",
         "x": [
          "6"
         ],
         "y": [
          2.2352220812648036
         ]
        },
        {
         "hoverinfo": "text",
         "legendgroup": "Heuristic",
         "marker": {
          "color": "green"
         },
         "name": "Heuristic",
         "offsetgroup": "2",
         "showlegend": false,
         "text": "1.79",
         "type": "bar",
         "x": [
          "6"
         ],
         "y": [
          1.790091555623418
         ]
        },
        {
         "hoverinfo": "text",
         "legendgroup": "Simple",
         "marker": {
          "color": "blue"
         },
         "name": "Simple",
         "offsetgroup": "0",
         "showlegend": false,
         "text": "2.11",
         "type": "bar",
         "x": [
          "9"
         ],
         "y": [
          2.1066909025565175
         ]
        },
        {
         "hoverinfo": "text",
         "legendgroup": "PSO",
         "marker": {
          "color": "red"
         },
         "name": "PSO",
         "offsetgroup": "1",
         "showlegend": false,
         "text": "4.09",
         "type": "bar",
         "x": [
          "9"
         ],
         "y": [
          4.088074354228696
         ]
        },
        {
         "hoverinfo": "text",
         "legendgroup": "Heuristic",
         "marker": {
          "color": "green"
         },
         "name": "Heuristic",
         "offsetgroup": "2",
         "showlegend": false,
         "text": "1.84",
         "type": "bar",
         "x": [
          "9"
         ],
         "y": [
          1.8371978084899916
         ]
        },
        {
         "hoverinfo": "text",
         "legendgroup": "Simple",
         "marker": {
          "color": "blue"
         },
         "name": "Simple",
         "offsetgroup": "0",
         "showlegend": false,
         "text": "3.48",
         "type": "bar",
         "x": [
          "15"
         ],
         "y": [
          3.479305542872797
         ]
        },
        {
         "hoverinfo": "text",
         "legendgroup": "PSO",
         "marker": {
          "color": "red"
         },
         "name": "PSO",
         "offsetgroup": "1",
         "showlegend": false,
         "text": "5.70",
         "type": "bar",
         "x": [
          "15"
         ],
         "y": [
          5.6983287220518966
         ]
        },
        {
         "hoverinfo": "text",
         "legendgroup": "Heuristic",
         "marker": {
          "color": "green"
         },
         "name": "Heuristic",
         "offsetgroup": "2",
         "showlegend": false,
         "text": "3.96",
         "type": "bar",
         "x": [
          "15"
         ],
         "y": [
          3.9555541136776537
         ]
        }
       ],
       "layout": {
        "bargap": 0.05,
        "bargroupgap": 0.1,
        "barmode": "group",
        "height": 400,
        "template": {
         "data": {
          "bar": [
           {
            "error_x": {
             "color": "#2a3f5f"
            },
            "error_y": {
             "color": "#2a3f5f"
            },
            "marker": {
             "line": {
              "color": "#E5ECF6",
              "width": 0.5
             },
             "pattern": {
              "fillmode": "overlay",
              "size": 10,
              "solidity": 0.2
             }
            },
            "type": "bar"
           }
          ],
          "barpolar": [
           {
            "marker": {
             "line": {
              "color": "#E5ECF6",
              "width": 0.5
             },
             "pattern": {
              "fillmode": "overlay",
              "size": 10,
              "solidity": 0.2
             }
            },
            "type": "barpolar"
           }
          ],
          "carpet": [
           {
            "aaxis": {
             "endlinecolor": "#2a3f5f",
             "gridcolor": "white",
             "linecolor": "white",
             "minorgridcolor": "white",
             "startlinecolor": "#2a3f5f"
            },
            "baxis": {
             "endlinecolor": "#2a3f5f",
             "gridcolor": "white",
             "linecolor": "white",
             "minorgridcolor": "white",
             "startlinecolor": "#2a3f5f"
            },
            "type": "carpet"
           }
          ],
          "choropleth": [
           {
            "colorbar": {
             "outlinewidth": 0,
             "ticks": ""
            },
            "type": "choropleth"
           }
          ],
          "contour": [
           {
            "colorbar": {
             "outlinewidth": 0,
             "ticks": ""
            },
            "colorscale": [
             [
              0,
              "#0d0887"
             ],
             [
              0.1111111111111111,
              "#46039f"
             ],
             [
              0.2222222222222222,
              "#7201a8"
             ],
             [
              0.3333333333333333,
              "#9c179e"
             ],
             [
              0.4444444444444444,
              "#bd3786"
             ],
             [
              0.5555555555555556,
              "#d8576b"
             ],
             [
              0.6666666666666666,
              "#ed7953"
             ],
             [
              0.7777777777777778,
              "#fb9f3a"
             ],
             [
              0.8888888888888888,
              "#fdca26"
             ],
             [
              1,
              "#f0f921"
             ]
            ],
            "type": "contour"
           }
          ],
          "contourcarpet": [
           {
            "colorbar": {
             "outlinewidth": 0,
             "ticks": ""
            },
            "type": "contourcarpet"
           }
          ],
          "heatmap": [
           {
            "colorbar": {
             "outlinewidth": 0,
             "ticks": ""
            },
            "colorscale": [
             [
              0,
              "#0d0887"
             ],
             [
              0.1111111111111111,
              "#46039f"
             ],
             [
              0.2222222222222222,
              "#7201a8"
             ],
             [
              0.3333333333333333,
              "#9c179e"
             ],
             [
              0.4444444444444444,
              "#bd3786"
             ],
             [
              0.5555555555555556,
              "#d8576b"
             ],
             [
              0.6666666666666666,
              "#ed7953"
             ],
             [
              0.7777777777777778,
              "#fb9f3a"
             ],
             [
              0.8888888888888888,
              "#fdca26"
             ],
             [
              1,
              "#f0f921"
             ]
            ],
            "type": "heatmap"
           }
          ],
          "heatmapgl": [
           {
            "colorbar": {
             "outlinewidth": 0,
             "ticks": ""
            },
            "colorscale": [
             [
              0,
              "#0d0887"
             ],
             [
              0.1111111111111111,
              "#46039f"
             ],
             [
              0.2222222222222222,
              "#7201a8"
             ],
             [
              0.3333333333333333,
              "#9c179e"
             ],
             [
              0.4444444444444444,
              "#bd3786"
             ],
             [
              0.5555555555555556,
              "#d8576b"
             ],
             [
              0.6666666666666666,
              "#ed7953"
             ],
             [
              0.7777777777777778,
              "#fb9f3a"
             ],
             [
              0.8888888888888888,
              "#fdca26"
             ],
             [
              1,
              "#f0f921"
             ]
            ],
            "type": "heatmapgl"
           }
          ],
          "histogram": [
           {
            "marker": {
             "pattern": {
              "fillmode": "overlay",
              "size": 10,
              "solidity": 0.2
             }
            },
            "type": "histogram"
           }
          ],
          "histogram2d": [
           {
            "colorbar": {
             "outlinewidth": 0,
             "ticks": ""
            },
            "colorscale": [
             [
              0,
              "#0d0887"
             ],
             [
              0.1111111111111111,
              "#46039f"
             ],
             [
              0.2222222222222222,
              "#7201a8"
             ],
             [
              0.3333333333333333,
              "#9c179e"
             ],
             [
              0.4444444444444444,
              "#bd3786"
             ],
             [
              0.5555555555555556,
              "#d8576b"
             ],
             [
              0.6666666666666666,
              "#ed7953"
             ],
             [
              0.7777777777777778,
              "#fb9f3a"
             ],
             [
              0.8888888888888888,
              "#fdca26"
             ],
             [
              1,
              "#f0f921"
             ]
            ],
            "type": "histogram2d"
           }
          ],
          "histogram2dcontour": [
           {
            "colorbar": {
             "outlinewidth": 0,
             "ticks": ""
            },
            "colorscale": [
             [
              0,
              "#0d0887"
             ],
             [
              0.1111111111111111,
              "#46039f"
             ],
             [
              0.2222222222222222,
              "#7201a8"
             ],
             [
              0.3333333333333333,
              "#9c179e"
             ],
             [
              0.4444444444444444,
              "#bd3786"
             ],
             [
              0.5555555555555556,
              "#d8576b"
             ],
             [
              0.6666666666666666,
              "#ed7953"
             ],
             [
              0.7777777777777778,
              "#fb9f3a"
             ],
             [
              0.8888888888888888,
              "#fdca26"
             ],
             [
              1,
              "#f0f921"
             ]
            ],
            "type": "histogram2dcontour"
           }
          ],
          "mesh3d": [
           {
            "colorbar": {
             "outlinewidth": 0,
             "ticks": ""
            },
            "type": "mesh3d"
           }
          ],
          "parcoords": [
           {
            "line": {
             "colorbar": {
              "outlinewidth": 0,
              "ticks": ""
             }
            },
            "type": "parcoords"
           }
          ],
          "pie": [
           {
            "automargin": true,
            "type": "pie"
           }
          ],
          "scatter": [
           {
            "fillpattern": {
             "fillmode": "overlay",
             "size": 10,
             "solidity": 0.2
            },
            "type": "scatter"
           }
          ],
          "scatter3d": [
           {
            "line": {
             "colorbar": {
              "outlinewidth": 0,
              "ticks": ""
             }
            },
            "marker": {
             "colorbar": {
              "outlinewidth": 0,
              "ticks": ""
             }
            },
            "type": "scatter3d"
           }
          ],
          "scattercarpet": [
           {
            "marker": {
             "colorbar": {
              "outlinewidth": 0,
              "ticks": ""
             }
            },
            "type": "scattercarpet"
           }
          ],
          "scattergeo": [
           {
            "marker": {
             "colorbar": {
              "outlinewidth": 0,
              "ticks": ""
             }
            },
            "type": "scattergeo"
           }
          ],
          "scattergl": [
           {
            "marker": {
             "colorbar": {
              "outlinewidth": 0,
              "ticks": ""
             }
            },
            "type": "scattergl"
           }
          ],
          "scattermapbox": [
           {
            "marker": {
             "colorbar": {
              "outlinewidth": 0,
              "ticks": ""
             }
            },
            "type": "scattermapbox"
           }
          ],
          "scatterpolar": [
           {
            "marker": {
             "colorbar": {
              "outlinewidth": 0,
              "ticks": ""
             }
            },
            "type": "scatterpolar"
           }
          ],
          "scatterpolargl": [
           {
            "marker": {
             "colorbar": {
              "outlinewidth": 0,
              "ticks": ""
             }
            },
            "type": "scatterpolargl"
           }
          ],
          "scatterternary": [
           {
            "marker": {
             "colorbar": {
              "outlinewidth": 0,
              "ticks": ""
             }
            },
            "type": "scatterternary"
           }
          ],
          "surface": [
           {
            "colorbar": {
             "outlinewidth": 0,
             "ticks": ""
            },
            "colorscale": [
             [
              0,
              "#0d0887"
             ],
             [
              0.1111111111111111,
              "#46039f"
             ],
             [
              0.2222222222222222,
              "#7201a8"
             ],
             [
              0.3333333333333333,
              "#9c179e"
             ],
             [
              0.4444444444444444,
              "#bd3786"
             ],
             [
              0.5555555555555556,
              "#d8576b"
             ],
             [
              0.6666666666666666,
              "#ed7953"
             ],
             [
              0.7777777777777778,
              "#fb9f3a"
             ],
             [
              0.8888888888888888,
              "#fdca26"
             ],
             [
              1,
              "#f0f921"
             ]
            ],
            "type": "surface"
           }
          ],
          "table": [
           {
            "cells": {
             "fill": {
              "color": "#EBF0F8"
             },
             "line": {
              "color": "white"
             }
            },
            "header": {
             "fill": {
              "color": "#C8D4E3"
             },
             "line": {
              "color": "white"
             }
            },
            "type": "table"
           }
          ]
         },
         "layout": {
          "annotationdefaults": {
           "arrowcolor": "#2a3f5f",
           "arrowhead": 0,
           "arrowwidth": 1
          },
          "autotypenumbers": "strict",
          "coloraxis": {
           "colorbar": {
            "outlinewidth": 0,
            "ticks": ""
           }
          },
          "colorscale": {
           "diverging": [
            [
             0,
             "#8e0152"
            ],
            [
             0.1,
             "#c51b7d"
            ],
            [
             0.2,
             "#de77ae"
            ],
            [
             0.3,
             "#f1b6da"
            ],
            [
             0.4,
             "#fde0ef"
            ],
            [
             0.5,
             "#f7f7f7"
            ],
            [
             0.6,
             "#e6f5d0"
            ],
            [
             0.7,
             "#b8e186"
            ],
            [
             0.8,
             "#7fbc41"
            ],
            [
             0.9,
             "#4d9221"
            ],
            [
             1,
             "#276419"
            ]
           ],
           "sequential": [
            [
             0,
             "#0d0887"
            ],
            [
             0.1111111111111111,
             "#46039f"
            ],
            [
             0.2222222222222222,
             "#7201a8"
            ],
            [
             0.3333333333333333,
             "#9c179e"
            ],
            [
             0.4444444444444444,
             "#bd3786"
            ],
            [
             0.5555555555555556,
             "#d8576b"
            ],
            [
             0.6666666666666666,
             "#ed7953"
            ],
            [
             0.7777777777777778,
             "#fb9f3a"
            ],
            [
             0.8888888888888888,
             "#fdca26"
            ],
            [
             1,
             "#f0f921"
            ]
           ],
           "sequentialminus": [
            [
             0,
             "#0d0887"
            ],
            [
             0.1111111111111111,
             "#46039f"
            ],
            [
             0.2222222222222222,
             "#7201a8"
            ],
            [
             0.3333333333333333,
             "#9c179e"
            ],
            [
             0.4444444444444444,
             "#bd3786"
            ],
            [
             0.5555555555555556,
             "#d8576b"
            ],
            [
             0.6666666666666666,
             "#ed7953"
            ],
            [
             0.7777777777777778,
             "#fb9f3a"
            ],
            [
             0.8888888888888888,
             "#fdca26"
            ],
            [
             1,
             "#f0f921"
            ]
           ]
          },
          "colorway": [
           "#636efa",
           "#EF553B",
           "#00cc96",
           "#ab63fa",
           "#FFA15A",
           "#19d3f3",
           "#FF6692",
           "#B6E880",
           "#FF97FF",
           "#FECB52"
          ],
          "font": {
           "color": "#2a3f5f"
          },
          "geo": {
           "bgcolor": "white",
           "lakecolor": "white",
           "landcolor": "#E5ECF6",
           "showlakes": true,
           "showland": true,
           "subunitcolor": "white"
          },
          "hoverlabel": {
           "align": "left"
          },
          "hovermode": "closest",
          "mapbox": {
           "style": "light"
          },
          "paper_bgcolor": "white",
          "plot_bgcolor": "#E5ECF6",
          "polar": {
           "angularaxis": {
            "gridcolor": "white",
            "linecolor": "white",
            "ticks": ""
           },
           "bgcolor": "#E5ECF6",
           "radialaxis": {
            "gridcolor": "white",
            "linecolor": "white",
            "ticks": ""
           }
          },
          "scene": {
           "xaxis": {
            "backgroundcolor": "#E5ECF6",
            "gridcolor": "white",
            "gridwidth": 2,
            "linecolor": "white",
            "showbackground": true,
            "ticks": "",
            "zerolinecolor": "white"
           },
           "yaxis": {
            "backgroundcolor": "#E5ECF6",
            "gridcolor": "white",
            "gridwidth": 2,
            "linecolor": "white",
            "showbackground": true,
            "ticks": "",
            "zerolinecolor": "white"
           },
           "zaxis": {
            "backgroundcolor": "#E5ECF6",
            "gridcolor": "white",
            "gridwidth": 2,
            "linecolor": "white",
            "showbackground": true,
            "ticks": "",
            "zerolinecolor": "white"
           }
          },
          "shapedefaults": {
           "line": {
            "color": "#2a3f5f"
           }
          },
          "ternary": {
           "aaxis": {
            "gridcolor": "white",
            "linecolor": "white",
            "ticks": ""
           },
           "baxis": {
            "gridcolor": "white",
            "linecolor": "white",
            "ticks": ""
           },
           "bgcolor": "#E5ECF6",
           "caxis": {
            "gridcolor": "white",
            "linecolor": "white",
            "ticks": ""
           }
          },
          "title": {
           "x": 0.05
          },
          "xaxis": {
           "automargin": true,
           "gridcolor": "white",
           "linecolor": "white",
           "ticks": "",
           "title": {
            "standoff": 15
           },
           "zerolinecolor": "white",
           "zerolinewidth": 2
          },
          "yaxis": {
           "automargin": true,
           "gridcolor": "white",
           "linecolor": "white",
           "ticks": "",
           "title": {
            "standoff": 15
           },
           "zerolinecolor": "white",
           "zerolinewidth": 2
          }
         }
        },
        "title": {
         "text": "Speedup de cada política al ejecutar 200 cloudlets"
        },
        "width": 1000,
        "xaxis": {
         "title": {
          "text": "Cantidad de Vms"
         },
         "type": "category"
        },
        "yaxis": {
         "title": {
          "text": "Speedup"
         }
        }
       }
      }
     },
     "metadata": {},
     "output_type": "display_data"
    }
   ],
   "source": [
    "# import plotly.graph_objects as go\n",
    "\n",
    "# Supongamos que 'speedups' es un diccionario con la estructura {cloudlets: {broker: speedup}}\n",
    "scenario_selected = speedups['200']\n",
    "# Crear el gráfico\n",
    "fig = go.Figure()\n",
    "\n",
    "color_map = {\n",
    "    'Simple': 'blue',\n",
    "    'PSO': 'red',\n",
    "    'Heuristic': 'green'\n",
    "}\n",
    "\n",
    "show = True\n",
    "# Agregar las barras para cada broker en cada escenario\n",
    "for scenario, data in scenario_selected.items():\n",
    "    for i, (broker, speedup) in enumerate(data.items()):\n",
    "        fig.add_trace(go.Bar(\n",
    "            x=[scenario],\n",
    "            y=[speedup],\n",
    "            name=broker,\n",
    "            legendgroup=broker,\n",
    "            showlegend=show,\n",
    "            text=f'{float(speedup):.2f}',  # Agregar información al tooltip\n",
    "            hoverinfo='text',\n",
    "            offsetgroup=i,  # Asegurar que las barras estén centradas\n",
    "            marker_color=color_map[broker],  # Asignar un color a cada broker\n",
    "        ))\n",
    "    show = False\n",
    "\n",
    "# Configurar el layout del gráfico\n",
    "fig.update_layout(\n",
    "    barmode='group',\n",
    "    xaxis_title='Cantidad de Vms',\n",
    "    yaxis_title='Speedup',\n",
    "    title='Speedup de cada política al ejecutar 200 cloudlets',\n",
    "    xaxis={'type': 'category'},  # Asegurar que el eje x sea categórico\n",
    "    bargap=0.05,  # Reducir la separación entre barras dentro de un grupo\n",
    "    bargroupgap=0.1,  # Reducir la separación entre grupos de barras\n",
    "    width=1000,\n",
    "    height= 400,\n",
    ")\n",
    "\n",
    "# Mostrar el gráfico\n",
    "fig.show()"
   ]
  },
  {
   "cell_type": "code",
   "execution_count": 63,
   "metadata": {},
   "outputs": [
    {
     "data": {
      "text/plain": [
       "{'25': {'1': {'Simple': 391.58, 'PSO': 391.58, 'Heuristic': 391.58},\n",
       "  '3': {'Simple': 560.45, 'PSO': 216.81, 'Heuristic': 524.09},\n",
       "  '6': {'Simple': 380.34, 'PSO': 208.42, 'Heuristic': 315.72},\n",
       "  '9': {'Simple': 361.22, 'PSO': 171.88, 'Heuristic': 197.38},\n",
       "  '15': {'Simple': 190.71, 'PSO': 61.88, 'Heuristic': 170.08}},\n",
       " '50': {'1': {'Simple': 834.2, 'PSO': 834.2, 'Heuristic': 834.2},\n",
       "  '3': {'Simple': 918.95, 'PSO': 376.55, 'Heuristic': 1211.34},\n",
       "  '6': {'Simple': 557.56, 'PSO': 207.08, 'Heuristic': 801.55},\n",
       "  '9': {'Simple': 411.24, 'PSO': 177.69, 'Heuristic': 408.29},\n",
       "  '15': {'Simple': 322.86, 'PSO': 178.73, 'Heuristic': 210.99}},\n",
       " '100': {'1': {'Simple': 1475.93, 'PSO': 1475.93, 'Heuristic': 1475.93},\n",
       "  '3': {'Simple': 1869.16, 'PSO': 738.12, 'Heuristic': 2104.75},\n",
       "  '6': {'Simple': 989.66, 'PSO': 544.7, 'Heuristic': 621.19},\n",
       "  '9': {'Simple': 807.83, 'PSO': 363.67, 'Heuristic': 861.1},\n",
       "  '15': {'Simple': 552.88, 'PSO': 355.88, 'Heuristic': 583.89}},\n",
       " '150': {'1': {'Simple': 2255.62, 'PSO': 2255.62, 'Heuristic': 2255.62},\n",
       "  '3': {'Simple': 2707.23, 'PSO': 868.95, 'Heuristic': 2713.41},\n",
       "  '6': {'Simple': 1500.32, 'PSO': 879.04, 'Heuristic': 1589.35},\n",
       "  '9': {'Simple': 1199.7, 'PSO': 535.93, 'Heuristic': 882.21},\n",
       "  '15': {'Simple': 726.12, 'PSO': 360.41, 'Heuristic': 716.5}},\n",
       " '200': {'1': {'Simple': 3048.15, 'PSO': 3048.15, 'Heuristic': 3048.15},\n",
       "  '3': {'Simple': 3486.71, 'PSO': 1431.92, 'Heuristic': 2559.41},\n",
       "  '6': {'Simple': 1929.77, 'PSO': 1363.69, 'Heuristic': 1702.79},\n",
       "  '9': {'Simple': 1446.89, 'PSO': 745.62, 'Heuristic': 1659.13},\n",
       "  '15': {'Simple': 876.08, 'PSO': 534.92, 'Heuristic': 770.6}}}"
      ]
     },
     "execution_count": 63,
     "metadata": {},
     "output_type": "execute_result"
    }
   ],
   "source": [
    "# escalado de vm, fijo tareas \n",
    "# escalado de tareas, fijo vm\n",
    "tiempos = {}\n",
    "for scenario in all_cases_brokers.keys():\n",
    "    current_case = all_cases_brokers[scenario]\n",
    "    vms = scenario.split('-')[1]\n",
    "    cloudlets = scenario.split('-')[2]\n",
    "    if(cloudlets not in tiempos):\n",
    "        tiempos[cloudlets] = {}\n",
    "    if(vms not in tiempos[cloudlets]):\n",
    "        tiempos[cloudlets][vms] = {}\n",
    "\n",
    "    for broker in current_case['Broker'].unique():\n",
    "        if broker == 'DatacenterBrokerSimple':\n",
    "            new_name = 'Simple'\n",
    "        elif broker == 'DatacenterBrokerPSO':\n",
    "            new_name = 'PSO'\n",
    "        else:\n",
    "            new_name = 'Heuristic'\n",
    "        broker_data = current_case[current_case['Broker'] == broker]\n",
    "        tiempos[cloudlets][vms][new_name] = float(broker_data['Maskespan'].values[0])\n",
    "    tiempos[cloudlets] = dict(sorted(tiempos[cloudlets].items(), key=lambda item: int(item[0])))\n",
    "tiempos = dict(sorted(tiempos.items(), key=lambda item: int(item[0])))\n",
    "tiempos"
   ]
  },
  {
   "cell_type": "code",
   "execution_count": 64,
   "metadata": {},
   "outputs": [
    {
     "data": {
      "application/vnd.plotly.v1+json": {
       "config": {
        "plotlyServerURL": "https://plot.ly"
       },
       "data": [
        {
         "hoverinfo": "text",
         "legendgroup": "Simple",
         "marker": {
          "color": "blue"
         },
         "name": "Simple",
         "offsetgroup": "0",
         "showlegend": true,
         "text": "3048",
         "type": "bar",
         "x": [
          "1"
         ],
         "y": [
          3048.15
         ]
        },
        {
         "hoverinfo": "text",
         "legendgroup": "PSO",
         "marker": {
          "color": "red"
         },
         "name": "PSO",
         "offsetgroup": "1",
         "showlegend": true,
         "text": "3048",
         "type": "bar",
         "x": [
          "1"
         ],
         "y": [
          3048.15
         ]
        },
        {
         "hoverinfo": "text",
         "legendgroup": "Heuristic",
         "marker": {
          "color": "green"
         },
         "name": "Heuristic",
         "offsetgroup": "2",
         "showlegend": true,
         "text": "3048",
         "type": "bar",
         "x": [
          "1"
         ],
         "y": [
          3048.15
         ]
        },
        {
         "hoverinfo": "text",
         "legendgroup": "Simple",
         "marker": {
          "color": "blue"
         },
         "name": "Simple",
         "offsetgroup": "0",
         "showlegend": false,
         "text": "3487",
         "type": "bar",
         "x": [
          "3"
         ],
         "y": [
          3486.71
         ]
        },
        {
         "hoverinfo": "text",
         "legendgroup": "PSO",
         "marker": {
          "color": "red"
         },
         "name": "PSO",
         "offsetgroup": "1",
         "showlegend": false,
         "text": "1432",
         "type": "bar",
         "x": [
          "3"
         ],
         "y": [
          1431.92
         ]
        },
        {
         "hoverinfo": "text",
         "legendgroup": "Heuristic",
         "marker": {
          "color": "green"
         },
         "name": "Heuristic",
         "offsetgroup": "2",
         "showlegend": false,
         "text": "2559",
         "type": "bar",
         "x": [
          "3"
         ],
         "y": [
          2559.41
         ]
        },
        {
         "hoverinfo": "text",
         "legendgroup": "Simple",
         "marker": {
          "color": "blue"
         },
         "name": "Simple",
         "offsetgroup": "0",
         "showlegend": false,
         "text": "1930",
         "type": "bar",
         "x": [
          "6"
         ],
         "y": [
          1929.77
         ]
        },
        {
         "hoverinfo": "text",
         "legendgroup": "PSO",
         "marker": {
          "color": "red"
         },
         "name": "PSO",
         "offsetgroup": "1",
         "showlegend": false,
         "text": "1364",
         "type": "bar",
         "x": [
          "6"
         ],
         "y": [
          1363.69
         ]
        },
        {
         "hoverinfo": "text",
         "legendgroup": "Heuristic",
         "marker": {
          "color": "green"
         },
         "name": "Heuristic",
         "offsetgroup": "2",
         "showlegend": false,
         "text": "1703",
         "type": "bar",
         "x": [
          "6"
         ],
         "y": [
          1702.79
         ]
        },
        {
         "hoverinfo": "text",
         "legendgroup": "Simple",
         "marker": {
          "color": "blue"
         },
         "name": "Simple",
         "offsetgroup": "0",
         "showlegend": false,
         "text": "1447",
         "type": "bar",
         "x": [
          "9"
         ],
         "y": [
          1446.89
         ]
        },
        {
         "hoverinfo": "text",
         "legendgroup": "PSO",
         "marker": {
          "color": "red"
         },
         "name": "PSO",
         "offsetgroup": "1",
         "showlegend": false,
         "text": "746",
         "type": "bar",
         "x": [
          "9"
         ],
         "y": [
          745.62
         ]
        },
        {
         "hoverinfo": "text",
         "legendgroup": "Heuristic",
         "marker": {
          "color": "green"
         },
         "name": "Heuristic",
         "offsetgroup": "2",
         "showlegend": false,
         "text": "1659",
         "type": "bar",
         "x": [
          "9"
         ],
         "y": [
          1659.13
         ]
        },
        {
         "hoverinfo": "text",
         "legendgroup": "Simple",
         "marker": {
          "color": "blue"
         },
         "name": "Simple",
         "offsetgroup": "0",
         "showlegend": false,
         "text": "876",
         "type": "bar",
         "x": [
          "15"
         ],
         "y": [
          876.08
         ]
        },
        {
         "hoverinfo": "text",
         "legendgroup": "PSO",
         "marker": {
          "color": "red"
         },
         "name": "PSO",
         "offsetgroup": "1",
         "showlegend": false,
         "text": "535",
         "type": "bar",
         "x": [
          "15"
         ],
         "y": [
          534.92
         ]
        },
        {
         "hoverinfo": "text",
         "legendgroup": "Heuristic",
         "marker": {
          "color": "green"
         },
         "name": "Heuristic",
         "offsetgroup": "2",
         "showlegend": false,
         "text": "771",
         "type": "bar",
         "x": [
          "15"
         ],
         "y": [
          770.6
         ]
        }
       ],
       "layout": {
        "bargap": 0.05,
        "bargroupgap": 0.1,
        "barmode": "group",
        "height": 400,
        "template": {
         "data": {
          "bar": [
           {
            "error_x": {
             "color": "#2a3f5f"
            },
            "error_y": {
             "color": "#2a3f5f"
            },
            "marker": {
             "line": {
              "color": "#E5ECF6",
              "width": 0.5
             },
             "pattern": {
              "fillmode": "overlay",
              "size": 10,
              "solidity": 0.2
             }
            },
            "type": "bar"
           }
          ],
          "barpolar": [
           {
            "marker": {
             "line": {
              "color": "#E5ECF6",
              "width": 0.5
             },
             "pattern": {
              "fillmode": "overlay",
              "size": 10,
              "solidity": 0.2
             }
            },
            "type": "barpolar"
           }
          ],
          "carpet": [
           {
            "aaxis": {
             "endlinecolor": "#2a3f5f",
             "gridcolor": "white",
             "linecolor": "white",
             "minorgridcolor": "white",
             "startlinecolor": "#2a3f5f"
            },
            "baxis": {
             "endlinecolor": "#2a3f5f",
             "gridcolor": "white",
             "linecolor": "white",
             "minorgridcolor": "white",
             "startlinecolor": "#2a3f5f"
            },
            "type": "carpet"
           }
          ],
          "choropleth": [
           {
            "colorbar": {
             "outlinewidth": 0,
             "ticks": ""
            },
            "type": "choropleth"
           }
          ],
          "contour": [
           {
            "colorbar": {
             "outlinewidth": 0,
             "ticks": ""
            },
            "colorscale": [
             [
              0,
              "#0d0887"
             ],
             [
              0.1111111111111111,
              "#46039f"
             ],
             [
              0.2222222222222222,
              "#7201a8"
             ],
             [
              0.3333333333333333,
              "#9c179e"
             ],
             [
              0.4444444444444444,
              "#bd3786"
             ],
             [
              0.5555555555555556,
              "#d8576b"
             ],
             [
              0.6666666666666666,
              "#ed7953"
             ],
             [
              0.7777777777777778,
              "#fb9f3a"
             ],
             [
              0.8888888888888888,
              "#fdca26"
             ],
             [
              1,
              "#f0f921"
             ]
            ],
            "type": "contour"
           }
          ],
          "contourcarpet": [
           {
            "colorbar": {
             "outlinewidth": 0,
             "ticks": ""
            },
            "type": "contourcarpet"
           }
          ],
          "heatmap": [
           {
            "colorbar": {
             "outlinewidth": 0,
             "ticks": ""
            },
            "colorscale": [
             [
              0,
              "#0d0887"
             ],
             [
              0.1111111111111111,
              "#46039f"
             ],
             [
              0.2222222222222222,
              "#7201a8"
             ],
             [
              0.3333333333333333,
              "#9c179e"
             ],
             [
              0.4444444444444444,
              "#bd3786"
             ],
             [
              0.5555555555555556,
              "#d8576b"
             ],
             [
              0.6666666666666666,
              "#ed7953"
             ],
             [
              0.7777777777777778,
              "#fb9f3a"
             ],
             [
              0.8888888888888888,
              "#fdca26"
             ],
             [
              1,
              "#f0f921"
             ]
            ],
            "type": "heatmap"
           }
          ],
          "heatmapgl": [
           {
            "colorbar": {
             "outlinewidth": 0,
             "ticks": ""
            },
            "colorscale": [
             [
              0,
              "#0d0887"
             ],
             [
              0.1111111111111111,
              "#46039f"
             ],
             [
              0.2222222222222222,
              "#7201a8"
             ],
             [
              0.3333333333333333,
              "#9c179e"
             ],
             [
              0.4444444444444444,
              "#bd3786"
             ],
             [
              0.5555555555555556,
              "#d8576b"
             ],
             [
              0.6666666666666666,
              "#ed7953"
             ],
             [
              0.7777777777777778,
              "#fb9f3a"
             ],
             [
              0.8888888888888888,
              "#fdca26"
             ],
             [
              1,
              "#f0f921"
             ]
            ],
            "type": "heatmapgl"
           }
          ],
          "histogram": [
           {
            "marker": {
             "pattern": {
              "fillmode": "overlay",
              "size": 10,
              "solidity": 0.2
             }
            },
            "type": "histogram"
           }
          ],
          "histogram2d": [
           {
            "colorbar": {
             "outlinewidth": 0,
             "ticks": ""
            },
            "colorscale": [
             [
              0,
              "#0d0887"
             ],
             [
              0.1111111111111111,
              "#46039f"
             ],
             [
              0.2222222222222222,
              "#7201a8"
             ],
             [
              0.3333333333333333,
              "#9c179e"
             ],
             [
              0.4444444444444444,
              "#bd3786"
             ],
             [
              0.5555555555555556,
              "#d8576b"
             ],
             [
              0.6666666666666666,
              "#ed7953"
             ],
             [
              0.7777777777777778,
              "#fb9f3a"
             ],
             [
              0.8888888888888888,
              "#fdca26"
             ],
             [
              1,
              "#f0f921"
             ]
            ],
            "type": "histogram2d"
           }
          ],
          "histogram2dcontour": [
           {
            "colorbar": {
             "outlinewidth": 0,
             "ticks": ""
            },
            "colorscale": [
             [
              0,
              "#0d0887"
             ],
             [
              0.1111111111111111,
              "#46039f"
             ],
             [
              0.2222222222222222,
              "#7201a8"
             ],
             [
              0.3333333333333333,
              "#9c179e"
             ],
             [
              0.4444444444444444,
              "#bd3786"
             ],
             [
              0.5555555555555556,
              "#d8576b"
             ],
             [
              0.6666666666666666,
              "#ed7953"
             ],
             [
              0.7777777777777778,
              "#fb9f3a"
             ],
             [
              0.8888888888888888,
              "#fdca26"
             ],
             [
              1,
              "#f0f921"
             ]
            ],
            "type": "histogram2dcontour"
           }
          ],
          "mesh3d": [
           {
            "colorbar": {
             "outlinewidth": 0,
             "ticks": ""
            },
            "type": "mesh3d"
           }
          ],
          "parcoords": [
           {
            "line": {
             "colorbar": {
              "outlinewidth": 0,
              "ticks": ""
             }
            },
            "type": "parcoords"
           }
          ],
          "pie": [
           {
            "automargin": true,
            "type": "pie"
           }
          ],
          "scatter": [
           {
            "fillpattern": {
             "fillmode": "overlay",
             "size": 10,
             "solidity": 0.2
            },
            "type": "scatter"
           }
          ],
          "scatter3d": [
           {
            "line": {
             "colorbar": {
              "outlinewidth": 0,
              "ticks": ""
             }
            },
            "marker": {
             "colorbar": {
              "outlinewidth": 0,
              "ticks": ""
             }
            },
            "type": "scatter3d"
           }
          ],
          "scattercarpet": [
           {
            "marker": {
             "colorbar": {
              "outlinewidth": 0,
              "ticks": ""
             }
            },
            "type": "scattercarpet"
           }
          ],
          "scattergeo": [
           {
            "marker": {
             "colorbar": {
              "outlinewidth": 0,
              "ticks": ""
             }
            },
            "type": "scattergeo"
           }
          ],
          "scattergl": [
           {
            "marker": {
             "colorbar": {
              "outlinewidth": 0,
              "ticks": ""
             }
            },
            "type": "scattergl"
           }
          ],
          "scattermapbox": [
           {
            "marker": {
             "colorbar": {
              "outlinewidth": 0,
              "ticks": ""
             }
            },
            "type": "scattermapbox"
           }
          ],
          "scatterpolar": [
           {
            "marker": {
             "colorbar": {
              "outlinewidth": 0,
              "ticks": ""
             }
            },
            "type": "scatterpolar"
           }
          ],
          "scatterpolargl": [
           {
            "marker": {
             "colorbar": {
              "outlinewidth": 0,
              "ticks": ""
             }
            },
            "type": "scatterpolargl"
           }
          ],
          "scatterternary": [
           {
            "marker": {
             "colorbar": {
              "outlinewidth": 0,
              "ticks": ""
             }
            },
            "type": "scatterternary"
           }
          ],
          "surface": [
           {
            "colorbar": {
             "outlinewidth": 0,
             "ticks": ""
            },
            "colorscale": [
             [
              0,
              "#0d0887"
             ],
             [
              0.1111111111111111,
              "#46039f"
             ],
             [
              0.2222222222222222,
              "#7201a8"
             ],
             [
              0.3333333333333333,
              "#9c179e"
             ],
             [
              0.4444444444444444,
              "#bd3786"
             ],
             [
              0.5555555555555556,
              "#d8576b"
             ],
             [
              0.6666666666666666,
              "#ed7953"
             ],
             [
              0.7777777777777778,
              "#fb9f3a"
             ],
             [
              0.8888888888888888,
              "#fdca26"
             ],
             [
              1,
              "#f0f921"
             ]
            ],
            "type": "surface"
           }
          ],
          "table": [
           {
            "cells": {
             "fill": {
              "color": "#EBF0F8"
             },
             "line": {
              "color": "white"
             }
            },
            "header": {
             "fill": {
              "color": "#C8D4E3"
             },
             "line": {
              "color": "white"
             }
            },
            "type": "table"
           }
          ]
         },
         "layout": {
          "annotationdefaults": {
           "arrowcolor": "#2a3f5f",
           "arrowhead": 0,
           "arrowwidth": 1
          },
          "autotypenumbers": "strict",
          "coloraxis": {
           "colorbar": {
            "outlinewidth": 0,
            "ticks": ""
           }
          },
          "colorscale": {
           "diverging": [
            [
             0,
             "#8e0152"
            ],
            [
             0.1,
             "#c51b7d"
            ],
            [
             0.2,
             "#de77ae"
            ],
            [
             0.3,
             "#f1b6da"
            ],
            [
             0.4,
             "#fde0ef"
            ],
            [
             0.5,
             "#f7f7f7"
            ],
            [
             0.6,
             "#e6f5d0"
            ],
            [
             0.7,
             "#b8e186"
            ],
            [
             0.8,
             "#7fbc41"
            ],
            [
             0.9,
             "#4d9221"
            ],
            [
             1,
             "#276419"
            ]
           ],
           "sequential": [
            [
             0,
             "#0d0887"
            ],
            [
             0.1111111111111111,
             "#46039f"
            ],
            [
             0.2222222222222222,
             "#7201a8"
            ],
            [
             0.3333333333333333,
             "#9c179e"
            ],
            [
             0.4444444444444444,
             "#bd3786"
            ],
            [
             0.5555555555555556,
             "#d8576b"
            ],
            [
             0.6666666666666666,
             "#ed7953"
            ],
            [
             0.7777777777777778,
             "#fb9f3a"
            ],
            [
             0.8888888888888888,
             "#fdca26"
            ],
            [
             1,
             "#f0f921"
            ]
           ],
           "sequentialminus": [
            [
             0,
             "#0d0887"
            ],
            [
             0.1111111111111111,
             "#46039f"
            ],
            [
             0.2222222222222222,
             "#7201a8"
            ],
            [
             0.3333333333333333,
             "#9c179e"
            ],
            [
             0.4444444444444444,
             "#bd3786"
            ],
            [
             0.5555555555555556,
             "#d8576b"
            ],
            [
             0.6666666666666666,
             "#ed7953"
            ],
            [
             0.7777777777777778,
             "#fb9f3a"
            ],
            [
             0.8888888888888888,
             "#fdca26"
            ],
            [
             1,
             "#f0f921"
            ]
           ]
          },
          "colorway": [
           "#636efa",
           "#EF553B",
           "#00cc96",
           "#ab63fa",
           "#FFA15A",
           "#19d3f3",
           "#FF6692",
           "#B6E880",
           "#FF97FF",
           "#FECB52"
          ],
          "font": {
           "color": "#2a3f5f"
          },
          "geo": {
           "bgcolor": "white",
           "lakecolor": "white",
           "landcolor": "#E5ECF6",
           "showlakes": true,
           "showland": true,
           "subunitcolor": "white"
          },
          "hoverlabel": {
           "align": "left"
          },
          "hovermode": "closest",
          "mapbox": {
           "style": "light"
          },
          "paper_bgcolor": "white",
          "plot_bgcolor": "#E5ECF6",
          "polar": {
           "angularaxis": {
            "gridcolor": "white",
            "linecolor": "white",
            "ticks": ""
           },
           "bgcolor": "#E5ECF6",
           "radialaxis": {
            "gridcolor": "white",
            "linecolor": "white",
            "ticks": ""
           }
          },
          "scene": {
           "xaxis": {
            "backgroundcolor": "#E5ECF6",
            "gridcolor": "white",
            "gridwidth": 2,
            "linecolor": "white",
            "showbackground": true,
            "ticks": "",
            "zerolinecolor": "white"
           },
           "yaxis": {
            "backgroundcolor": "#E5ECF6",
            "gridcolor": "white",
            "gridwidth": 2,
            "linecolor": "white",
            "showbackground": true,
            "ticks": "",
            "zerolinecolor": "white"
           },
           "zaxis": {
            "backgroundcolor": "#E5ECF6",
            "gridcolor": "white",
            "gridwidth": 2,
            "linecolor": "white",
            "showbackground": true,
            "ticks": "",
            "zerolinecolor": "white"
           }
          },
          "shapedefaults": {
           "line": {
            "color": "#2a3f5f"
           }
          },
          "ternary": {
           "aaxis": {
            "gridcolor": "white",
            "linecolor": "white",
            "ticks": ""
           },
           "baxis": {
            "gridcolor": "white",
            "linecolor": "white",
            "ticks": ""
           },
           "bgcolor": "#E5ECF6",
           "caxis": {
            "gridcolor": "white",
            "linecolor": "white",
            "ticks": ""
           }
          },
          "title": {
           "x": 0.05
          },
          "xaxis": {
           "automargin": true,
           "gridcolor": "white",
           "linecolor": "white",
           "ticks": "",
           "title": {
            "standoff": 15
           },
           "zerolinecolor": "white",
           "zerolinewidth": 2
          },
          "yaxis": {
           "automargin": true,
           "gridcolor": "white",
           "linecolor": "white",
           "ticks": "",
           "title": {
            "standoff": 15
           },
           "zerolinecolor": "white",
           "zerolinewidth": 2
          }
         }
        },
        "title": {
         "text": "Tiempo ejecución de 200 cloudlets por cada política"
        },
        "width": 1000,
        "xaxis": {
         "title": {
          "text": "Cantidad de Vms"
         },
         "type": "category"
        },
        "yaxis": {
         "title": {
          "text": "Makespan en segundos"
         }
        }
       }
      }
     },
     "metadata": {},
     "output_type": "display_data"
    }
   ],
   "source": [
    "\n",
    "scenario_selected = tiempos['200']\n",
    "# Crear el gráfico\n",
    "fig = go.Figure()\n",
    "\n",
    "# color_map = {\n",
    "#     'Simple': 'turquoise',\n",
    "#     'PSO': 'orangered',\n",
    "#     'Heuristic': 'wheat'\n",
    "# }\n",
    "show=True\n",
    "# Agregar las barras para cada broker en cada escenario\n",
    "for scenario, data in scenario_selected.items():\n",
    "    for i, (broker, tiempo) in enumerate(data.items()):\n",
    "        fig.add_trace(go.Bar(\n",
    "            x=[scenario],\n",
    "            y=[tiempo],\n",
    "            name=broker,\n",
    "            legendgroup=broker,\n",
    "            showlegend=show,\n",
    "            text=f'{float(round(tiempo)):.0f}',  # Agregar información al tooltip\n",
    "            hoverinfo='text',\n",
    "            offsetgroup=i,  # Asegurar que las barras estén centradas\n",
    "            marker_color=color_map[broker],  # Asignar un color a cada broker\n",
    "        ))\n",
    "    show = False\n",
    "\n",
    "# Configurar el layout del gráfico\n",
    "fig.update_layout(\n",
    "    barmode='group',\n",
    "    xaxis_title='Cantidad de Vms',\n",
    "    yaxis_title='Makespan en segundos',\n",
    "    title='Tiempo ejecución de 200 cloudlets por cada política',\n",
    "    xaxis={'type': 'category'},  # Asegurar que el eje x sea categórico\n",
    "    bargap=0.05,  # Reducir la separación entre barras dentro de un grupo\n",
    "    bargroupgap=0.1,  # Reducir la separación entre grupos de barras\n",
    "    width=1000,\n",
    "    height= 400,\n",
    ")\n",
    "\n",
    "# Mostrar el gráfico\n",
    "fig.show()"
   ]
  },
  {
   "cell_type": "code",
   "execution_count": 65,
   "metadata": {},
   "outputs": [
    {
     "data": {
      "application/vnd.plotly.v1+json": {
       "config": {
        "plotlyServerURL": "https://plot.ly"
       },
       "data": [
        {
         "hoverinfo": "text",
         "legendgroup": "Simple",
         "marker": {
          "color": "blue"
         },
         "name": "Simple",
         "offsetgroup": "0",
         "showlegend": true,
         "text": "191",
         "type": "bar",
         "x": [
          "25"
         ],
         "y": [
          190.71
         ]
        },
        {
         "hoverinfo": "text",
         "legendgroup": "PSO",
         "marker": {
          "color": "red"
         },
         "name": "PSO",
         "offsetgroup": "1",
         "showlegend": true,
         "text": "62",
         "type": "bar",
         "x": [
          "25"
         ],
         "y": [
          61.88
         ]
        },
        {
         "hoverinfo": "text",
         "legendgroup": "Heuristic",
         "marker": {
          "color": "green"
         },
         "name": "Heuristic",
         "offsetgroup": "2",
         "showlegend": true,
         "text": "170",
         "type": "bar",
         "x": [
          "25"
         ],
         "y": [
          170.08
         ]
        },
        {
         "hoverinfo": "text",
         "legendgroup": "Simple",
         "marker": {
          "color": "blue"
         },
         "name": "Simple",
         "offsetgroup": "0",
         "showlegend": false,
         "text": "323",
         "type": "bar",
         "x": [
          "50"
         ],
         "y": [
          322.86
         ]
        },
        {
         "hoverinfo": "text",
         "legendgroup": "PSO",
         "marker": {
          "color": "red"
         },
         "name": "PSO",
         "offsetgroup": "1",
         "showlegend": false,
         "text": "179",
         "type": "bar",
         "x": [
          "50"
         ],
         "y": [
          178.73
         ]
        },
        {
         "hoverinfo": "text",
         "legendgroup": "Heuristic",
         "marker": {
          "color": "green"
         },
         "name": "Heuristic",
         "offsetgroup": "2",
         "showlegend": false,
         "text": "211",
         "type": "bar",
         "x": [
          "50"
         ],
         "y": [
          210.99
         ]
        },
        {
         "hoverinfo": "text",
         "legendgroup": "Simple",
         "marker": {
          "color": "blue"
         },
         "name": "Simple",
         "offsetgroup": "0",
         "showlegend": false,
         "text": "553",
         "type": "bar",
         "x": [
          "100"
         ],
         "y": [
          552.88
         ]
        },
        {
         "hoverinfo": "text",
         "legendgroup": "PSO",
         "marker": {
          "color": "red"
         },
         "name": "PSO",
         "offsetgroup": "1",
         "showlegend": false,
         "text": "356",
         "type": "bar",
         "x": [
          "100"
         ],
         "y": [
          355.88
         ]
        },
        {
         "hoverinfo": "text",
         "legendgroup": "Heuristic",
         "marker": {
          "color": "green"
         },
         "name": "Heuristic",
         "offsetgroup": "2",
         "showlegend": false,
         "text": "584",
         "type": "bar",
         "x": [
          "100"
         ],
         "y": [
          583.89
         ]
        },
        {
         "hoverinfo": "text",
         "legendgroup": "Simple",
         "marker": {
          "color": "blue"
         },
         "name": "Simple",
         "offsetgroup": "0",
         "showlegend": false,
         "text": "726",
         "type": "bar",
         "x": [
          "150"
         ],
         "y": [
          726.12
         ]
        },
        {
         "hoverinfo": "text",
         "legendgroup": "PSO",
         "marker": {
          "color": "red"
         },
         "name": "PSO",
         "offsetgroup": "1",
         "showlegend": false,
         "text": "360",
         "type": "bar",
         "x": [
          "150"
         ],
         "y": [
          360.41
         ]
        },
        {
         "hoverinfo": "text",
         "legendgroup": "Heuristic",
         "marker": {
          "color": "green"
         },
         "name": "Heuristic",
         "offsetgroup": "2",
         "showlegend": false,
         "text": "716",
         "type": "bar",
         "x": [
          "150"
         ],
         "y": [
          716.5
         ]
        },
        {
         "hoverinfo": "text",
         "legendgroup": "Simple",
         "marker": {
          "color": "blue"
         },
         "name": "Simple",
         "offsetgroup": "0",
         "showlegend": false,
         "text": "876",
         "type": "bar",
         "x": [
          "200"
         ],
         "y": [
          876.08
         ]
        },
        {
         "hoverinfo": "text",
         "legendgroup": "PSO",
         "marker": {
          "color": "red"
         },
         "name": "PSO",
         "offsetgroup": "1",
         "showlegend": false,
         "text": "535",
         "type": "bar",
         "x": [
          "200"
         ],
         "y": [
          534.92
         ]
        },
        {
         "hoverinfo": "text",
         "legendgroup": "Heuristic",
         "marker": {
          "color": "green"
         },
         "name": "Heuristic",
         "offsetgroup": "2",
         "showlegend": false,
         "text": "771",
         "type": "bar",
         "x": [
          "200"
         ],
         "y": [
          770.6
         ]
        }
       ],
       "layout": {
        "bargap": 0.05,
        "bargroupgap": 0.1,
        "barmode": "group",
        "height": 400,
        "template": {
         "data": {
          "bar": [
           {
            "error_x": {
             "color": "#2a3f5f"
            },
            "error_y": {
             "color": "#2a3f5f"
            },
            "marker": {
             "line": {
              "color": "#E5ECF6",
              "width": 0.5
             },
             "pattern": {
              "fillmode": "overlay",
              "size": 10,
              "solidity": 0.2
             }
            },
            "type": "bar"
           }
          ],
          "barpolar": [
           {
            "marker": {
             "line": {
              "color": "#E5ECF6",
              "width": 0.5
             },
             "pattern": {
              "fillmode": "overlay",
              "size": 10,
              "solidity": 0.2
             }
            },
            "type": "barpolar"
           }
          ],
          "carpet": [
           {
            "aaxis": {
             "endlinecolor": "#2a3f5f",
             "gridcolor": "white",
             "linecolor": "white",
             "minorgridcolor": "white",
             "startlinecolor": "#2a3f5f"
            },
            "baxis": {
             "endlinecolor": "#2a3f5f",
             "gridcolor": "white",
             "linecolor": "white",
             "minorgridcolor": "white",
             "startlinecolor": "#2a3f5f"
            },
            "type": "carpet"
           }
          ],
          "choropleth": [
           {
            "colorbar": {
             "outlinewidth": 0,
             "ticks": ""
            },
            "type": "choropleth"
           }
          ],
          "contour": [
           {
            "colorbar": {
             "outlinewidth": 0,
             "ticks": ""
            },
            "colorscale": [
             [
              0,
              "#0d0887"
             ],
             [
              0.1111111111111111,
              "#46039f"
             ],
             [
              0.2222222222222222,
              "#7201a8"
             ],
             [
              0.3333333333333333,
              "#9c179e"
             ],
             [
              0.4444444444444444,
              "#bd3786"
             ],
             [
              0.5555555555555556,
              "#d8576b"
             ],
             [
              0.6666666666666666,
              "#ed7953"
             ],
             [
              0.7777777777777778,
              "#fb9f3a"
             ],
             [
              0.8888888888888888,
              "#fdca26"
             ],
             [
              1,
              "#f0f921"
             ]
            ],
            "type": "contour"
           }
          ],
          "contourcarpet": [
           {
            "colorbar": {
             "outlinewidth": 0,
             "ticks": ""
            },
            "type": "contourcarpet"
           }
          ],
          "heatmap": [
           {
            "colorbar": {
             "outlinewidth": 0,
             "ticks": ""
            },
            "colorscale": [
             [
              0,
              "#0d0887"
             ],
             [
              0.1111111111111111,
              "#46039f"
             ],
             [
              0.2222222222222222,
              "#7201a8"
             ],
             [
              0.3333333333333333,
              "#9c179e"
             ],
             [
              0.4444444444444444,
              "#bd3786"
             ],
             [
              0.5555555555555556,
              "#d8576b"
             ],
             [
              0.6666666666666666,
              "#ed7953"
             ],
             [
              0.7777777777777778,
              "#fb9f3a"
             ],
             [
              0.8888888888888888,
              "#fdca26"
             ],
             [
              1,
              "#f0f921"
             ]
            ],
            "type": "heatmap"
           }
          ],
          "heatmapgl": [
           {
            "colorbar": {
             "outlinewidth": 0,
             "ticks": ""
            },
            "colorscale": [
             [
              0,
              "#0d0887"
             ],
             [
              0.1111111111111111,
              "#46039f"
             ],
             [
              0.2222222222222222,
              "#7201a8"
             ],
             [
              0.3333333333333333,
              "#9c179e"
             ],
             [
              0.4444444444444444,
              "#bd3786"
             ],
             [
              0.5555555555555556,
              "#d8576b"
             ],
             [
              0.6666666666666666,
              "#ed7953"
             ],
             [
              0.7777777777777778,
              "#fb9f3a"
             ],
             [
              0.8888888888888888,
              "#fdca26"
             ],
             [
              1,
              "#f0f921"
             ]
            ],
            "type": "heatmapgl"
           }
          ],
          "histogram": [
           {
            "marker": {
             "pattern": {
              "fillmode": "overlay",
              "size": 10,
              "solidity": 0.2
             }
            },
            "type": "histogram"
           }
          ],
          "histogram2d": [
           {
            "colorbar": {
             "outlinewidth": 0,
             "ticks": ""
            },
            "colorscale": [
             [
              0,
              "#0d0887"
             ],
             [
              0.1111111111111111,
              "#46039f"
             ],
             [
              0.2222222222222222,
              "#7201a8"
             ],
             [
              0.3333333333333333,
              "#9c179e"
             ],
             [
              0.4444444444444444,
              "#bd3786"
             ],
             [
              0.5555555555555556,
              "#d8576b"
             ],
             [
              0.6666666666666666,
              "#ed7953"
             ],
             [
              0.7777777777777778,
              "#fb9f3a"
             ],
             [
              0.8888888888888888,
              "#fdca26"
             ],
             [
              1,
              "#f0f921"
             ]
            ],
            "type": "histogram2d"
           }
          ],
          "histogram2dcontour": [
           {
            "colorbar": {
             "outlinewidth": 0,
             "ticks": ""
            },
            "colorscale": [
             [
              0,
              "#0d0887"
             ],
             [
              0.1111111111111111,
              "#46039f"
             ],
             [
              0.2222222222222222,
              "#7201a8"
             ],
             [
              0.3333333333333333,
              "#9c179e"
             ],
             [
              0.4444444444444444,
              "#bd3786"
             ],
             [
              0.5555555555555556,
              "#d8576b"
             ],
             [
              0.6666666666666666,
              "#ed7953"
             ],
             [
              0.7777777777777778,
              "#fb9f3a"
             ],
             [
              0.8888888888888888,
              "#fdca26"
             ],
             [
              1,
              "#f0f921"
             ]
            ],
            "type": "histogram2dcontour"
           }
          ],
          "mesh3d": [
           {
            "colorbar": {
             "outlinewidth": 0,
             "ticks": ""
            },
            "type": "mesh3d"
           }
          ],
          "parcoords": [
           {
            "line": {
             "colorbar": {
              "outlinewidth": 0,
              "ticks": ""
             }
            },
            "type": "parcoords"
           }
          ],
          "pie": [
           {
            "automargin": true,
            "type": "pie"
           }
          ],
          "scatter": [
           {
            "fillpattern": {
             "fillmode": "overlay",
             "size": 10,
             "solidity": 0.2
            },
            "type": "scatter"
           }
          ],
          "scatter3d": [
           {
            "line": {
             "colorbar": {
              "outlinewidth": 0,
              "ticks": ""
             }
            },
            "marker": {
             "colorbar": {
              "outlinewidth": 0,
              "ticks": ""
             }
            },
            "type": "scatter3d"
           }
          ],
          "scattercarpet": [
           {
            "marker": {
             "colorbar": {
              "outlinewidth": 0,
              "ticks": ""
             }
            },
            "type": "scattercarpet"
           }
          ],
          "scattergeo": [
           {
            "marker": {
             "colorbar": {
              "outlinewidth": 0,
              "ticks": ""
             }
            },
            "type": "scattergeo"
           }
          ],
          "scattergl": [
           {
            "marker": {
             "colorbar": {
              "outlinewidth": 0,
              "ticks": ""
             }
            },
            "type": "scattergl"
           }
          ],
          "scattermapbox": [
           {
            "marker": {
             "colorbar": {
              "outlinewidth": 0,
              "ticks": ""
             }
            },
            "type": "scattermapbox"
           }
          ],
          "scatterpolar": [
           {
            "marker": {
             "colorbar": {
              "outlinewidth": 0,
              "ticks": ""
             }
            },
            "type": "scatterpolar"
           }
          ],
          "scatterpolargl": [
           {
            "marker": {
             "colorbar": {
              "outlinewidth": 0,
              "ticks": ""
             }
            },
            "type": "scatterpolargl"
           }
          ],
          "scatterternary": [
           {
            "marker": {
             "colorbar": {
              "outlinewidth": 0,
              "ticks": ""
             }
            },
            "type": "scatterternary"
           }
          ],
          "surface": [
           {
            "colorbar": {
             "outlinewidth": 0,
             "ticks": ""
            },
            "colorscale": [
             [
              0,
              "#0d0887"
             ],
             [
              0.1111111111111111,
              "#46039f"
             ],
             [
              0.2222222222222222,
              "#7201a8"
             ],
             [
              0.3333333333333333,
              "#9c179e"
             ],
             [
              0.4444444444444444,
              "#bd3786"
             ],
             [
              0.5555555555555556,
              "#d8576b"
             ],
             [
              0.6666666666666666,
              "#ed7953"
             ],
             [
              0.7777777777777778,
              "#fb9f3a"
             ],
             [
              0.8888888888888888,
              "#fdca26"
             ],
             [
              1,
              "#f0f921"
             ]
            ],
            "type": "surface"
           }
          ],
          "table": [
           {
            "cells": {
             "fill": {
              "color": "#EBF0F8"
             },
             "line": {
              "color": "white"
             }
            },
            "header": {
             "fill": {
              "color": "#C8D4E3"
             },
             "line": {
              "color": "white"
             }
            },
            "type": "table"
           }
          ]
         },
         "layout": {
          "annotationdefaults": {
           "arrowcolor": "#2a3f5f",
           "arrowhead": 0,
           "arrowwidth": 1
          },
          "autotypenumbers": "strict",
          "coloraxis": {
           "colorbar": {
            "outlinewidth": 0,
            "ticks": ""
           }
          },
          "colorscale": {
           "diverging": [
            [
             0,
             "#8e0152"
            ],
            [
             0.1,
             "#c51b7d"
            ],
            [
             0.2,
             "#de77ae"
            ],
            [
             0.3,
             "#f1b6da"
            ],
            [
             0.4,
             "#fde0ef"
            ],
            [
             0.5,
             "#f7f7f7"
            ],
            [
             0.6,
             "#e6f5d0"
            ],
            [
             0.7,
             "#b8e186"
            ],
            [
             0.8,
             "#7fbc41"
            ],
            [
             0.9,
             "#4d9221"
            ],
            [
             1,
             "#276419"
            ]
           ],
           "sequential": [
            [
             0,
             "#0d0887"
            ],
            [
             0.1111111111111111,
             "#46039f"
            ],
            [
             0.2222222222222222,
             "#7201a8"
            ],
            [
             0.3333333333333333,
             "#9c179e"
            ],
            [
             0.4444444444444444,
             "#bd3786"
            ],
            [
             0.5555555555555556,
             "#d8576b"
            ],
            [
             0.6666666666666666,
             "#ed7953"
            ],
            [
             0.7777777777777778,
             "#fb9f3a"
            ],
            [
             0.8888888888888888,
             "#fdca26"
            ],
            [
             1,
             "#f0f921"
            ]
           ],
           "sequentialminus": [
            [
             0,
             "#0d0887"
            ],
            [
             0.1111111111111111,
             "#46039f"
            ],
            [
             0.2222222222222222,
             "#7201a8"
            ],
            [
             0.3333333333333333,
             "#9c179e"
            ],
            [
             0.4444444444444444,
             "#bd3786"
            ],
            [
             0.5555555555555556,
             "#d8576b"
            ],
            [
             0.6666666666666666,
             "#ed7953"
            ],
            [
             0.7777777777777778,
             "#fb9f3a"
            ],
            [
             0.8888888888888888,
             "#fdca26"
            ],
            [
             1,
             "#f0f921"
            ]
           ]
          },
          "colorway": [
           "#636efa",
           "#EF553B",
           "#00cc96",
           "#ab63fa",
           "#FFA15A",
           "#19d3f3",
           "#FF6692",
           "#B6E880",
           "#FF97FF",
           "#FECB52"
          ],
          "font": {
           "color": "#2a3f5f"
          },
          "geo": {
           "bgcolor": "white",
           "lakecolor": "white",
           "landcolor": "#E5ECF6",
           "showlakes": true,
           "showland": true,
           "subunitcolor": "white"
          },
          "hoverlabel": {
           "align": "left"
          },
          "hovermode": "closest",
          "mapbox": {
           "style": "light"
          },
          "paper_bgcolor": "white",
          "plot_bgcolor": "#E5ECF6",
          "polar": {
           "angularaxis": {
            "gridcolor": "white",
            "linecolor": "white",
            "ticks": ""
           },
           "bgcolor": "#E5ECF6",
           "radialaxis": {
            "gridcolor": "white",
            "linecolor": "white",
            "ticks": ""
           }
          },
          "scene": {
           "xaxis": {
            "backgroundcolor": "#E5ECF6",
            "gridcolor": "white",
            "gridwidth": 2,
            "linecolor": "white",
            "showbackground": true,
            "ticks": "",
            "zerolinecolor": "white"
           },
           "yaxis": {
            "backgroundcolor": "#E5ECF6",
            "gridcolor": "white",
            "gridwidth": 2,
            "linecolor": "white",
            "showbackground": true,
            "ticks": "",
            "zerolinecolor": "white"
           },
           "zaxis": {
            "backgroundcolor": "#E5ECF6",
            "gridcolor": "white",
            "gridwidth": 2,
            "linecolor": "white",
            "showbackground": true,
            "ticks": "",
            "zerolinecolor": "white"
           }
          },
          "shapedefaults": {
           "line": {
            "color": "#2a3f5f"
           }
          },
          "ternary": {
           "aaxis": {
            "gridcolor": "white",
            "linecolor": "white",
            "ticks": ""
           },
           "baxis": {
            "gridcolor": "white",
            "linecolor": "white",
            "ticks": ""
           },
           "bgcolor": "#E5ECF6",
           "caxis": {
            "gridcolor": "white",
            "linecolor": "white",
            "ticks": ""
           }
          },
          "title": {
           "x": 0.05
          },
          "xaxis": {
           "automargin": true,
           "gridcolor": "white",
           "linecolor": "white",
           "ticks": "",
           "title": {
            "standoff": 15
           },
           "zerolinecolor": "white",
           "zerolinewidth": 2
          },
          "yaxis": {
           "automargin": true,
           "gridcolor": "white",
           "linecolor": "white",
           "ticks": "",
           "title": {
            "standoff": 15
           },
           "zerolinecolor": "white",
           "zerolinewidth": 2
          }
         }
        },
        "title": {
         "text": "Tiempo ejecución con 15 Vms por cada política"
        },
        "width": 1000,
        "xaxis": {
         "title": {
          "text": "Cantidad de cloudlets"
         },
         "type": "category"
        },
        "yaxis": {
         "title": {
          "text": "Makespan en segundos"
         }
        }
       }
      }
     },
     "metadata": {},
     "output_type": "display_data"
    }
   ],
   "source": [
    "# obtenemos los tiempos de ejecucion de cada broker en los cuales se ejecutaron con 15 vms\n",
    "tiempos_vms = {}\n",
    "for scenario in all_cases_brokers.keys():\n",
    "    current_case = all_cases_brokers[scenario]\n",
    "    vms = scenario.split('-')[1]\n",
    "    cloudlets = scenario.split('-')[2]\n",
    "    if(vms != '15'):\n",
    "        continue\n",
    "    if(cloudlets not in tiempos_vms):\n",
    "        tiempos_vms[cloudlets] = {}\n",
    "    if(vms not in tiempos_vms[cloudlets]):\n",
    "        tiempos_vms[cloudlets] = {}\n",
    "\n",
    "    for broker in current_case['Broker'].unique():\n",
    "        if broker == 'DatacenterBrokerSimple':\n",
    "            new_name = 'Simple'\n",
    "        elif broker == 'DatacenterBrokerPSO':\n",
    "            new_name = 'PSO'\n",
    "        else:\n",
    "            new_name = 'Heuristic'\n",
    "        broker_data = current_case[current_case['Broker'] == broker]\n",
    "        tiempos_vms[cloudlets][new_name] = float(broker_data['Maskespan'].values[0])\n",
    "tiempos_vms = dict(sorted(tiempos_vms.items(), key=lambda item: int(item[0])))\n",
    "# Crear el gráfico\n",
    "fig = go.Figure()\n",
    "# color_map = {\n",
    "#     'Simple': 'turquoise',\n",
    "#     'PSO': 'orangered',\n",
    "#     'Heuristic': 'wheat'\n",
    "# }\n",
    "\n",
    "show = True\n",
    "# Agregar las barras para cada broker en cada escenario\n",
    "for scenario, data in tiempos_vms.items():\n",
    "    for i, (broker, tiempo) in enumerate(data.items()):\n",
    "        fig.add_trace(go.Bar(\n",
    "            x=[scenario],\n",
    "            y=[tiempo],\n",
    "            name=broker,\n",
    "            legendgroup=broker,\n",
    "            showlegend=show,\n",
    "            text=f'{float(tiempo):.0f}',  # Agregar información al tooltip\n",
    "            hoverinfo='text',\n",
    "            offsetgroup=i,  # Asegurar que las barras estén centradas\n",
    "            marker_color=color_map[broker],  # Asignar un color a cada broker\n",
    "        ))\n",
    "    show =False\n",
    "\n",
    "# Configurar el layout del gráfico\n",
    "fig.update_layout(\n",
    "    barmode='group',\n",
    "    xaxis_title='Cantidad de cloudlets',\n",
    "    yaxis_title='Makespan en segundos',\n",
    "    title='Tiempo ejecución con 15 Vms por cada política',\n",
    "    xaxis={'type': 'category'},  # Asegurar que el eje x sea categórico\n",
    "    bargap=0.05,  # Reducir la separación entre barras dentro de un grupo\n",
    "    bargroupgap=0.1,  # Reducir la separación entre grupos de barras\n",
    "    width=1000,\n",
    "    height= 400,\n",
    ")\n",
    "\n",
    "# Mostrar el gráfico\n",
    "fig.show()"
   ]
  },
  {
   "cell_type": "code",
   "execution_count": 66,
   "metadata": {},
   "outputs": [
    {
     "data": {
      "application/vnd.plotly.v1+json": {
       "config": {
        "plotlyServerURL": "https://plot.ly"
       },
       "data": [
        {
         "hovertext": [
          "VM 0 (Tareas: 3)",
          "VM 0 (Tareas: 5)",
          "VM 0 (Tareas: 5)"
         ],
         "name": "VM 0 | Pes: 007 | Mips: 302",
         "type": "bar",
         "x": [
          "DatacenterBrokerHeuristic",
          "DatacenterBrokerPSO",
          "DatacenterBrokerSimple"
         ],
         "y": [
          0.12,
          0.2,
          0.2
         ]
        },
        {
         "hovertext": [
          "VM 1 (Tareas: 3)",
          "VM 1 (Tareas: 6)",
          "VM 1 (Tareas: 4)"
         ],
         "name": "VM 1 | Pes: 011 | Mips: 237",
         "type": "bar",
         "x": [
          "DatacenterBrokerHeuristic",
          "DatacenterBrokerPSO",
          "DatacenterBrokerSimple"
         ],
         "y": [
          0.12,
          0.24,
          0.16
         ]
        },
        {
         "hovertext": [
          "VM 2 (Tareas: 2)",
          "VM 2 (Tareas: 1)",
          "VM 2 (Tareas: 4)"
         ],
         "name": "VM 2 | Pes: 012 | Mips: 042",
         "type": "bar",
         "x": [
          "DatacenterBrokerHeuristic",
          "DatacenterBrokerPSO",
          "DatacenterBrokerSimple"
         ],
         "y": [
          0.08,
          0.04,
          0.16
         ]
        },
        {
         "hovertext": [
          "VM 3 (Tareas: 9)",
          "VM 3 (Tareas: 6)",
          "VM 3 (Tareas: 4)"
         ],
         "name": "VM 3 | Pes: 009 | Mips: 256",
         "type": "bar",
         "x": [
          "DatacenterBrokerHeuristic",
          "DatacenterBrokerPSO",
          "DatacenterBrokerSimple"
         ],
         "y": [
          0.36,
          0.24,
          0.16
         ]
        },
        {
         "hovertext": [
          "VM 4 (Tareas: 2)",
          "VM 4 (Tareas: 6)",
          "VM 4 (Tareas: 4)"
         ],
         "name": "VM 4 | Pes: 007 | Mips: 379",
         "type": "bar",
         "x": [
          "DatacenterBrokerHeuristic",
          "DatacenterBrokerPSO",
          "DatacenterBrokerSimple"
         ],
         "y": [
          0.08,
          0.24,
          0.16
         ]
        },
        {
         "hovertext": [
          "VM 5 (Tareas: 6)",
          "VM 5 (Tareas: 1)",
          "VM 5 (Tareas: 4)"
         ],
         "name": "VM 5 | Pes: 012 | Mips: 051",
         "type": "bar",
         "x": [
          "DatacenterBrokerHeuristic",
          "DatacenterBrokerPSO",
          "DatacenterBrokerSimple"
         ],
         "y": [
          0.24,
          0.04,
          0.16
         ]
        }
       ],
       "layout": {
        "barmode": "stack",
        "template": {
         "data": {
          "bar": [
           {
            "error_x": {
             "color": "#2a3f5f"
            },
            "error_y": {
             "color": "#2a3f5f"
            },
            "marker": {
             "line": {
              "color": "#E5ECF6",
              "width": 0.5
             },
             "pattern": {
              "fillmode": "overlay",
              "size": 10,
              "solidity": 0.2
             }
            },
            "type": "bar"
           }
          ],
          "barpolar": [
           {
            "marker": {
             "line": {
              "color": "#E5ECF6",
              "width": 0.5
             },
             "pattern": {
              "fillmode": "overlay",
              "size": 10,
              "solidity": 0.2
             }
            },
            "type": "barpolar"
           }
          ],
          "carpet": [
           {
            "aaxis": {
             "endlinecolor": "#2a3f5f",
             "gridcolor": "white",
             "linecolor": "white",
             "minorgridcolor": "white",
             "startlinecolor": "#2a3f5f"
            },
            "baxis": {
             "endlinecolor": "#2a3f5f",
             "gridcolor": "white",
             "linecolor": "white",
             "minorgridcolor": "white",
             "startlinecolor": "#2a3f5f"
            },
            "type": "carpet"
           }
          ],
          "choropleth": [
           {
            "colorbar": {
             "outlinewidth": 0,
             "ticks": ""
            },
            "type": "choropleth"
           }
          ],
          "contour": [
           {
            "colorbar": {
             "outlinewidth": 0,
             "ticks": ""
            },
            "colorscale": [
             [
              0,
              "#0d0887"
             ],
             [
              0.1111111111111111,
              "#46039f"
             ],
             [
              0.2222222222222222,
              "#7201a8"
             ],
             [
              0.3333333333333333,
              "#9c179e"
             ],
             [
              0.4444444444444444,
              "#bd3786"
             ],
             [
              0.5555555555555556,
              "#d8576b"
             ],
             [
              0.6666666666666666,
              "#ed7953"
             ],
             [
              0.7777777777777778,
              "#fb9f3a"
             ],
             [
              0.8888888888888888,
              "#fdca26"
             ],
             [
              1,
              "#f0f921"
             ]
            ],
            "type": "contour"
           }
          ],
          "contourcarpet": [
           {
            "colorbar": {
             "outlinewidth": 0,
             "ticks": ""
            },
            "type": "contourcarpet"
           }
          ],
          "heatmap": [
           {
            "colorbar": {
             "outlinewidth": 0,
             "ticks": ""
            },
            "colorscale": [
             [
              0,
              "#0d0887"
             ],
             [
              0.1111111111111111,
              "#46039f"
             ],
             [
              0.2222222222222222,
              "#7201a8"
             ],
             [
              0.3333333333333333,
              "#9c179e"
             ],
             [
              0.4444444444444444,
              "#bd3786"
             ],
             [
              0.5555555555555556,
              "#d8576b"
             ],
             [
              0.6666666666666666,
              "#ed7953"
             ],
             [
              0.7777777777777778,
              "#fb9f3a"
             ],
             [
              0.8888888888888888,
              "#fdca26"
             ],
             [
              1,
              "#f0f921"
             ]
            ],
            "type": "heatmap"
           }
          ],
          "heatmapgl": [
           {
            "colorbar": {
             "outlinewidth": 0,
             "ticks": ""
            },
            "colorscale": [
             [
              0,
              "#0d0887"
             ],
             [
              0.1111111111111111,
              "#46039f"
             ],
             [
              0.2222222222222222,
              "#7201a8"
             ],
             [
              0.3333333333333333,
              "#9c179e"
             ],
             [
              0.4444444444444444,
              "#bd3786"
             ],
             [
              0.5555555555555556,
              "#d8576b"
             ],
             [
              0.6666666666666666,
              "#ed7953"
             ],
             [
              0.7777777777777778,
              "#fb9f3a"
             ],
             [
              0.8888888888888888,
              "#fdca26"
             ],
             [
              1,
              "#f0f921"
             ]
            ],
            "type": "heatmapgl"
           }
          ],
          "histogram": [
           {
            "marker": {
             "pattern": {
              "fillmode": "overlay",
              "size": 10,
              "solidity": 0.2
             }
            },
            "type": "histogram"
           }
          ],
          "histogram2d": [
           {
            "colorbar": {
             "outlinewidth": 0,
             "ticks": ""
            },
            "colorscale": [
             [
              0,
              "#0d0887"
             ],
             [
              0.1111111111111111,
              "#46039f"
             ],
             [
              0.2222222222222222,
              "#7201a8"
             ],
             [
              0.3333333333333333,
              "#9c179e"
             ],
             [
              0.4444444444444444,
              "#bd3786"
             ],
             [
              0.5555555555555556,
              "#d8576b"
             ],
             [
              0.6666666666666666,
              "#ed7953"
             ],
             [
              0.7777777777777778,
              "#fb9f3a"
             ],
             [
              0.8888888888888888,
              "#fdca26"
             ],
             [
              1,
              "#f0f921"
             ]
            ],
            "type": "histogram2d"
           }
          ],
          "histogram2dcontour": [
           {
            "colorbar": {
             "outlinewidth": 0,
             "ticks": ""
            },
            "colorscale": [
             [
              0,
              "#0d0887"
             ],
             [
              0.1111111111111111,
              "#46039f"
             ],
             [
              0.2222222222222222,
              "#7201a8"
             ],
             [
              0.3333333333333333,
              "#9c179e"
             ],
             [
              0.4444444444444444,
              "#bd3786"
             ],
             [
              0.5555555555555556,
              "#d8576b"
             ],
             [
              0.6666666666666666,
              "#ed7953"
             ],
             [
              0.7777777777777778,
              "#fb9f3a"
             ],
             [
              0.8888888888888888,
              "#fdca26"
             ],
             [
              1,
              "#f0f921"
             ]
            ],
            "type": "histogram2dcontour"
           }
          ],
          "mesh3d": [
           {
            "colorbar": {
             "outlinewidth": 0,
             "ticks": ""
            },
            "type": "mesh3d"
           }
          ],
          "parcoords": [
           {
            "line": {
             "colorbar": {
              "outlinewidth": 0,
              "ticks": ""
             }
            },
            "type": "parcoords"
           }
          ],
          "pie": [
           {
            "automargin": true,
            "type": "pie"
           }
          ],
          "scatter": [
           {
            "fillpattern": {
             "fillmode": "overlay",
             "size": 10,
             "solidity": 0.2
            },
            "type": "scatter"
           }
          ],
          "scatter3d": [
           {
            "line": {
             "colorbar": {
              "outlinewidth": 0,
              "ticks": ""
             }
            },
            "marker": {
             "colorbar": {
              "outlinewidth": 0,
              "ticks": ""
             }
            },
            "type": "scatter3d"
           }
          ],
          "scattercarpet": [
           {
            "marker": {
             "colorbar": {
              "outlinewidth": 0,
              "ticks": ""
             }
            },
            "type": "scattercarpet"
           }
          ],
          "scattergeo": [
           {
            "marker": {
             "colorbar": {
              "outlinewidth": 0,
              "ticks": ""
             }
            },
            "type": "scattergeo"
           }
          ],
          "scattergl": [
           {
            "marker": {
             "colorbar": {
              "outlinewidth": 0,
              "ticks": ""
             }
            },
            "type": "scattergl"
           }
          ],
          "scattermapbox": [
           {
            "marker": {
             "colorbar": {
              "outlinewidth": 0,
              "ticks": ""
             }
            },
            "type": "scattermapbox"
           }
          ],
          "scatterpolar": [
           {
            "marker": {
             "colorbar": {
              "outlinewidth": 0,
              "ticks": ""
             }
            },
            "type": "scatterpolar"
           }
          ],
          "scatterpolargl": [
           {
            "marker": {
             "colorbar": {
              "outlinewidth": 0,
              "ticks": ""
             }
            },
            "type": "scatterpolargl"
           }
          ],
          "scatterternary": [
           {
            "marker": {
             "colorbar": {
              "outlinewidth": 0,
              "ticks": ""
             }
            },
            "type": "scatterternary"
           }
          ],
          "surface": [
           {
            "colorbar": {
             "outlinewidth": 0,
             "ticks": ""
            },
            "colorscale": [
             [
              0,
              "#0d0887"
             ],
             [
              0.1111111111111111,
              "#46039f"
             ],
             [
              0.2222222222222222,
              "#7201a8"
             ],
             [
              0.3333333333333333,
              "#9c179e"
             ],
             [
              0.4444444444444444,
              "#bd3786"
             ],
             [
              0.5555555555555556,
              "#d8576b"
             ],
             [
              0.6666666666666666,
              "#ed7953"
             ],
             [
              0.7777777777777778,
              "#fb9f3a"
             ],
             [
              0.8888888888888888,
              "#fdca26"
             ],
             [
              1,
              "#f0f921"
             ]
            ],
            "type": "surface"
           }
          ],
          "table": [
           {
            "cells": {
             "fill": {
              "color": "#EBF0F8"
             },
             "line": {
              "color": "white"
             }
            },
            "header": {
             "fill": {
              "color": "#C8D4E3"
             },
             "line": {
              "color": "white"
             }
            },
            "type": "table"
           }
          ]
         },
         "layout": {
          "annotationdefaults": {
           "arrowcolor": "#2a3f5f",
           "arrowhead": 0,
           "arrowwidth": 1
          },
          "autotypenumbers": "strict",
          "coloraxis": {
           "colorbar": {
            "outlinewidth": 0,
            "ticks": ""
           }
          },
          "colorscale": {
           "diverging": [
            [
             0,
             "#8e0152"
            ],
            [
             0.1,
             "#c51b7d"
            ],
            [
             0.2,
             "#de77ae"
            ],
            [
             0.3,
             "#f1b6da"
            ],
            [
             0.4,
             "#fde0ef"
            ],
            [
             0.5,
             "#f7f7f7"
            ],
            [
             0.6,
             "#e6f5d0"
            ],
            [
             0.7,
             "#b8e186"
            ],
            [
             0.8,
             "#7fbc41"
            ],
            [
             0.9,
             "#4d9221"
            ],
            [
             1,
             "#276419"
            ]
           ],
           "sequential": [
            [
             0,
             "#0d0887"
            ],
            [
             0.1111111111111111,
             "#46039f"
            ],
            [
             0.2222222222222222,
             "#7201a8"
            ],
            [
             0.3333333333333333,
             "#9c179e"
            ],
            [
             0.4444444444444444,
             "#bd3786"
            ],
            [
             0.5555555555555556,
             "#d8576b"
            ],
            [
             0.6666666666666666,
             "#ed7953"
            ],
            [
             0.7777777777777778,
             "#fb9f3a"
            ],
            [
             0.8888888888888888,
             "#fdca26"
            ],
            [
             1,
             "#f0f921"
            ]
           ],
           "sequentialminus": [
            [
             0,
             "#0d0887"
            ],
            [
             0.1111111111111111,
             "#46039f"
            ],
            [
             0.2222222222222222,
             "#7201a8"
            ],
            [
             0.3333333333333333,
             "#9c179e"
            ],
            [
             0.4444444444444444,
             "#bd3786"
            ],
            [
             0.5555555555555556,
             "#d8576b"
            ],
            [
             0.6666666666666666,
             "#ed7953"
            ],
            [
             0.7777777777777778,
             "#fb9f3a"
            ],
            [
             0.8888888888888888,
             "#fdca26"
            ],
            [
             1,
             "#f0f921"
            ]
           ]
          },
          "colorway": [
           "#636efa",
           "#EF553B",
           "#00cc96",
           "#ab63fa",
           "#FFA15A",
           "#19d3f3",
           "#FF6692",
           "#B6E880",
           "#FF97FF",
           "#FECB52"
          ],
          "font": {
           "color": "#2a3f5f"
          },
          "geo": {
           "bgcolor": "white",
           "lakecolor": "white",
           "landcolor": "#E5ECF6",
           "showlakes": true,
           "showland": true,
           "subunitcolor": "white"
          },
          "hoverlabel": {
           "align": "left"
          },
          "hovermode": "closest",
          "mapbox": {
           "style": "light"
          },
          "paper_bgcolor": "white",
          "plot_bgcolor": "#E5ECF6",
          "polar": {
           "angularaxis": {
            "gridcolor": "white",
            "linecolor": "white",
            "ticks": ""
           },
           "bgcolor": "#E5ECF6",
           "radialaxis": {
            "gridcolor": "white",
            "linecolor": "white",
            "ticks": ""
           }
          },
          "scene": {
           "xaxis": {
            "backgroundcolor": "#E5ECF6",
            "gridcolor": "white",
            "gridwidth": 2,
            "linecolor": "white",
            "showbackground": true,
            "ticks": "",
            "zerolinecolor": "white"
           },
           "yaxis": {
            "backgroundcolor": "#E5ECF6",
            "gridcolor": "white",
            "gridwidth": 2,
            "linecolor": "white",
            "showbackground": true,
            "ticks": "",
            "zerolinecolor": "white"
           },
           "zaxis": {
            "backgroundcolor": "#E5ECF6",
            "gridcolor": "white",
            "gridwidth": 2,
            "linecolor": "white",
            "showbackground": true,
            "ticks": "",
            "zerolinecolor": "white"
           }
          },
          "shapedefaults": {
           "line": {
            "color": "#2a3f5f"
           }
          },
          "ternary": {
           "aaxis": {
            "gridcolor": "white",
            "linecolor": "white",
            "ticks": ""
           },
           "baxis": {
            "gridcolor": "white",
            "linecolor": "white",
            "ticks": ""
           },
           "bgcolor": "#E5ECF6",
           "caxis": {
            "gridcolor": "white",
            "linecolor": "white",
            "ticks": ""
           }
          },
          "title": {
           "x": 0.05
          },
          "xaxis": {
           "automargin": true,
           "gridcolor": "white",
           "linecolor": "white",
           "ticks": "",
           "title": {
            "standoff": 15
           },
           "zerolinecolor": "white",
           "zerolinewidth": 2
          },
          "yaxis": {
           "automargin": true,
           "gridcolor": "white",
           "linecolor": "white",
           "ticks": "",
           "title": {
            "standoff": 15
           },
           "zerolinecolor": "white",
           "zerolinewidth": 2
          }
         }
        },
        "title": {
         "text": "Utilización de CPU por VM por cada política"
        },
        "xaxis": {
         "title": {
          "text": "Algoritmo"
         }
        },
        "yaxis": {
         "title": {
          "text": "Utilización de CPU (%)"
         }
        }
       }
      }
     },
     "metadata": {},
     "output_type": "display_data"
    }
   ],
   "source": [
    "# Cargar y pivotear los datos\n",
    "df_pivot = current_case_vms.pivot(index='Broker', columns='vm', values='vm_load').fillna(0)\n",
    "\n",
    "task_counts = current_cloudlets.groupby(['Broker', 'vm']).size()\n",
    "vm_color = 'blue'\n",
    "\n",
    "# Crear el gráfico\n",
    "fig = go.Figure()\n",
    "\n",
    "for vm in df_pivot.columns:\n",
    "    hover_data = []\n",
    "    for broker in df_pivot.index:\n",
    "        task_count = int(task_counts[broker][vm])\n",
    "        task_count = task_count if task_count >= 0 else 0\n",
    "        hover_data.append(f'VM {vm} (Tareas: {task_count})')\n",
    "    \n",
    "    vm_row = current_case_vms.loc[vm]\n",
    "    lab = f\"VM {vm} | Pes: {int(vm_row['Pes']):03d} | Mips: {int(vm_row['Mips']):03d}\"\n",
    "    fig.add_trace(go.Bar(\n",
    "        x=df_pivot.index,\n",
    "        y=df_pivot[vm],\n",
    "        name=lab,\n",
    "        hovertext=hover_data,\n",
    "    ))\n",
    "\n",
    "fig.update_layout(\n",
    "    barmode='stack',\n",
    "    xaxis_title='Algoritmo',\n",
    "    yaxis_title='Utilización de CPU (%)',\n",
    "    title='Utilización de CPU por VM por cada política'\n",
    ")\n",
    "fig.show()"
   ]
  },
  {
   "cell_type": "code",
   "execution_count": null,
   "metadata": {},
   "outputs": [],
   "source": [
    "import re\n",
    "def build_df(all_dict):\n",
    "    \"\"\"Combines all csv in one Dataframe\"\"\"\n",
    "    dfs = []\n",
    "    for scenario, df in all_dict.items():\n",
    "        patterns = re.findall(\"\\\\d{1,3}\",scenario)\n",
    "        df : pd.DataFrame\n",
    "        df[\"vm_num\"] = int(patterns[0])\n",
    "        df[\"cld_num\"] = int(patterns[1])\n",
    "        df = df.set_index([\"cld_num\"])\n",
    "        dfs.append(df)\n",
    "    \n",
    "    return pd.concat(dfs, axis=0).groupby([\"Broker\",\"vm_num\"]).apply(lambda x: x.sort_index(), include_groups=False)\n",
    "brokers_df =  build_df(all_cases_brokers)\n",
    "brokers_df\n",
    "vms_df =  build_df(all_cases_vms)\n",
    "vms_df\n",
    "cloudlets_df =  build_df(all_cases_cloudlets)\n",
    "cloudlets_df\n",
    "brokers_df[\"vm_num\",\"Maskespan\"].pivot(columns=[\"Maskespan\"])\n"
   ]
  }
 ],
 "metadata": {
  "kernelspec": {
   "display_name": "middlwares",
   "language": "python",
   "name": "python3"
  },
  "language_info": {
   "codemirror_mode": {
    "name": "ipython",
    "version": 3
   },
   "file_extension": ".py",
   "mimetype": "text/x-python",
   "name": "python",
   "nbconvert_exporter": "python",
   "pygments_lexer": "ipython3",
   "version": "3.13.0"
  }
 },
 "nbformat": 4,
 "nbformat_minor": 2
}
